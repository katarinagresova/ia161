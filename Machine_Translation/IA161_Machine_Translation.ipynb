{
  "nbformat": 4,
  "nbformat_minor": 0,
  "metadata": {
    "kernelspec": {
      "display_name": "Python 3",
      "language": "python",
      "name": "python3"
    },
    "language_info": {
      "codemirror_mode": {
        "name": "ipython",
        "version": 3
      },
      "file_extension": ".py",
      "mimetype": "text/x-python",
      "name": "python",
      "nbconvert_exporter": "python",
      "pygments_lexer": "ipython3",
      "version": "3.6.13"
    },
    "colab": {
      "name": "IA161_Machine_Translation.ipynb",
      "provenance": [],
      "collapsed_sections": [
        "KznnlQVZI-ia"
      ],
      "toc_visible": true
    },
    "accelerator": "GPU"
  },
  "cells": [
    {
      "cell_type": "code",
      "metadata": {
        "id": "9KKIkZS_I-iF"
      },
      "source": [
        "%matplotlib inline"
      ],
      "execution_count": 35,
      "outputs": []
    },
    {
      "cell_type": "markdown",
      "metadata": {
        "id": "3HeOr3GZuYXO"
      },
      "source": [
        "# NLP From Scratch: Translation with a Sequence to Sequence Network and Attention"
      ]
    },
    {
      "cell_type": "markdown",
      "metadata": {
        "id": "ZI9RAcDiuHus"
      },
      "source": [
        "## Origin\n",
        "\n",
        "This notebook commes from long line of predecessors. Its origin can be traced back to [IA161: Advanced NLP Course](https://nlp.fi.muni.cz/en/AdvancedNlpCourse/MachineTranslation#PracticalSession), [seq2seq_translation_tutorial](https://pytorch.org/tutorials/intermediate/seq2seq_translation_tutorial.html) and [Sean Robertson](https://github.com/spro/practical-pytorch>)."
      ]
    },
    {
      "cell_type": "markdown",
      "metadata": {
        "id": "iiyHHmyMTEn6"
      },
      "source": [
        "## Improvements\n",
        "\n",
        "So what is new compared to presious versions?\n",
        "- Minor changes in descripstions and formating.\n",
        "- Doing Czech to English translation (previous versions did just French to English).\n"
      ]
    },
    {
      "cell_type": "markdown",
      "metadata": {
        "id": "fG6dy36Suc2G"
      },
      "source": [
        "## Goal\n",
        "\n",
        "In this notebook, we will be teaching a neural network to translate from French and Czech to English:\n",
        "\n",
        "```\n",
        "[KEY: > input, = target, < output]\n",
        "\n",
        "> il est en train de peindre un tableau .\n",
        "= he is painting a picture .\n",
        "< he is painting a picture .\n",
        "\n",
        "> pourquoi ne pas essayer ce vin delicieux ?\n",
        "= why not try that delicious wine ?\n",
        "< why not try that delicious wine ?\n",
        "\n",
        "> elle n est pas poete mais romanciere .\n",
        "= she is not a poet but a novelist .\n",
        "< she not not a poet but a novelist .\n",
        "\n",
        "> vous etes trop maigre .\n",
        "= you re too skinny .\n",
        "< you re all alone .\n",
        "```\n",
        "\n",
        "... to varying degrees of success.\n",
        "\n"
      ]
    },
    {
      "cell_type": "markdown",
      "metadata": {
        "id": "CUY8B0yRI-iI"
      },
      "source": [
        "## Basic idea\n",
        "\n",
        "This is made possible by the simple but powerful idea of the [sequence\n",
        "to sequence network](https://arxiv.org/abs/1409.3215>), in which two\n",
        "recurrent neural networks work together to transform one sequence to\n",
        "another. An encoder network condenses an input sequence into a vector,\n",
        "and a decoder network unfolds that vector into a new sequence.\n",
        "\n",
        "All words are represented by numbers, because neural network works only with numbers. We have mapping between words and numbers outside of a network.\n",
        "\n",
        "![](https://pytorch.org/tutorials/_images/seq2seq.png)\n",
        "\n",
        "Decoder is presented with one token at a time on input. It takes this token and inner state to predict following token in a sentence. First input token is a start_of_sentence `<SOS>` token. Each predicted output token is then used as next input token for decoder. When decoder generated end_of_sentence `<EOS>` token, whole translation stops.\n",
        "\n",
        "To improve upon this model we'll use an [attention\n",
        "mechanism](https://arxiv.org/abs/1409.0473), which lets the decoder\n",
        "learn to focus over a specific range of the input sequence.\n",
        "\n"
      ]
    },
    {
      "cell_type": "markdown",
      "metadata": {
        "id": "SQ9uGkXmyIzX"
      },
      "source": [
        "## Recommended Reading\n",
        "\n",
        "Installation of PyTorch, knowledge of Python and understanding of Tensors is required:\n",
        "\n",
        "\n",
        "-  https://pytorch.org/ For installation instructions\n",
        "-  [Deep Learning with PyTorch: A 60 Minute Blitz](https://pytorch.org/tutorials/beginner/deep_learning_60min_blitz.html) to get started with PyTorch in general\n",
        "-  [Learning PyTorch with Examples](https://pytorch.org/tutorials/beginner/pytorch_with_examples.html) for a wide and deep overview\n",
        "-  [PyTorch for Former Torch Users](https://pytorch.org/tutorials/beginner/former_torchies_tutorial.html) if you are former Lua Torch user\n",
        "\n",
        "\n",
        "It would also be useful to know about Sequence to Sequence networks and\n",
        "how they work:\n",
        "\n",
        "-  [Learning Phrase Representations using RNN Encoder-Decoder for Statistical Machine Translation](https://arxiv.org/abs/1406.1078)\n",
        "-  [Sequence to Sequence Learning with Neural Networks](https://arxiv.org/abs/1409.3215)\n",
        "-  [Neural Machine Translation by Jointly Learning to Align and Translate](https://arxiv.org/abs/1409.0473)\n",
        "-  [A Neural Conversational Model](https://arxiv.org/abs/1506.05869)\n",
        "\n",
        "Pytorch is also providing tutorials for concempts that are very similar to the Encoder and Decoder models:\n",
        "\n",
        "- [NLP From Scratch: Classifying Names with a Character-Level RNN](https://pytorch.org/tutorials/intermediate/char_rnn_classification_tutorial.html)\n",
        "- [NLP From Scratch: Generating Names with a Character-Level RNN](https://pytorch.org/tutorials/intermediate/char_rnn_generation_tutorial.html)"
      ]
    },
    {
      "cell_type": "markdown",
      "metadata": {
        "id": "cb9pnPgB0kn-"
      },
      "source": [
        "# Setup"
      ]
    },
    {
      "cell_type": "markdown",
      "metadata": {
        "id": "Dey-9hG01Iv1"
      },
      "source": [
        "## Packages"
      ]
    },
    {
      "cell_type": "code",
      "metadata": {
        "id": "kvXLbTpEI-iL"
      },
      "source": [
        "from __future__ import unicode_literals, print_function, division\n",
        "from io import open\n",
        "import unicodedata\n",
        "import string\n",
        "import re\n",
        "import random\n",
        "\n",
        "import torch\n",
        "import torch.nn as nn\n",
        "from torch import optim\n",
        "import torch.nn.functional as F\n",
        "\n",
        "device = torch.device(\"cuda\" if torch.cuda.is_available() else \"cpu\")"
      ],
      "execution_count": 2,
      "outputs": []
    },
    {
      "cell_type": "markdown",
      "metadata": {
        "id": "GJF5chfHI-iM"
      },
      "source": [
        "## Data files\n",
        "\n",
        "\n",
        "The data for this notebook will be two sets:\n",
        "- English to French translation pairs and \n",
        "- Czech to English translation pairs\n",
        "\n",
        "The English to French pairs file is a tab separated list of translation pairs:\n",
        "\n",
        "```\n",
        "I am cold.    J'ai froid.\n",
        "```\n",
        "\n",
        "The Czech to English pairs are to files with alligned sentences:\n",
        "\n",
        "```\n",
        "Tady je další!    Here's another one!\n",
        "```\n",
        "\n"
      ]
    },
    {
      "cell_type": "markdown",
      "metadata": {
        "id": "if7mu-Q_49Bz"
      },
      "source": [
        "### English to French"
      ]
    },
    {
      "cell_type": "code",
      "metadata": {
        "id": "C0327u6ALgpX",
        "colab": {
          "base_uri": "https://localhost:8080/"
        },
        "outputId": "d3369156-2814-4629-ef68-5ee44ea68e03"
      },
      "source": [
        "!wget https://download.pytorch.org/tutorial/data.zip\n",
        "!unzip data.zip"
      ],
      "execution_count": 3,
      "outputs": [
        {
          "output_type": "stream",
          "name": "stdout",
          "text": [
            "--2021-11-20 12:42:44--  https://download.pytorch.org/tutorial/data.zip\n",
            "Resolving download.pytorch.org (download.pytorch.org)... 52.85.79.49, 52.85.79.72, 52.85.79.74, ...\n",
            "Connecting to download.pytorch.org (download.pytorch.org)|52.85.79.49|:443... connected.\n",
            "HTTP request sent, awaiting response... 200 OK\n",
            "Length: 2882130 (2.7M) [application/zip]\n",
            "Saving to: ‘data.zip’\n",
            "\n",
            "\rdata.zip              0%[                    ]       0  --.-KB/s               \rdata.zip            100%[===================>]   2.75M  --.-KB/s    in 0.07s   \n",
            "\n",
            "2021-11-20 12:42:44 (39.1 MB/s) - ‘data.zip’ saved [2882130/2882130]\n",
            "\n",
            "Archive:  data.zip\n",
            "   creating: data/\n",
            "  inflating: data/eng-fra.txt        \n",
            "   creating: data/names/\n",
            "  inflating: data/names/Arabic.txt   \n",
            "  inflating: data/names/Chinese.txt  \n",
            "  inflating: data/names/Czech.txt    \n",
            "  inflating: data/names/Dutch.txt    \n",
            "  inflating: data/names/English.txt  \n",
            "  inflating: data/names/French.txt   \n",
            "  inflating: data/names/German.txt   \n",
            "  inflating: data/names/Greek.txt    \n",
            "  inflating: data/names/Irish.txt    \n",
            "  inflating: data/names/Italian.txt  \n",
            "  inflating: data/names/Japanese.txt  \n",
            "  inflating: data/names/Korean.txt   \n",
            "  inflating: data/names/Polish.txt   \n",
            "  inflating: data/names/Portuguese.txt  \n",
            "  inflating: data/names/Russian.txt  \n",
            "  inflating: data/names/Scottish.txt  \n",
            "  inflating: data/names/Spanish.txt  \n",
            "  inflating: data/names/Vietnamese.txt  \n"
          ]
        }
      ]
    },
    {
      "cell_type": "markdown",
      "metadata": {
        "id": "KQCUI9Kr8O5v"
      },
      "source": [
        "Splitting eng-fra file into two files so we have the same structure as cz-eng dataset."
      ]
    },
    {
      "cell_type": "code",
      "metadata": {
        "id": "8XkhQH_R74Gy"
      },
      "source": [
        "!cut -f 1 data/eng-fra.txt  > engfra.en\n",
        "!cut -f 2 data/eng-fra.txt  > engfra.fr"
      ],
      "execution_count": 4,
      "outputs": []
    },
    {
      "cell_type": "markdown",
      "metadata": {
        "id": "YCoBcUfy4q0u"
      },
      "source": [
        "### Czech to English\n",
        "\n",
        "Czech and English training files have 2.7G and 2.6G, downloading takes a few minutes."
      ]
    },
    {
      "cell_type": "code",
      "metadata": {
        "colab": {
          "base_uri": "https://localhost:8080/"
        },
        "id": "tnqNj2ID4eck",
        "outputId": "049ccffd-148b-4f56-8aa5-267dc315edf5"
      },
      "source": [
        "!wget https://nlp.fi.muni.cz/projekty/ficet-czeng/nmt-data-download/czeng20-train.cs\n",
        "!wget https://nlp.fi.muni.cz/projekty/ficet-czeng/nmt-data-download/czeng20-train.en"
      ],
      "execution_count": 5,
      "outputs": [
        {
          "output_type": "stream",
          "name": "stdout",
          "text": [
            "--2021-11-20 12:42:45--  https://nlp.fi.muni.cz/projekty/ficet-czeng/nmt-data-download/czeng20-train.cs\n",
            "Resolving nlp.fi.muni.cz (nlp.fi.muni.cz)... 147.251.51.11\n",
            "Connecting to nlp.fi.muni.cz (nlp.fi.muni.cz)|147.251.51.11|:443... connected.\n",
            "HTTP request sent, awaiting response... 200 OK\n",
            "Length: 2852927998 (2.7G)\n",
            "Saving to: ‘czeng20-train.cs’\n",
            "\n",
            "czeng20-train.cs    100%[===================>]   2.66G  23.4MB/s    in 1m 56s  \n",
            "\n",
            "2021-11-20 12:44:41 (23.4 MB/s) - ‘czeng20-train.cs’ saved [2852927998/2852927998]\n",
            "\n",
            "--2021-11-20 12:44:42--  https://nlp.fi.muni.cz/projekty/ficet-czeng/nmt-data-download/czeng20-train.en\n",
            "Resolving nlp.fi.muni.cz (nlp.fi.muni.cz)... 147.251.51.11\n",
            "Connecting to nlp.fi.muni.cz (nlp.fi.muni.cz)|147.251.51.11|:443... connected.\n",
            "HTTP request sent, awaiting response... 200 OK\n",
            "Length: 2718346801 (2.5G)\n",
            "Saving to: ‘czeng20-train.en’\n",
            "\n",
            "czeng20-train.en    100%[===================>]   2.53G  23.5MB/s    in 1m 51s  \n",
            "\n",
            "2021-11-20 12:46:33 (23.4 MB/s) - ‘czeng20-train.en’ saved [2718346801/2718346801]\n",
            "\n"
          ]
        }
      ]
    },
    {
      "cell_type": "code",
      "metadata": {
        "id": "Y4Syu8dKH6ST"
      },
      "source": [
        "!head -n500000 czeng20-train.cs > czeng.cs\n",
        "!head -n500000 czeng20-train.en > czeng.en"
      ],
      "execution_count": 6,
      "outputs": []
    },
    {
      "cell_type": "markdown",
      "metadata": {
        "id": "mPM-103r6u9t"
      },
      "source": [
        "# Data preparation"
      ]
    },
    {
      "cell_type": "markdown",
      "metadata": {
        "id": "BjYeUAi3I-iM"
      },
      "source": [
        "Similar to the character encoding used in the character-level RNN tutorials, we will be representing each word in a language as a one-hot vector, or giant vector of zeros except for a single one (at the index of the word). Compared to the dozens of characters that might exist in a language, there are many many more words, so the encoding vector is much larger. We will however cheat a bit and trim the data to only use a few thousand words per language.\n",
        "\n",
        "![](https://pytorch.org/tutorials/_images/word-encoding.png)\n",
        "\n"
      ]
    },
    {
      "cell_type": "markdown",
      "metadata": {
        "id": "kQgAPOOVI-iO"
      },
      "source": [
        "We'll need a unique index per word to use as the inputs and targets of\n",
        "the networks later. To keep track of all this we will use a helper class\n",
        "called `Lang` which has word → index (`word2index`) and index → word\n",
        "(`index2word`) dictionaries, as well as a count of each word\n",
        "`word2count` which will be used to replace rare words later.\n",
        "\n",
        "\n"
      ]
    },
    {
      "cell_type": "code",
      "metadata": {
        "id": "T6VqPKF6I-iO"
      },
      "source": [
        "SOS_token = 0\n",
        "EOS_token = 1\n",
        "\n",
        "\n",
        "class Lang:\n",
        "    def __init__(self, name):\n",
        "        self.name = name\n",
        "        self.word2index = {}\n",
        "        self.word2count = {}\n",
        "        self.index2word = {0: \"SOS\", 1: \"EOS\"}\n",
        "        self.n_words = 2  # Count SOS and EOS\n",
        "\n",
        "    def addSentence(self, sentence):\n",
        "        for word in sentence.split(' '):\n",
        "            self.addWord(word)\n",
        "\n",
        "    def addWord(self, word):\n",
        "        if word not in self.word2index:\n",
        "            self.word2index[word] = self.n_words\n",
        "            self.word2count[word] = 1\n",
        "            self.index2word[self.n_words] = word\n",
        "            self.n_words += 1\n",
        "        else:\n",
        "            self.word2count[word] += 1"
      ],
      "execution_count": 7,
      "outputs": []
    },
    {
      "cell_type": "markdown",
      "metadata": {
        "id": "j5iAA239I-iP"
      },
      "source": [
        "The files are all in Unicode, to simplify we will turn Unicode\n",
        "characters to ASCII, make everything lowercase, and trim most\n",
        "punctuation.\n",
        "\n",
        "Normalization to make proprocessing easier and faster.\n",
        "\n",
        "\n"
      ]
    },
    {
      "cell_type": "code",
      "metadata": {
        "id": "fQKRtE4sI-iQ"
      },
      "source": [
        "# Turn a Unicode string to plain ASCII, thanks to\n",
        "# https://stackoverflow.com/a/518232/2809427\n",
        "def unicodeToAscii(s):\n",
        "    return ''.join(\n",
        "        c for c in unicodedata.normalize('NFD', s)\n",
        "        if unicodedata.category(c) != 'Mn'\n",
        "    )\n",
        "\n",
        "# Lowercase, trim, and remove non-letter characters\n",
        "def normalizeString(s):\n",
        "    s = unicodeToAscii(s.lower().strip())\n",
        "    s = re.sub(r\"([.!?])\", r\" \\1\", s)\n",
        "    s = re.sub(r\"[^a-zA-Z.!?]+\", r\" \", s)\n",
        "    return s"
      ],
      "execution_count": 8,
      "outputs": []
    },
    {
      "cell_type": "markdown",
      "metadata": {
        "id": "-Ya1lzfiI-iQ"
      },
      "source": [
        "To read the data file we will split the file into lines, and then split\n",
        "lines into pairs. The files are all English → Other Language, so if we\n",
        "want to translate from Other Language → English I added the ``reverse``\n",
        "flag to reverse the pairs.\n",
        "\n",
        "\n"
      ]
    },
    {
      "cell_type": "code",
      "metadata": {
        "id": "dqLfdPqTI-iQ"
      },
      "source": [
        "def readLangs(lang1, lang1_file, lang2, lang2_file, reverse=False):\n",
        "    print(\"Reading pairs...\")\n",
        "\n",
        "    # Read the files and split into lines\n",
        "    lang1_lines = open(lang1_file, encoding='utf-8').\\\n",
        "        read().strip().split('\\n')\n",
        "    lang2_lines = open(lang2_file, encoding='utf-8').\\\n",
        "        read().strip().split('\\n')\n",
        "\n",
        "    # Put language lines into pairs\n",
        "    pairs = [[normalizeString(lang1_line), normalizeString(lang2_line)] for lang1_line, lang2_line in zip(lang1_lines, lang2_lines)]\n",
        "    \n",
        "    # Reverse pairs, make Lang instances\n",
        "    if reverse:\n",
        "        pairs = [list(reversed(p)) for p in pairs]\n",
        "        input_lang = Lang(lang2)\n",
        "        output_lang = Lang(lang1)\n",
        "    else:\n",
        "        input_lang = Lang(lang1)\n",
        "        output_lang = Lang(lang2)\n",
        "\n",
        "    return input_lang, output_lang, pairs"
      ],
      "execution_count": 9,
      "outputs": []
    },
    {
      "cell_type": "markdown",
      "metadata": {
        "id": "Hw-euFMiI-iR"
      },
      "source": [
        "Since there are a *lot* of example sentences and we want to train\n",
        "something quickly, we'll trim the data set to only relatively short and\n",
        "simple sentences. Here the maximum length is 10 words (that includes\n",
        "ending punctuation) and we're filtering to sentences that translate to\n",
        "the form \"I am\" or \"He is\" etc. (accounting for apostrophes replaced\n",
        "earlier).\n",
        "\n",
        "We have only sentences in this form \"I am ...\" - training for this type of data is quicker.\n",
        "\n",
        "\n"
      ]
    },
    {
      "cell_type": "code",
      "metadata": {
        "id": "1GH8aQOaI-iR"
      },
      "source": [
        "MAX_LENGTH = 10\n",
        "\n",
        "eng_prefixes = (\n",
        "    \"i am \", \"i m \",\n",
        "    \"he is\", \"he s \",\n",
        "    \"she is\", \"she s \",\n",
        "    \"you are\", \"you re \",\n",
        "    \"we are\", \"we re \",\n",
        "    \"they are\", \"they re \"\n",
        ")\n",
        "\n",
        "\n",
        "def filterPair(p):\n",
        "    return len(p[0].split(' ')) < MAX_LENGTH and \\\n",
        "        len(p[1].split(' ')) < MAX_LENGTH and \\\n",
        "        p[1].startswith(eng_prefixes)\n",
        "\n",
        "\n",
        "def filterPairs(pairs):\n",
        "    return [pair for pair in pairs if filterPair(pair)]"
      ],
      "execution_count": 10,
      "outputs": []
    },
    {
      "cell_type": "markdown",
      "metadata": {
        "id": "g4efRpX_I-iS"
      },
      "source": [
        "The full process for preparing the data is:\n",
        "\n",
        "-  Read text file and split into lines, split lines into pairs\n",
        "-  Normalize text, filter by length and content\n",
        "-  Make word lists from sentences in pairs\n",
        "\n",
        "\n"
      ]
    },
    {
      "cell_type": "code",
      "metadata": {
        "id": "YzInNR64I-iS"
      },
      "source": [
        "def prepareData(lang1, lang1_file, lang2, lang2_file, reverse=False):\n",
        "    input_lang, output_lang, pairs = readLangs(lang1, lang1_file, lang2, lang2_file, reverse)\n",
        "    print(\"Read %s sentence pairs\" % len(pairs))\n",
        "    pairs = filterPairs(pairs)\n",
        "    print(\"Trimmed to %s sentence pairs\" % len(pairs))\n",
        "    print(\"Counting words...\")\n",
        "    for pair in pairs:\n",
        "        input_lang.addSentence(pair[0])\n",
        "        output_lang.addSentence(pair[1])\n",
        "    print(\"Counted words:\")\n",
        "    print(input_lang.name, input_lang.n_words)\n",
        "    print(output_lang.name, output_lang.n_words)\n",
        "    return input_lang, output_lang, pairs"
      ],
      "execution_count": 11,
      "outputs": []
    },
    {
      "cell_type": "code",
      "metadata": {
        "colab": {
          "base_uri": "https://localhost:8080/"
        },
        "id": "Qy4ogCcUI52B",
        "outputId": "608cc198-4073-4a54-a294-95d84e8086aa"
      },
      "source": [
        "input_freng, output_freng, pairs_freng = prepareData('eng', 'engfra.en', 'fra', 'engfra.fr', True)\n",
        "print(random.choice(pairs_freng))"
      ],
      "execution_count": 12,
      "outputs": [
        {
          "output_type": "stream",
          "name": "stdout",
          "text": [
            "Reading pairs...\n",
            "Read 135842 sentence pairs\n",
            "Trimmed to 10599 sentence pairs\n",
            "Counting words...\n",
            "Counted words:\n",
            "fra 4345\n",
            "eng 2803\n",
            "['ils sont tous mauvais .', 'they re all bad .']\n"
          ]
        }
      ]
    },
    {
      "cell_type": "code",
      "metadata": {
        "colab": {
          "base_uri": "https://localhost:8080/"
        },
        "id": "6o9Ng0gRGYnj",
        "outputId": "8d63b68e-06c9-41c9-a493-296cd9932c6e"
      },
      "source": [
        "input_czeng, output_czeng, pairs_czeng = prepareData('eng', 'czeng.en', 'cz', 'czeng.cs', True)\n",
        "print(random.choice(pairs_czeng))"
      ],
      "execution_count": 13,
      "outputs": [
        {
          "output_type": "stream",
          "name": "stdout",
          "text": [
            "Reading pairs...\n",
            "Read 500000 sentence pairs\n",
            "Trimmed to 11737 sentence pairs\n",
            "Counting words...\n",
            "Counted words:\n",
            "cz 8630\n",
            "eng 5578\n",
            "['je mi to lito phuong .', 'i m sorry phuong .']\n"
          ]
        }
      ]
    },
    {
      "cell_type": "markdown",
      "metadata": {
        "id": "bHTGCwVdI-iS"
      },
      "source": [
        "The Seq2Seq Model\n",
        "=================\n",
        "\n",
        "A Recurrent Neural Network, or RNN, is a network that operates on a\n",
        "sequence and uses its own output as input for subsequent steps.\n",
        "\n",
        "A [Sequence to Sequence network](https://arxiv.org/abs/1409.3215), or\n",
        "seq2seq network, or [Encoder Decoder\n",
        "network](https://arxiv.org/pdf/1406.1078v3.pdf), is a model\n",
        "consisting of two RNNs called the encoder and decoder. The encoder reads\n",
        "an input sequence and outputs a single vector, and the decoder reads\n",
        "that vector to produce an output sequence.\n",
        "\n",
        "![](https://pytorch.org/tutorials/_images/seq2seq.png)\n",
        "\n",
        "Unlike sequence prediction with a single RNN, where every input\n",
        "corresponds to an output, the seq2seq model frees us from sequence\n",
        "length and order, which makes it ideal for translation between two\n",
        "languages.\n",
        "\n",
        "Consider the sentence \"Je ne suis pas le chat noir\" → \"I am not the\n",
        "black cat\". Most of the words in the input sentence have a direct\n",
        "translation in the output sentence, but are in slightly different\n",
        "orders, e.g. \"chat noir\" and \"black cat\". Because of the \"ne/pas\"\n",
        "construction there is also one more word in the input sentence. It would\n",
        "be difficult to produce a correct translation directly from the sequence\n",
        "of input words.\n",
        "\n",
        "With a seq2seq model the encoder creates a single vector which, in the\n",
        "ideal case, encodes the \"meaning\" of the input sequence into a single\n",
        "vector — a single point in some N dimensional space of sentences.\n",
        "\n",
        "\n"
      ]
    },
    {
      "cell_type": "markdown",
      "metadata": {
        "id": "mPS9l2DBI-iT"
      },
      "source": [
        "## The Encoder\n",
        "\n",
        "\n",
        "The encoder of a seq2seq network is a RNN that outputs some value for\n",
        "every word from the input sentence. For every input word the encoder\n",
        "outputs a vector and a hidden state, and uses the hidden state for the\n",
        "next input word.\n",
        "\n",
        "![](https://pytorch.org/tutorials/_images/encoder-network.png)\n",
        "\n",
        "Input is word encoded as one-hot vector with length of lexicon. We use embedding layer to map one-hot vector to some shorter vector with real numbers. \n",
        "\n",
        "\n",
        "\n"
      ]
    },
    {
      "cell_type": "code",
      "metadata": {
        "id": "Ck0XJj57I-iT"
      },
      "source": [
        "class EncoderRNN(nn.Module):\n",
        "    def __init__(self, input_size, hidden_size):\n",
        "        super(EncoderRNN, self).__init__()\n",
        "        self.hidden_size = hidden_size\n",
        "\n",
        "        self.embedding = nn.Embedding(input_size, hidden_size)\n",
        "        self.gru = nn.GRU(hidden_size, hidden_size)\n",
        "\n",
        "    # this computation corresponds to presented graph of the encoder\n",
        "    def forward(self, input, hidden):\n",
        "        embedded = self.embedding(input).view(1, 1, -1)\n",
        "        output, hidden = self.gru(embedded, hidden)\n",
        "        return output, hidden\n",
        "\n",
        "    def initHidden(self):\n",
        "        return torch.zeros(1, 1, self.hidden_size, device=device)"
      ],
      "execution_count": 14,
      "outputs": []
    },
    {
      "cell_type": "markdown",
      "metadata": {
        "id": "PzmeFaDsI-iT"
      },
      "source": [
        "The Decoder\n",
        "-----------\n",
        "\n",
        "The decoder is another RNN that takes the encoder output vector(s) and\n",
        "outputs a sequence of words to create the translation.\n",
        "\n",
        "\n"
      ]
    },
    {
      "cell_type": "markdown",
      "metadata": {
        "id": "FjsyjN3oI-iT"
      },
      "source": [
        "### Simple Decoder\n",
        "\n",
        "In the simplest seq2seq decoder we use only last output of the encoder.\n",
        "This last output is sometimes called the *context vector* as it encodes\n",
        "context from the entire sequence. This context vector is used as the\n",
        "initial hidden state of the decoder.\n",
        "\n",
        "At every step of decoding, the decoder is given an input token and\n",
        "hidden state. The initial input token is the start-of-string ``<SOS>``\n",
        "token, and the first hidden state is the context vector (the encoder's\n",
        "last hidden state).\n",
        "\n",
        "![](https://pytorch.org/tutorials/_images/decoder-network.png)\n",
        "\n",
        "input: previous word.  \n",
        "output: statistical probility of words on output. \n",
        "\n",
        "\n"
      ]
    },
    {
      "cell_type": "code",
      "metadata": {
        "id": "KHZWfH2zI-iU"
      },
      "source": [
        "class DecoderRNN(nn.Module):\n",
        "    def __init__(self, hidden_size, output_size):\n",
        "        super(DecoderRNN, self).__init__()\n",
        "        self.hidden_size = hidden_size\n",
        "\n",
        "        self.embedding = nn.Embedding(output_size, hidden_size)\n",
        "        self.gru = nn.GRU(hidden_size, hidden_size)\n",
        "        self.out = nn.Linear(hidden_size, output_size)\n",
        "        self.softmax = nn.LogSoftmax(dim=1)\n",
        "\n",
        "    # this computation corresponds to presented graph of the decoder\n",
        "    # variable 'output' is used for intermediate calculations in the left part of graph\n",
        "    def forward(self, input, hidden):\n",
        "        output = self.embedding(input).view(1, 1, -1)\n",
        "        output = F.relu(output)\n",
        "        output, hidden = self.gru(output, hidden)\n",
        "        output = self.softmax(self.out(output[0]))\n",
        "        return output, hidden\n",
        "\n",
        "    def initHidden(self):\n",
        "        return torch.zeros(1, 1, self.hidden_size, device=device)"
      ],
      "execution_count": 15,
      "outputs": []
    },
    {
      "cell_type": "markdown",
      "metadata": {
        "id": "bccY1i5hI-iU"
      },
      "source": [
        "### Attention Decoder\n",
        "\n",
        "\n",
        "If only the context vector is passed between the encoder and decoder,\n",
        "that single vector carries the burden of encoding the entire sentence.\n",
        "\n",
        "Attention allows the decoder network to \"focus\" on a different part of\n",
        "the encoder's outputs for every step of the decoder's own outputs. First\n",
        "we calculate a set of *attention weights*. These will be multiplied by\n",
        "the encoder output vectors to create a weighted combination. The result\n",
        "(called ``attn_applied`` in the code) should contain information about\n",
        "that specific part of the input sequence, and thus help the decoder\n",
        "choose the right output words.\n",
        "\n",
        "![](https://i.imgur.com/1152PYf.png)\n",
        "\n",
        "For each of input tokens, prepare scores how they are important for decoding current token. \n",
        "\n",
        "Calculating the attention weights is done with another feed-forward\n",
        "layer ``attn``, using the decoder's input and hidden state as inputs.\n",
        "Because there are sentences of all sizes in the training data, to\n",
        "actually create and train this layer we have to choose a maximum\n",
        "sentence length (input length, for encoder outputs) that it can apply\n",
        "to. Sentences of the maximum length will use all the attention weights,\n",
        "while shorter sentences will only use the first few.\n",
        "\n",
        "![](https://pytorch.org/tutorials/_images/attention-decoder-network.png)\n",
        "\n",
        "Bottom part is the same as in previous picture of decoder. But input are prev_hidden are changed. \n",
        "Attention is of size of hidden layer (I think). They are combined with encoder_outputs.\n",
        "\n"
      ]
    },
    {
      "cell_type": "code",
      "metadata": {
        "id": "Sc2jx15NI-iU"
      },
      "source": [
        "class AttnDecoderRNN(nn.Module):\n",
        "    def __init__(self, hidden_size, output_size, dropout_p=0.1, max_length=MAX_LENGTH):\n",
        "        super(AttnDecoderRNN, self).__init__()\n",
        "        self.hidden_size = hidden_size\n",
        "        self.output_size = output_size\n",
        "        self.dropout_p = dropout_p\n",
        "        self.max_length = max_length\n",
        "\n",
        "        self.embedding = nn.Embedding(self.output_size, self.hidden_size)\n",
        "        self.attn = nn.Linear(self.hidden_size * 2, self.max_length)\n",
        "        self.attn_combine = nn.Linear(self.hidden_size * 2, self.hidden_size)\n",
        "        self.dropout = nn.Dropout(self.dropout_p)\n",
        "        self.gru = nn.GRU(self.hidden_size, self.hidden_size)\n",
        "        self.out = nn.Linear(self.hidden_size, self.output_size)\n",
        "\n",
        "    # this is slightly more complicated, but computation still corresponds to presented graph of the attention decoder\n",
        "    def forward(self, input, hidden, encoder_outputs):\n",
        "        embedded = self.embedding(input).view(1, 1, -1)\n",
        "        embedded = self.dropout(embedded)\n",
        "\n",
        "        attn_weights = F.softmax(\n",
        "            self.attn(torch.cat((embedded[0], hidden[0]), 1)), dim=1)\n",
        "        attn_applied = torch.bmm(attn_weights.unsqueeze(0),\n",
        "                                 encoder_outputs.unsqueeze(0))\n",
        "\n",
        "        output = torch.cat((embedded[0], attn_applied[0]), 1)\n",
        "        output = self.attn_combine(output).unsqueeze(0)\n",
        "\n",
        "        output = F.relu(output)\n",
        "        output, hidden = self.gru(output, hidden)\n",
        "\n",
        "        output = F.log_softmax(self.out(output[0]), dim=1)\n",
        "        return output, hidden, attn_weights\n",
        "\n",
        "    def initHidden(self):\n",
        "        return torch.zeros(1, 1, self.hidden_size, device=device)"
      ],
      "execution_count": 16,
      "outputs": []
    },
    {
      "cell_type": "markdown",
      "metadata": {
        "id": "qRy5vRmRI-iV"
      },
      "source": [
        "\n",
        "# Training\n",
        "\n"
      ]
    },
    {
      "cell_type": "markdown",
      "metadata": {
        "id": "ea8YmZV6u3uV"
      },
      "source": [
        "## Preparing Training Data\n",
        "\n",
        "\n",
        "To train, for each pair we will need an input tensor (indexes of the\n",
        "words in the input sentence) and target tensor (indexes of the words in\n",
        "the target sentence). While creating these vectors we will append the\n",
        "EOS token to both sequences.\n"
      ]
    },
    {
      "cell_type": "code",
      "metadata": {
        "id": "lR8tKeFXI-iV"
      },
      "source": [
        "def indexesFromSentence(lang, sentence):\n",
        "    return [lang.word2index[word] for word in sentence.split(' ')]\n",
        "\n",
        "\n",
        "def tensorFromSentence(lang, sentence):\n",
        "    indexes = indexesFromSentence(lang, sentence)\n",
        "    indexes.append(EOS_token)\n",
        "    return torch.tensor(indexes, dtype=torch.long, device=device).view(-1, 1)\n",
        "\n",
        "\n",
        "def tensorsFromPair(pair, input_lang, output_lang):\n",
        "    input_tensor = tensorFromSentence(input_lang, pair[0])\n",
        "    target_tensor = tensorFromSentence(output_lang, pair[1])\n",
        "    return (input_tensor, target_tensor)"
      ],
      "execution_count": 17,
      "outputs": []
    },
    {
      "cell_type": "markdown",
      "metadata": {
        "id": "Q9L-95AUI-iV"
      },
      "source": [
        "## Training the Model\n",
        "\n",
        "\n",
        "To train we run the input sentence through the encoder, and keep track\n",
        "of every output and the latest hidden state. We don't need outputs for simple decoder without attention, but we need them when we are using attention, to apply attention to outputs. Then the decoder is given\n",
        "the ``<SOS>`` token as its first input, and the last hidden state of the\n",
        "encoder as its first hidden state.\n",
        "\n",
        "\"Teacher forcing\" is the concept of using the real target outputs as\n",
        "each next input, instead of using the decoder's guess as the next input.\n",
        "Using teacher forcing causes it to converge faster but [when the trained\n",
        "network is exploited, it may exhibit\n",
        "instability](http://citeseerx.ist.psu.edu/viewdoc/download?doi=10.1.1.378.4095&rep=rep1&type=pdf).\n",
        "\n",
        "You can observe outputs of teacher-forced networks that read with\n",
        "coherent grammar but wander far from the correct translation -\n",
        "intuitively it has learned to represent the output grammar and can \"pick\n",
        "up\" the meaning once the teacher tells it the first few words, but it\n",
        "has not properly learned how to create the sentence from the translation\n",
        "in the first place.\n",
        "\n",
        "Because of the freedom PyTorch's autograd gives us, we can randomly\n",
        "choose to use teacher forcing or not with a simple if statement. Turn\n",
        "``teacher_forcing_ratio`` up to use more of it.\n",
        "\n",
        "\n"
      ]
    },
    {
      "cell_type": "code",
      "metadata": {
        "id": "Kju5bQgsI-iW"
      },
      "source": [
        "teacher_forcing_ratio = 0.5\n",
        "\n",
        "# training of one sentecnce\n",
        "def train(input_tensor, target_tensor, encoder, decoder, encoder_optimizer, decoder_optimizer, criterion, max_length=MAX_LENGTH):\n",
        "    # initialization of hidden layer of encoder\n",
        "    encoder_hidden = encoder.initHidden()\n",
        "\n",
        "    encoder_optimizer.zero_grad()\n",
        "    decoder_optimizer.zero_grad()\n",
        "\n",
        "    input_length = input_tensor.size(0)\n",
        "    target_length = target_tensor.size(0)\n",
        "\n",
        "    encoder_outputs = torch.zeros(max_length, encoder.hidden_size, device=device)\n",
        "\n",
        "    loss = 0\n",
        "\n",
        "    # encoder part\n",
        "    # for each token, we run encoder and record the hidden vector of the encoder for later processes\n",
        "    for ei in range(input_length):\n",
        "        encoder_output, encoder_hidden = encoder(\n",
        "            input_tensor[ei], encoder_hidden)\n",
        "        encoder_outputs[ei] = encoder_output[0, 0]\n",
        "\n",
        "    # input is the start_of_sentence token\n",
        "    decoder_input = torch.tensor([[SOS_token]], device=device)\n",
        "    # first hidden layer is the last hidden vector of encoder\n",
        "    decoder_hidden = encoder_hidden\n",
        "\n",
        "    use_teacher_forcing = True if random.random() < teacher_forcing_ratio else False\n",
        "\n",
        "    if use_teacher_forcing:\n",
        "        # Teacher forcing: Feed the target as the next input\n",
        "        # for each workd we run one step of decoder\n",
        "        for di in range(target_length):\n",
        "            decoder_output, decoder_hidden, decoder_attention = decoder(\n",
        "                decoder_input, decoder_hidden, encoder_outputs)\n",
        "            # target_tensor contains words we expect on output\n",
        "            loss += criterion(decoder_output, target_tensor[di])\n",
        "            decoder_input = target_tensor[di]  # Teacher forcing\n",
        "\n",
        "    else:\n",
        "        # Without teacher forcing: use its own predictions as the next input\n",
        "        for di in range(target_length):\n",
        "            decoder_output, decoder_hidden, decoder_attention = decoder(\n",
        "                decoder_input, decoder_hidden, encoder_outputs)\n",
        "            topv, topi = decoder_output.topk(1)\n",
        "            decoder_input = topi.squeeze().detach()  # detach from history as input\n",
        "\n",
        "            loss += criterion(decoder_output, target_tensor[di])\n",
        "            if decoder_input.item() == EOS_token:\n",
        "                break\n",
        "\n",
        "    # at the end of sequence - backward propagation of error, computes (..)\n",
        "    loss.backward()\n",
        "\n",
        "    # updates parameters accordint to computed (..)\n",
        "    encoder_optimizer.step()\n",
        "    decoder_optimizer.step()\n",
        "\n",
        "    return loss.item() / target_length"
      ],
      "execution_count": 18,
      "outputs": []
    },
    {
      "cell_type": "markdown",
      "metadata": {
        "id": "C3xX2cUaI-iW"
      },
      "source": [
        "This is a helper function to print time elapsed and estimated time\n",
        "remaining given the current time and progress %.\n",
        "\n",
        "\n"
      ]
    },
    {
      "cell_type": "code",
      "metadata": {
        "id": "ECltzAnoI-iW"
      },
      "source": [
        "import time\n",
        "import math\n",
        "\n",
        "\n",
        "def asMinutes(s):\n",
        "    m = math.floor(s / 60)\n",
        "    s -= m * 60\n",
        "    return '%dm %ds' % (m, s)\n",
        "\n",
        "\n",
        "def timeSince(since, percent):\n",
        "    now = time.time()\n",
        "    s = now - since\n",
        "    es = s / (percent)\n",
        "    rs = es - s\n",
        "    return '%s (- %s)' % (asMinutes(s), asMinutes(rs))"
      ],
      "execution_count": 19,
      "outputs": []
    },
    {
      "cell_type": "markdown",
      "metadata": {
        "id": "Fbtil-0ZI-iW"
      },
      "source": [
        "The whole training process looks like this:\n",
        "\n",
        "-  Start a timer\n",
        "-  Initialize optimizers and criterion\n",
        "-  Create set of training pairs\n",
        "-  Start empty losses array for plotting\n",
        "\n",
        "Then we call ``train`` many times and occasionally print the progress (%\n",
        "of examples, time so far, estimated time) and average loss.\n",
        "\n",
        "\n"
      ]
    },
    {
      "cell_type": "code",
      "metadata": {
        "id": "VJnF7Ic1I-iX"
      },
      "source": [
        "def trainIters(encoder, decoder, n_iters, input_lang, output_lang, print_every=1000, plot_every=100, learning_rate=0.01):\n",
        "    start = time.time()\n",
        "    plot_losses = []\n",
        "    print_loss_total = 0  # Reset every print_every\n",
        "    plot_loss_total = 0  # Reset every plot_every\n",
        "\n",
        "    encoder_optimizer = optim.SGD(encoder.parameters(), lr=learning_rate)\n",
        "    decoder_optimizer = optim.SGD(decoder.parameters(), lr=learning_rate)\n",
        "    training_pairs = [tensorsFromPair(random.choice(pairs), input_lang, output_lang)\n",
        "                      for i in range(n_iters)]\n",
        "    criterion = nn.NLLLoss()\n",
        "\n",
        "    for iter in range(1, n_iters + 1):\n",
        "        training_pair = training_pairs[iter - 1]\n",
        "        input_tensor = training_pair[0]\n",
        "        target_tensor = training_pair[1]\n",
        "\n",
        "        loss = train(input_tensor, target_tensor, encoder,\n",
        "                     decoder, encoder_optimizer, decoder_optimizer, criterion)\n",
        "        print_loss_total += loss\n",
        "        plot_loss_total += loss\n",
        "\n",
        "        if iter % print_every == 0:\n",
        "            print_loss_avg = print_loss_total / print_every\n",
        "            print_loss_total = 0\n",
        "            print('%s (%d %d%%) %.4f' % (timeSince(start, iter / n_iters),\n",
        "                                         iter, iter / n_iters * 100, print_loss_avg))\n",
        "\n",
        "        if iter % plot_every == 0:\n",
        "            plot_loss_avg = plot_loss_total / plot_every\n",
        "            plot_losses.append(plot_loss_avg)\n",
        "            plot_loss_total = 0\n",
        "\n",
        "    showPlot(plot_losses)"
      ],
      "execution_count": 20,
      "outputs": []
    },
    {
      "cell_type": "markdown",
      "metadata": {
        "id": "5GNa9BxTI-iX"
      },
      "source": [
        "Plotting results\n",
        "----------------\n",
        "\n",
        "Plotting is done with matplotlib, using the array of loss values\n",
        "``plot_losses`` saved while training.\n",
        "\n",
        "\n"
      ]
    },
    {
      "cell_type": "code",
      "metadata": {
        "id": "iS7ioqrmI-iX"
      },
      "source": [
        "import matplotlib.pyplot as plt\n",
        "plt.switch_backend('agg')\n",
        "import matplotlib.ticker as ticker\n",
        "import numpy as np\n",
        "\n",
        "\n",
        "def showPlot(points):\n",
        "    plt.figure()\n",
        "    fig, ax = plt.subplots()\n",
        "    # this locator puts ticks at regular intervals\n",
        "    loc = ticker.MultipleLocator(base=0.2)\n",
        "    ax.yaxis.set_major_locator(loc)\n",
        "    plt.plot(points)"
      ],
      "execution_count": 21,
      "outputs": []
    },
    {
      "cell_type": "markdown",
      "metadata": {
        "id": "PN9lJjQWI-iX"
      },
      "source": [
        "Evaluation\n",
        "==========\n",
        "\n",
        "Evaluation is mostly the same as training, but there are no targets so\n",
        "we simply feed the decoder's predictions back to itself for each step.\n",
        "Every time it predicts a word we add it to the output string, and if it\n",
        "predicts the EOS token we stop there. We also store the decoder's\n",
        "attention outputs for display later.\n",
        "\n",
        "\n"
      ]
    },
    {
      "cell_type": "code",
      "metadata": {
        "id": "acVqVxiUI-iY"
      },
      "source": [
        "def evaluate(encoder, decoder, sentence, input_lang, output_lang, max_length=MAX_LENGTH):\n",
        "    with torch.no_grad():\n",
        "        input_tensor = tensorFromSentence(input_lang, sentence)\n",
        "        input_length = input_tensor.size()[0]\n",
        "        encoder_hidden = encoder.initHidden()\n",
        "\n",
        "        encoder_outputs = torch.zeros(max_length, encoder.hidden_size, device=device)\n",
        "\n",
        "        for ei in range(input_length):\n",
        "            encoder_output, encoder_hidden = encoder(input_tensor[ei],\n",
        "                                                     encoder_hidden)\n",
        "            encoder_outputs[ei] += encoder_output[0, 0]\n",
        "\n",
        "        decoder_input = torch.tensor([[SOS_token]], device=device)  # SOS\n",
        "\n",
        "        decoder_hidden = encoder_hidden\n",
        "\n",
        "        decoded_words = []\n",
        "        decoder_attentions = torch.zeros(max_length, max_length)\n",
        "\n",
        "        for di in range(max_length):\n",
        "            decoder_output, decoder_hidden, decoder_attention = decoder(\n",
        "                decoder_input, decoder_hidden, encoder_outputs)\n",
        "            decoder_attentions[di] = decoder_attention.data\n",
        "            topv, topi = decoder_output.data.topk(1)\n",
        "            if topi.item() == EOS_token:\n",
        "                decoded_words.append('<EOS>')\n",
        "                break\n",
        "            else:\n",
        "                decoded_words.append(output_lang.index2word[topi.item()])\n",
        "\n",
        "            decoder_input = topi.squeeze().detach()\n",
        "\n",
        "        return decoded_words, decoder_attentions[:di + 1]"
      ],
      "execution_count": 22,
      "outputs": []
    },
    {
      "cell_type": "markdown",
      "metadata": {
        "id": "_VOqyn4zI-iY"
      },
      "source": [
        "We can evaluate random sentences from the training set and print out the\n",
        "input, target, and output to make some subjective quality judgements:\n",
        "\n",
        "\n"
      ]
    },
    {
      "cell_type": "code",
      "metadata": {
        "id": "Zn81qMO8I-iY"
      },
      "source": [
        "def evaluateRandomly(encoder, decoder, input_lang, output_lang, n=10):\n",
        "    for i in range(n):\n",
        "        pair = random.choice(pairs)\n",
        "        print('>', pair[0])\n",
        "        print('=', pair[1])\n",
        "        output_words, attentions = evaluate(encoder, decoder, pair[0], input_lang, output_lang)\n",
        "        output_sentence = ' '.join(output_words)\n",
        "        print('<', output_sentence)\n",
        "        print('')"
      ],
      "execution_count": 23,
      "outputs": []
    },
    {
      "cell_type": "markdown",
      "metadata": {
        "id": "Zb97CM7mI-iY"
      },
      "source": [
        "# Training and Evaluating\n",
        "\n",
        "With all these helper functions in place (it looks like extra work, but\n",
        "it makes it easier to run multiple experiments) we can actually\n",
        "initialize a network and start training.\n",
        "\n",
        "Remember that the input sentences were heavily filtered. For this small\n",
        "dataset we can use relatively small networks of 256 hidden nodes and a\n",
        "single GRU layer. After about 40 minutes on a MacBook CPU (or 30 minutes on Colab with GPU) we'll get some reasonable results.\n",
        "\n",
        "_**Note:**\n",
        "   If you run this notebook you can train, interrupt the kernel,\n",
        "   evaluate, and continue training later. Comment out the lines where the\n",
        "   encoder and decoder are initialized and run ``trainIters`` again._\n",
        "\n",
        "\n"
      ]
    },
    {
      "cell_type": "markdown",
      "metadata": {
        "id": "ThVYivr4HENu"
      },
      "source": [
        "## French to English"
      ]
    },
    {
      "cell_type": "code",
      "metadata": {
        "id": "yYyNTAosI-iZ",
        "colab": {
          "base_uri": "https://localhost:8080/"
        },
        "outputId": "a3caef68-136d-482c-91f1-225c9057adc1"
      },
      "source": [
        "hidden_size = 256\n",
        "encoder_freng = EncoderRNN(input_freng.n_words, hidden_size).to(device)\n",
        "attn_decoder_freng = AttnDecoderRNN(hidden_size, output_freng.n_words, dropout_p=0.1).to(device)\n",
        "pairs = pairs_freng\n",
        "\n",
        "trainIters(encoder_freng, attn_decoder_freng, 75000, input_lang=input_freng, output_lang=output_freng, print_every=5000)"
      ],
      "execution_count": 24,
      "outputs": [
        {
          "output_type": "stream",
          "name": "stdout",
          "text": [
            "2m 12s (- 31m 0s) (5000 6%) 2.8566\n",
            "4m 19s (- 28m 9s) (10000 13%) 2.2896\n",
            "6m 25s (- 25m 42s) (15000 20%) 1.9498\n",
            "8m 31s (- 23m 26s) (20000 26%) 1.7183\n",
            "10m 37s (- 21m 15s) (25000 33%) 1.5214\n",
            "12m 43s (- 19m 5s) (30000 40%) 1.3174\n",
            "14m 49s (- 16m 56s) (35000 46%) 1.1823\n",
            "16m 56s (- 14m 49s) (40000 53%) 1.0707\n",
            "19m 3s (- 12m 42s) (45000 60%) 0.9942\n",
            "21m 10s (- 10m 35s) (50000 66%) 0.8971\n",
            "23m 17s (- 8m 28s) (55000 73%) 0.8211\n",
            "25m 24s (- 6m 21s) (60000 80%) 0.7485\n",
            "27m 32s (- 4m 14s) (65000 86%) 0.6543\n",
            "29m 41s (- 2m 7s) (70000 93%) 0.6000\n",
            "31m 48s (- 0m 0s) (75000 100%) 0.5637\n"
          ]
        }
      ]
    },
    {
      "cell_type": "code",
      "metadata": {
        "id": "9P4Iewq_I-iZ",
        "colab": {
          "base_uri": "https://localhost:8080/"
        },
        "outputId": "443e609a-4d3a-4eed-c27d-02df3672623c"
      },
      "source": [
        "evaluateRandomly(encoder_freng, attn_decoder_freng, input_freng, output_freng)"
      ],
      "execution_count": 25,
      "outputs": [
        {
          "output_type": "stream",
          "name": "stdout",
          "text": [
            "> je n ai pas peur des fantomes .\n",
            "= i m not afraid of ghosts .\n",
            "< i m not afraid of ghosts . <EOS>\n",
            "\n",
            "> nous sommes differents .\n",
            "= we re different .\n",
            "< we re different . <EOS>\n",
            "\n",
            "> ce n est pas toi qui dirige .\n",
            "= you re not in charge .\n",
            "< you re not in charge . <EOS>\n",
            "\n",
            "> tu es nerveusement usee .\n",
            "= you re a nervous wreck .\n",
            "< you re a nervous wreck . <EOS>\n",
            "\n",
            "> je vais devenir avocat .\n",
            "= i m going to be a lawyer .\n",
            "< i m going to be your lawyer . <EOS>\n",
            "\n",
            "> vous etes givrees !\n",
            "= you re nuts !\n",
            "< you re nuts ! <EOS>\n",
            "\n",
            "> je suis egoiste .\n",
            "= i m selfish .\n",
            "< i m selfish . <EOS>\n",
            "\n",
            "> elle n est pas tout a fait satisfaite .\n",
            "= she is not quite content .\n",
            "< she s not quite all . <EOS>\n",
            "\n",
            "> je ne crains personne .\n",
            "= i m not scared of anybody .\n",
            "< i m not scared of anybody . <EOS>\n",
            "\n",
            "> il est ivre .\n",
            "= he is drunk .\n",
            "< he is drunk . <EOS>\n",
            "\n"
          ]
        }
      ]
    },
    {
      "cell_type": "markdown",
      "metadata": {
        "id": "ABij19j0QIps"
      },
      "source": [
        "## Czech to English"
      ]
    },
    {
      "cell_type": "code",
      "metadata": {
        "colab": {
          "base_uri": "https://localhost:8080/"
        },
        "id": "QGxmUXfgQNRw",
        "outputId": "e5441976-677b-48cd-ef00-193aec8913eb"
      },
      "source": [
        "hidden_size = 256\n",
        "encoder_czeng = EncoderRNN(input_czeng.n_words, hidden_size).to(device)\n",
        "attn_decoder_czeng = AttnDecoderRNN(hidden_size, output_czeng.n_words, dropout_p=0.1).to(device)\n",
        "pairs = pairs_czeng\n",
        "\n",
        "trainIters(encoder_czeng, attn_decoder_czeng, 75000, input_lang=input_czeng, output_lang=output_czeng, print_every=5000)"
      ],
      "execution_count": 26,
      "outputs": [
        {
          "output_type": "stream",
          "name": "stdout",
          "text": [
            "2m 11s (- 30m 35s) (5000 6%) 3.1697\n",
            "4m 15s (- 27m 40s) (10000 13%) 2.7159\n",
            "6m 20s (- 25m 20s) (15000 20%) 2.4821\n",
            "8m 25s (- 23m 9s) (20000 26%) 2.2859\n",
            "10m 31s (- 21m 2s) (25000 33%) 2.1495\n",
            "12m 37s (- 18m 55s) (30000 40%) 2.0168\n",
            "14m 43s (- 16m 49s) (35000 46%) 1.8964\n",
            "16m 49s (- 14m 43s) (40000 53%) 1.7851\n",
            "18m 56s (- 12m 37s) (45000 60%) 1.6877\n",
            "21m 2s (- 10m 31s) (50000 66%) 1.5843\n",
            "23m 7s (- 8m 24s) (55000 73%) 1.5136\n",
            "25m 12s (- 6m 18s) (60000 80%) 1.4097\n",
            "27m 18s (- 4m 12s) (65000 86%) 1.3594\n",
            "29m 26s (- 2m 6s) (70000 93%) 1.2921\n",
            "31m 33s (- 0m 0s) (75000 100%) 1.1912\n"
          ]
        }
      ]
    },
    {
      "cell_type": "code",
      "metadata": {
        "colab": {
          "base_uri": "https://localhost:8080/"
        },
        "id": "qA7eoOJxQYu4",
        "outputId": "ec23da44-1f7f-45b6-ce01-47d6d83cc5ce"
      },
      "source": [
        "evaluateRandomly(encoder_czeng, attn_decoder_czeng, input_czeng, output_czeng)"
      ],
      "execution_count": 27,
      "outputs": [
        {
          "output_type": "stream",
          "name": "stdout",
          "text": [
            "> budu se s nim muset setkat .\n",
            "= i m gonna need to meet him .\n",
            "< i m gonna meet him him him . <EOS>\n",
            "\n",
            "> jenom zertuji frede .\n",
            "= i m just kidding fred .\n",
            "< i m just worried . <EOS>\n",
            "\n",
            "> jsem urcite hetero .\n",
            "= i m definitely straight .\n",
            "< i m definitely straight . <EOS>\n",
            "\n",
            "> je to mesias .\n",
            "= he s the messiah .\n",
            "< he s a . . <EOS>\n",
            "\n",
            "> musi vypadat dobre v televizi .\n",
            "= he s gotta look good on television .\n",
            "< he s gotta on good on s . <EOS>\n",
            "\n",
            "> jste pripraven za me zemrit ?\n",
            "= you re ready to die for me ?\n",
            "< you re to to die for me ? <EOS>\n",
            "\n",
            "> ty jsi zmetek .\n",
            "= you re an asshole .\n",
            "< you re an asshole . <EOS>\n",
            "\n",
            "> ja si nedelam srandu .\n",
            "= i m not making fun .\n",
            "< i m not kidding . <EOS>\n",
            "\n",
            "> neni zac .\n",
            "= you re welcome .\n",
            "< you re welcome . <EOS>\n",
            "\n",
            "> za to se omlouvam .\n",
            "= i m sorry about that .\n",
            "< i m sorry about what that . <EOS>\n",
            "\n"
          ]
        }
      ]
    },
    {
      "cell_type": "markdown",
      "metadata": {
        "id": "cHciXiR2r9_l"
      },
      "source": [
        "Train a little more, czech seems to be more complicated than french."
      ]
    },
    {
      "cell_type": "code",
      "metadata": {
        "id": "erO6d09zr71F",
        "outputId": "eef78b36-797e-4c51-e46c-d2de1bee7355",
        "colab": {
          "base_uri": "https://localhost:8080/",
          "height": 543
        }
      },
      "source": [
        "trainIters(encoder_czeng, attn_decoder_czeng, 75000, input_lang=input_czeng, output_lang=output_czeng, print_every=5000)"
      ],
      "execution_count": 41,
      "outputs": [
        {
          "output_type": "stream",
          "name": "stdout",
          "text": [
            "2m 15s (- 31m 37s) (5000 6%) 1.1487\n",
            "4m 22s (- 28m 25s) (10000 13%) 1.0764\n",
            "6m 28s (- 25m 53s) (15000 20%) 1.0296\n",
            "8m 33s (- 23m 32s) (20000 26%) 0.9449\n",
            "10m 38s (- 21m 16s) (25000 33%) 0.8687\n",
            "12m 42s (- 19m 3s) (30000 40%) 0.8576\n",
            "14m 46s (- 16m 53s) (35000 46%) 0.7980\n",
            "16m 52s (- 14m 45s) (40000 53%) 0.7463\n",
            "18m 58s (- 12m 39s) (45000 60%) 0.7143\n",
            "21m 5s (- 10m 32s) (50000 66%) 0.6999\n",
            "23m 11s (- 8m 26s) (55000 73%) 0.6443\n",
            "25m 19s (- 6m 19s) (60000 80%) 0.6102\n",
            "27m 27s (- 4m 13s) (65000 86%) 0.6159\n",
            "29m 35s (- 2m 6s) (70000 93%) 0.5561\n",
            "31m 43s (- 0m 0s) (75000 100%) 0.5377\n"
          ]
        },
        {
          "output_type": "display_data",
          "data": {
            "text/plain": [
              "<Figure size 432x288 with 0 Axes>"
            ]
          },
          "metadata": {}
        },
        {
          "output_type": "display_data",
          "data": {
            "image/png": "[encoded data removed]",
            "text/plain": [
              "<Figure size 432x288 with 1 Axes>"
            ]
          },
          "metadata": {
            "needs_background": "light"
          }
        }
      ]
    },
    {
      "cell_type": "code",
      "metadata": {
        "id": "T3FnMvOn02Lw",
        "outputId": "548c33c0-7012-442e-8866-0e8a54e934ab",
        "colab": {
          "base_uri": "https://localhost:8080/"
        }
      },
      "source": [
        "evaluateRandomly(encoder_czeng, attn_decoder_czeng, input_czeng, output_czeng)"
      ],
      "execution_count": 43,
      "outputs": [
        {
          "output_type": "stream",
          "name": "stdout",
          "text": [
            "> je o hlavu mensi nez ty .\n",
            "= he s half your size .\n",
            "< she s half your size . <EOS>\n",
            "\n",
            "> delate si srandu .\n",
            "= you re kidding .\n",
            "< you re kidding . <EOS>\n",
            "\n",
            "> jsi zraneny .\n",
            "= you re hurt .\n",
            "< you re hurt . <EOS>\n",
            "\n",
            "> to ti nezereme .\n",
            "= we re not buying it .\n",
            "< we re not buying it . <EOS>\n",
            "\n",
            "> vedes si skvele .\n",
            "= you re doing great .\n",
            "< you re doing great . <EOS>\n",
            "\n",
            "> je to vnimavy muz .\n",
            "= he s a perceptive man .\n",
            "< he s a perceptive man . <EOS>\n",
            "\n",
            "> jsou zoufali .\n",
            "= they are desperate .\n",
            "< they are desperate . <EOS>\n",
            "\n",
            "> vite jsme kazdy jiny .\n",
            "= we re all different you know .\n",
            "< we re all different you know . <EOS>\n",
            "\n",
            "> neni zac .\n",
            "= you re welcome .\n",
            "< you re welcome . <EOS>\n",
            "\n",
            "> opravdu se snazim co to jen jde .\n",
            "= i am trying my best .\n",
            "< i m trying trying to do . <EOS>\n",
            "\n"
          ]
        }
      ]
    },
    {
      "cell_type": "markdown",
      "metadata": {
        "id": "y81rgTnOrLJE"
      },
      "source": [
        "# Comparison\n",
        "\n",
        "Both models were trained in Colab with GPU\n",
        "\n"
      ]
    },
    {
      "cell_type": "markdown",
      "metadata": {
        "id": "Y62qAThSrpBn"
      },
      "source": [
        "### Fr-En translation\n",
        "\n",
        "Number of sentence pairs:\n",
        "\n",
        "`10 599`\n",
        "\n",
        "Train time: \n",
        "\n",
        "`31m 48s`\n",
        "\n",
        "Final loss:\n",
        "\n",
        "`0.5637`\n",
        "\n",
        "Evaluate Random:\n",
        "\n",
        "```\n",
        "> je n ai pas peur des fantomes .\n",
        "= i m not afraid of ghosts .\n",
        "< i m not afraid of ghosts . <EOS>\n",
        "\n",
        "> nous sommes differents .\n",
        "= we re different .\n",
        "< we re different . <EOS>\n",
        "\n",
        "> ce n est pas toi qui dirige .\n",
        "= you re not in charge .\n",
        "< you re not in charge . <EOS>\n",
        "\n",
        "> tu es nerveusement usee .\n",
        "= you re a nervous wreck .\n",
        "< you re a nervous wreck . <EOS>\n",
        "\n",
        "> je vais devenir avocat .\n",
        "= i m going to be a lawyer .\n",
        "< i m going to be your lawyer . <EOS>\n",
        "\n",
        "> vous etes givrees !\n",
        "= you re nuts !\n",
        "< you re nuts ! <EOS>\n",
        "\n",
        "> je suis egoiste .\n",
        "= i m selfish .\n",
        "< i m selfish . <EOS>\n",
        "\n",
        "> elle n est pas tout a fait satisfaite .\n",
        "= she is not quite content .\n",
        "< she s not quite all . <EOS>\n",
        "\n",
        "> je ne crains personne .\n",
        "= i m not scared of anybody .\n",
        "< i m not scared of anybody . <EOS>\n",
        "\n",
        "> il est ivre .\n",
        "= he is drunk .\n",
        "< he is drunk . <EOS>\n",
        "\n",
        "```"
      ]
    },
    {
      "cell_type": "markdown",
      "metadata": {
        "id": "NRoq55udc4Py"
      },
      "source": [
        "### Cz-En translation\n",
        "\n",
        "Number of sentence pairs:\n",
        "\n",
        "`11737`\n",
        "\n",
        "Train time: \n",
        "\n",
        "`31m 33s + 31m 43s`\n",
        "\n",
        "Final loss:\n",
        "\n",
        "`0.5377`\n",
        "\n",
        "Evaluate Random:\n",
        "\n",
        "```\n",
        "> je o hlavu mensi nez ty .\n",
        "= he s half your size .\n",
        "< she s half your size . <EOS>\n",
        "\n",
        "> delate si srandu .\n",
        "= you re kidding .\n",
        "< you re kidding . <EOS>\n",
        "\n",
        "> jsi zraneny .\n",
        "= you re hurt .\n",
        "< you re hurt . <EOS>\n",
        "\n",
        "> to ti nezereme .\n",
        "= we re not buying it .\n",
        "< we re not buying it . <EOS>\n",
        "\n",
        "> vedes si skvele .\n",
        "= you re doing great .\n",
        "< you re doing great . <EOS>\n",
        "\n",
        "> je to vnimavy muz .\n",
        "= he s a perceptive man .\n",
        "< he s a perceptive man . <EOS>\n",
        "\n",
        "> jsou zoufali .\n",
        "= they are desperate .\n",
        "< they are desperate . <EOS>\n",
        "\n",
        "> vite jsme kazdy jiny .\n",
        "= we re all different you know .\n",
        "< we re all different you know . <EOS>\n",
        "\n",
        "> neni zac .\n",
        "= you re welcome .\n",
        "< you re welcome . <EOS>\n",
        "\n",
        "> opravdu se snazim co to jen jde .\n",
        "= i am trying my best .\n",
        "< i m trying trying to do . <EOS>\n",
        "```"
      ]
    },
    {
      "cell_type": "markdown",
      "metadata": {
        "id": "Hy8F3gNPI-iZ"
      },
      "source": [
        "# Visualizing Attention\n",
        "\n",
        "\n",
        "A useful property of the attention mechanism is its highly interpretable\n",
        "outputs. Because it is used to weight specific encoder outputs of the\n",
        "input sequence, we can imagine looking where the network is focused most\n",
        "at each time step.\n",
        "\n",
        "You could simply run ``plt.matshow(attentions)`` to see attention output\n",
        "displayed as a matrix, with the columns being input steps and rows being\n",
        "output steps:\n",
        "\n",
        "\n"
      ]
    },
    {
      "cell_type": "code",
      "metadata": {
        "id": "CHs5QA0gI-iZ",
        "colab": {
          "base_uri": "https://localhost:8080/",
          "height": 292
        },
        "outputId": "53170313-ae57-4a03-8734-1b1768c33647"
      },
      "source": [
        "output_words, attentions = evaluate(\n",
        "    encoder_czeng, attn_decoder_czeng, \"ty jsi zmetek .\", input_czeng, output_czeng)\n",
        "plt.matshow(attentions.numpy())"
      ],
      "execution_count": 36,
      "outputs": [
        {
          "output_type": "execute_result",
          "data": {
            "text/plain": [
              "<matplotlib.image.AxesImage at 0x7f8e11bef750>"
            ]
          },
          "metadata": {},
          "execution_count": 36
        },
        {
          "output_type": "display_data",
          "data": {
            "image/png": "[encoded data removed]",
            "text/plain": [
              "<Figure size 480x288 with 1 Axes>"
            ]
          },
          "metadata": {
            "needs_background": "light"
          }
        }
      ]
    },
    {
      "cell_type": "markdown",
      "metadata": {
        "id": "cWC6Ob6uI-iZ"
      },
      "source": [
        "For a better viewing experience we will do the extra work of adding axes\n",
        "and labels:\n",
        "\n",
        "\n"
      ]
    },
    {
      "cell_type": "code",
      "metadata": {
        "id": "rTLVKX6KI-iZ",
        "colab": {
          "base_uri": "https://localhost:8080/",
          "height": 1000
        },
        "outputId": "7d7a17a1-f3c0-4990-f0eb-1d10d8d11b94"
      },
      "source": [
        "def showAttention(input_sentence, output_words, attentions):\n",
        "    # Set up figure with colorbar\n",
        "    fig = plt.figure()\n",
        "    ax = fig.add_subplot(111)\n",
        "    cax = ax.matshow(attentions.numpy(), cmap='bone')\n",
        "    fig.colorbar(cax)\n",
        "\n",
        "    # Set up axes\n",
        "    ax.set_xticklabels([''] + input_sentence.split(' ') +\n",
        "                       ['<EOS>'], rotation=90)\n",
        "    ax.set_yticklabels([''] + output_words)\n",
        "\n",
        "    # Show label at every tick\n",
        "    ax.xaxis.set_major_locator(ticker.MultipleLocator(1))\n",
        "    ax.yaxis.set_major_locator(ticker.MultipleLocator(1))\n",
        "\n",
        "    plt.show()\n",
        "\n",
        "\n",
        "def evaluateAndShowAttention(input_sentence):\n",
        "    output_words, attentions = evaluate(\n",
        "        encoder_czeng, attn_decoder_czeng, input_sentence, input_czeng, output_czeng\n",
        "    )\n",
        "    print('input =', input_sentence)\n",
        "    print('output =', ' '.join(output_words))\n",
        "    showAttention(input_sentence, output_words, attentions)\n",
        "\n",
        "\n",
        "evaluateAndShowAttention(\"ty jsi zmetek .\")\n",
        "evaluateAndShowAttention(\"vite jsme kazdy jiny .\")\n",
        "evaluateAndShowAttention(\"ja si nedelam srandu .\")\n",
        "evaluateAndShowAttention(\"je o hlavu mensi nez ty .\")"
      ],
      "execution_count": 44,
      "outputs": [
        {
          "output_type": "stream",
          "name": "stdout",
          "text": [
            "input = ty jsi zmetek .\n",
            "output = you re an asshole . <EOS>\n"
          ]
        },
        {
          "output_type": "display_data",
          "data": {
            "image/png": "[encoded data removed]",
            "text/plain": [
              "<Figure size 432x288 with 2 Axes>"
            ]
          },
          "metadata": {
            "needs_background": "light"
          }
        },
        {
          "output_type": "stream",
          "name": "stdout",
          "text": [
            "input = vite jsme kazdy jiny .\n",
            "output = we re all different you know . <EOS>\n"
          ]
        },
        {
          "output_type": "display_data",
          "data": {
            "image/png": "[encoded data removed]",
            "text/plain": [
              "<Figure size 432x288 with 2 Axes>"
            ]
          },
          "metadata": {
            "needs_background": "light"
          }
        },
        {
          "output_type": "stream",
          "name": "stdout",
          "text": [
            "input = ja si nedelam srandu .\n",
            "output = i m not gonna with . . <EOS>\n"
          ]
        },
        {
          "output_type": "display_data",
          "data": {
            "image/png": "[encoded data removed]",
            "text/plain": [
              "<Figure size 432x288 with 2 Axes>"
            ]
          },
          "metadata": {
            "needs_background": "light"
          }
        },
        {
          "output_type": "stream",
          "name": "stdout",
          "text": [
            "input = je o hlavu mensi nez ty .\n",
            "output = she s half your size . <EOS>\n"
          ]
        },
        {
          "output_type": "display_data",
          "data": {
            "image/png": "[encoded data removed]",
            "text/plain": [
              "<Figure size 432x288 with 2 Axes>"
            ]
          },
          "metadata": {
            "needs_background": "light"
          }
        }
      ]
    }
  ]
}