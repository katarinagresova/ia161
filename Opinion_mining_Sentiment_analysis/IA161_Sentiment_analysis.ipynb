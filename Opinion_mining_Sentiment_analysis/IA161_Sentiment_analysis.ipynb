{
  "nbformat": 4,
  "nbformat_minor": 0,
  "metadata": {
    "kernelspec": {
      "display_name": "Python 3",
      "language": "python",
      "name": "python3"
    },
    "language_info": {
      "codemirror_mode": {
        "name": "ipython",
        "version": 3
      },
      "file_extension": ".py",
      "mimetype": "text/x-python",
      "name": "python",
      "nbconvert_exporter": "python",
      "pygments_lexer": "ipython3",
      "version": "3.6.8"
    },
    "nbpresent": {
      "slides": {
        "004b13a1-f767-463b-80f7-8599c4e09e5a": {
          "id": "004b13a1-f767-463b-80f7-8599c4e09e5a",
          "prev": "af9260f5-c3c0-4457-8946-fc08623fdff8",
          "regions": {
            "a6fcc3e3-cb1a-44bf-b8c6-342f5fe53056": {
              "attrs": {
                "height": 0.8,
                "width": 0.8,
                "x": 0.1,
                "y": 0.1
              },
              "content": {
                "cell": "5c48f967-8d12-43d2-87e8-a08e5ebfb660",
                "part": "whole"
              },
              "id": "a6fcc3e3-cb1a-44bf-b8c6-342f5fe53056"
            }
          }
        },
        "09c98d86-d894-4fd9-847e-1b89789b4e7f": {
          "id": "09c98d86-d894-4fd9-847e-1b89789b4e7f",
          "prev": null,
          "regions": {
            "2256868b-7797-45fd-8b58-fc7f5a861635": {
              "attrs": {
                "height": 0.8,
                "width": 0.8,
                "x": 0.1,
                "y": 0.1
              },
              "content": {
                "cell": "f3dbef4d-9bf4-4e24-bcd0-a4ce3dd00fb8",
                "part": "whole"
              },
              "id": "2256868b-7797-45fd-8b58-fc7f5a861635"
            }
          }
        },
        "190227c4-a075-4074-ae84-e9ddf8e69560": {
          "id": "190227c4-a075-4074-ae84-e9ddf8e69560",
          "prev": "9726092c-f997-4a46-bef8-d0ea1cc64a60",
          "regions": {
            "68b26cc7-174a-4407-aea6-8930a804b4ec": {
              "attrs": {
                "height": 0.8,
                "width": 0.8,
                "x": 0.1,
                "y": 0.1
              },
              "content": {
                "cell": "9874742a-f8f7-4cf9-8f3c-a040b47c41d9",
                "part": "whole"
              },
              "id": "68b26cc7-174a-4407-aea6-8930a804b4ec"
            }
          }
        },
        "1b6bbadb-1200-45d3-a5e8-717091642c54": {
          "id": "1b6bbadb-1200-45d3-a5e8-717091642c54",
          "prev": "dab15b59-64b4-4c70-b208-dfdc24a948aa",
          "regions": {
            "7ce7bd82-d3d4-4803-8dd9-528da5d2c270": {
              "attrs": {
                "height": 0.8,
                "width": 0.8,
                "x": 0.1,
                "y": 0.1
              },
              "content": {
                "cell": "60ff129a-80bd-4c96-8f5e-8c2284f71f1c",
                "part": "whole"
              },
              "id": "7ce7bd82-d3d4-4803-8dd9-528da5d2c270"
            }
          }
        },
        "1ba27192-2b68-45b9-96f2-381167e1f808": {
          "id": "1ba27192-2b68-45b9-96f2-381167e1f808",
          "prev": "8f08e261-fb4a-4f9e-a021-23e6542c4a69",
          "regions": {
            "f20f9b58-448a-4e09-8a7a-e557b96affff": {
              "attrs": {
                "height": 0.8,
                "width": 0.8,
                "x": 0.1,
                "y": 0.1
              },
              "content": {
                "cell": "9dda77d1-4b69-48c2-b603-750748d4af25",
                "part": "whole"
              },
              "id": "f20f9b58-448a-4e09-8a7a-e557b96affff"
            }
          }
        },
        "24da9cf4-1ecd-4314-a35e-fa3ed8056970": {
          "id": "24da9cf4-1ecd-4314-a35e-fa3ed8056970",
          "prev": "6a61d64d-530f-4f94-a29e-7bdf66bfaadb",
          "regions": {
            "c935fde2-6e13-4ad3-a10d-107d6cd77246": {
              "attrs": {
                "height": 0.8,
                "width": 0.8,
                "x": 0.1,
                "y": 0.1
              },
              "content": {
                "cell": "f06795b7-b03f-4954-9ca6-3a1fb19fa500",
                "part": "whole"
              },
              "id": "c935fde2-6e13-4ad3-a10d-107d6cd77246"
            }
          }
        },
        "2c78a52b-56af-4232-ab1b-16abbe0a79bc": {
          "id": "2c78a52b-56af-4232-ab1b-16abbe0a79bc",
          "prev": "eb9a3413-8bc3-4e0b-b188-ef05e5f0c461",
          "regions": {
            "5e590248-29f7-48a3-a6f3-55d4b67755a6": {
              "attrs": {
                "height": 0.8,
                "width": 0.8,
                "x": 0.1,
                "y": 0.1
              },
              "content": {
                "cell": "74d938a4-4600-41ae-8cab-dd359e64cfa5",
                "part": "whole"
              },
              "id": "5e590248-29f7-48a3-a6f3-55d4b67755a6"
            }
          }
        },
        "375c8fec-6f3b-4b01-89ad-410c4f27a4d0": {
          "id": "375c8fec-6f3b-4b01-89ad-410c4f27a4d0",
          "prev": "c24ac2b3-9975-4ee4-b59c-df7f94db8722",
          "regions": {
            "7a6d15da-c3bd-480c-9dcf-52f2a1805a2c": {
              "attrs": {
                "height": 0.8,
                "width": 0.8,
                "x": 0.1,
                "y": 0.1
              },
              "content": {
                "cell": "61acf6bd-aeec-49fb-874a-ec19691ee757",
                "part": "whole"
              },
              "id": "7a6d15da-c3bd-480c-9dcf-52f2a1805a2c"
            }
          }
        },
        "3feede8b-0bbd-42b9-915c-56e40727cf62": {
          "id": "3feede8b-0bbd-42b9-915c-56e40727cf62",
          "prev": "f066aa28-05ba-4dde-81e2-7a9b7f104c55",
          "regions": {
            "35b0bd5b-37e5-4d53-95b0-d70d8d1ba55c": {
              "attrs": {
                "height": 0.8,
                "width": 0.8,
                "x": 0.1,
                "y": 0.1
              },
              "content": {
                "cell": "d0a48142-bed2-48de-a84b-219d3139581f",
                "part": "whole"
              },
              "id": "35b0bd5b-37e5-4d53-95b0-d70d8d1ba55c"
            }
          }
        },
        "49ff324a-a018-43ac-92a1-caeefeda1d0b": {
          "id": "49ff324a-a018-43ac-92a1-caeefeda1d0b",
          "prev": "e81dcf87-fb95-4d33-89f9-6d820212ff9e",
          "regions": {
            "52348175-fe80-4346-9fe7-e76b63ac6c47": {
              "attrs": {
                "height": 0.8,
                "width": 0.8,
                "x": 0.1,
                "y": 0.1
              },
              "content": {
                "cell": "332417aa-251e-4477-bac7-59e34406c66e",
                "part": "whole"
              },
              "id": "52348175-fe80-4346-9fe7-e76b63ac6c47"
            }
          }
        },
        "5381dda5-fd2a-4efd-8724-7c45c1f92c09": {
          "id": "5381dda5-fd2a-4efd-8724-7c45c1f92c09",
          "prev": "ec51efe5-ec7a-4b07-b785-fb71cabc2319",
          "regions": {
            "43c43c1a-872e-4494-85df-a7d10f9b0550": {
              "attrs": {
                "height": 0.8,
                "width": 0.8,
                "x": 0.1,
                "y": 0.1
              },
              "content": {
                "cell": "8a29bb08-cd2f-4c83-b858-15c44d56030e",
                "part": "whole"
              },
              "id": "43c43c1a-872e-4494-85df-a7d10f9b0550"
            }
          }
        },
        "550158c0-8f2f-40c4-92cb-c10c8bf2f930": {
          "id": "550158c0-8f2f-40c4-92cb-c10c8bf2f930",
          "prev": "7427ba6e-da4a-4c0a-a357-799c13de2113",
          "regions": {
            "3e87230b-64d2-49cb-9527-3e26bff3fc6e": {
              "attrs": {
                "height": 0.8,
                "width": 0.8,
                "x": 0.1,
                "y": 0.1
              },
              "content": {
                "cell": "e5b6eb2f-46cb-4ad5-8732-7fd7792b42ba",
                "part": "whole"
              },
              "id": "3e87230b-64d2-49cb-9527-3e26bff3fc6e"
            }
          }
        },
        "5b3a114a-ab45-43a4-8860-0245a98b26b9": {
          "id": "5b3a114a-ab45-43a4-8860-0245a98b26b9",
          "prev": "c7bf609c-1b48-4a11-8706-463abede978d",
          "regions": {
            "d70f470c-24d9-4c71-bd31-b0ff5a000dea": {
              "attrs": {
                "height": 0.8,
                "width": 0.8,
                "x": 0.1,
                "y": 0.1
              },
              "content": {
                "cell": "c7dc10b2-16ff-43df-9402-ce79b38f4d8c",
                "part": "whole"
              },
              "id": "d70f470c-24d9-4c71-bd31-b0ff5a000dea"
            }
          }
        },
        "69429285-5c7f-4b7d-9243-ffc917b8f9ce": {
          "id": "69429285-5c7f-4b7d-9243-ffc917b8f9ce",
          "prev": "84264ee2-a515-4a95-b20c-491a0b8782d1",
          "regions": {
            "c9737b90-5ddc-42b1-a601-3c83808677eb": {
              "attrs": {
                "height": 0.8,
                "width": 0.8,
                "x": 0.1,
                "y": 0.1
              },
              "content": {
                "cell": "86272d04-2637-4206-885b-4873f4b50a80",
                "part": "whole"
              },
              "id": "c9737b90-5ddc-42b1-a601-3c83808677eb"
            }
          }
        },
        "6a61d64d-530f-4f94-a29e-7bdf66bfaadb": {
          "id": "6a61d64d-530f-4f94-a29e-7bdf66bfaadb",
          "prev": "1ba27192-2b68-45b9-96f2-381167e1f808",
          "regions": {
            "6b39e02f-f47d-45eb-8c9a-74bdacfcefbd": {
              "attrs": {
                "height": 0.8,
                "width": 0.8,
                "x": 0.1,
                "y": 0.1
              },
              "content": {
                "cell": "7a8821c7-2bd8-4330-a54e-48f61b0516b7",
                "part": "whole"
              },
              "id": "6b39e02f-f47d-45eb-8c9a-74bdacfcefbd"
            }
          }
        },
        "6e077d54-1b52-4b86-bcc3-43c44fd3f6e7": {
          "id": "6e077d54-1b52-4b86-bcc3-43c44fd3f6e7",
          "prev": "09c98d86-d894-4fd9-847e-1b89789b4e7f",
          "regions": {
            "93aee066-0ee3-491f-8ec5-7b73809d608f": {
              "attrs": {
                "height": 0.8,
                "width": 0.8,
                "x": 0.1,
                "y": 0.1
              },
              "content": {
                "cell": "96ff352e-308d-4ab7-a68e-244141128deb",
                "part": "whole"
              },
              "id": "93aee066-0ee3-491f-8ec5-7b73809d608f"
            }
          }
        },
        "7427ba6e-da4a-4c0a-a357-799c13de2113": {
          "id": "7427ba6e-da4a-4c0a-a357-799c13de2113",
          "prev": "1b6bbadb-1200-45d3-a5e8-717091642c54",
          "regions": {
            "eb62c709-b1e2-4c5e-966b-c081b616e056": {
              "attrs": {
                "height": 0.8,
                "width": 0.8,
                "x": 0.1,
                "y": 0.1
              },
              "content": {
                "cell": "2ce12ebd-fed3-40ea-ade5-7c7031f112b0",
                "part": "whole"
              },
              "id": "eb62c709-b1e2-4c5e-966b-c081b616e056"
            }
          }
        },
        "82ef1bf7-b0ce-4b1e-bc4c-c22909ee151b": {
          "id": "82ef1bf7-b0ce-4b1e-bc4c-c22909ee151b",
          "prev": "a303924c-421d-46f2-a6ad-d056562ce673",
          "regions": {
            "277ec992-07c7-4baa-a94c-1b76972aa2e7": {
              "attrs": {
                "height": 0.8,
                "width": 0.8,
                "x": 0.1,
                "y": 0.1
              },
              "content": {
                "cell": "2015e579-b211-40e4-a3cd-f0af5008b018",
                "part": "whole"
              },
              "id": "277ec992-07c7-4baa-a94c-1b76972aa2e7"
            }
          }
        },
        "84264ee2-a515-4a95-b20c-491a0b8782d1": {
          "id": "84264ee2-a515-4a95-b20c-491a0b8782d1",
          "prev": "ddce1e58-49ae-43ce-8fec-2c4eefbe4150",
          "regions": {
            "3c987ec2-8841-4b25-92d2-1e9cdb8d22aa": {
              "attrs": {
                "height": 0.8,
                "width": 0.8,
                "x": 0.1,
                "y": 0.1
              },
              "content": {
                "cell": "122732e5-5b39-4ba8-9fbf-6834c9f6b085",
                "part": "whole"
              },
              "id": "3c987ec2-8841-4b25-92d2-1e9cdb8d22aa"
            }
          }
        },
        "8f08e261-fb4a-4f9e-a021-23e6542c4a69": {
          "id": "8f08e261-fb4a-4f9e-a021-23e6542c4a69",
          "prev": "69429285-5c7f-4b7d-9243-ffc917b8f9ce",
          "regions": {
            "f80acf31-ec63-4ed8-a556-c02639b9febf": {
              "attrs": {
                "height": 0.8,
                "width": 0.8,
                "x": 0.1,
                "y": 0.1
              },
              "content": {
                "cell": "d233effc-9d8e-40df-9765-b53dfdff3c68",
                "part": "whole"
              },
              "id": "f80acf31-ec63-4ed8-a556-c02639b9febf"
            }
          }
        },
        "9726092c-f997-4a46-bef8-d0ea1cc64a60": {
          "id": "9726092c-f997-4a46-bef8-d0ea1cc64a60",
          "prev": "f5da5529-f64c-4678-a224-aa88b1466107",
          "regions": {
            "6eba12aa-1328-44e4-b933-26cc140b4418": {
              "attrs": {
                "height": 0.8,
                "width": 0.8,
                "x": 0.1,
                "y": 0.1
              },
              "content": {
                "cell": "6e503bce-561b-49d9-883d-8b93c8f176ca",
                "part": "whole"
              },
              "id": "6eba12aa-1328-44e4-b933-26cc140b4418"
            }
          }
        },
        "9c16251f-341a-47cd-8681-36b426db2f9b": {
          "id": "9c16251f-341a-47cd-8681-36b426db2f9b",
          "prev": "b3321028-c076-46dc-95cf-d0e796eb2e9a",
          "regions": {
            "294ce83c-a6fe-47f0-9e51-fac58920b355": {
              "attrs": {
                "height": 0.8,
                "width": 0.8,
                "x": 0.1,
                "y": 0.1
              },
              "content": {
                "cell": "c3764e84-53bf-40df-b60b-070fae9140ee",
                "part": "whole"
              },
              "id": "294ce83c-a6fe-47f0-9e51-fac58920b355"
            }
          }
        },
        "9cf17728-2436-4f54-8c1c-4eafc4392021": {
          "id": "9cf17728-2436-4f54-8c1c-4eafc4392021",
          "prev": "550158c0-8f2f-40c4-92cb-c10c8bf2f930",
          "regions": {
            "d15d9370-cf49-4953-b12f-b925c0c2991d": {
              "attrs": {
                "height": 0.8,
                "width": 0.8,
                "x": 0.1,
                "y": 0.1
              },
              "content": {
                "cell": "b7a32c00-a4c7-49de-92fe-62ac6eae3a2e",
                "part": "whole"
              },
              "id": "d15d9370-cf49-4953-b12f-b925c0c2991d"
            }
          }
        },
        "a303924c-421d-46f2-a6ad-d056562ce673": {
          "id": "a303924c-421d-46f2-a6ad-d056562ce673",
          "prev": "9cf17728-2436-4f54-8c1c-4eafc4392021",
          "regions": {
            "5863ab77-2ce5-4da3-b392-7b3628f45d6a": {
              "attrs": {
                "height": 0.8,
                "width": 0.8,
                "x": 0.1,
                "y": 0.1
              },
              "content": {
                "cell": "2a521a06-187b-43fc-b7cb-8ce3f56e0a13",
                "part": "whole"
              },
              "id": "5863ab77-2ce5-4da3-b392-7b3628f45d6a"
            }
          }
        },
        "af9260f5-c3c0-4457-8946-fc08623fdff8": {
          "id": "af9260f5-c3c0-4457-8946-fc08623fdff8",
          "prev": "24da9cf4-1ecd-4314-a35e-fa3ed8056970",
          "regions": {
            "0607cc59-9de9-4fec-9a0b-cc94c72b6726": {
              "attrs": {
                "height": 0.8,
                "width": 0.8,
                "x": 0.1,
                "y": 0.1
              },
              "content": {
                "cell": "de5b327b-9089-482f-ae6f-39e6fe3dac32",
                "part": "whole"
              },
              "id": "0607cc59-9de9-4fec-9a0b-cc94c72b6726"
            }
          }
        },
        "b3321028-c076-46dc-95cf-d0e796eb2e9a": {
          "id": "b3321028-c076-46dc-95cf-d0e796eb2e9a",
          "prev": "2c78a52b-56af-4232-ab1b-16abbe0a79bc",
          "regions": {
            "9914a8c1-c8a1-431c-b3c3-4eb766c2d453": {
              "attrs": {
                "height": 0.8,
                "width": 0.8,
                "x": 0.1,
                "y": 0.1
              },
              "content": {
                "cell": "64ab734f-91f4-45c1-82a7-ce2cfbf80b2f",
                "part": "whole"
              },
              "id": "9914a8c1-c8a1-431c-b3c3-4eb766c2d453"
            }
          }
        },
        "ba9d22c2-c855-4506-9d76-3609d7331ae2": {
          "id": "ba9d22c2-c855-4506-9d76-3609d7331ae2",
          "prev": "82ef1bf7-b0ce-4b1e-bc4c-c22909ee151b",
          "regions": {
            "956bdaae-0aa8-4cfa-b9c8-6f208b2e2711": {
              "attrs": {
                "height": 0.8,
                "width": 0.8,
                "x": 0.1,
                "y": 0.1
              },
              "content": {
                "cell": "6cd5d476-5808-4544-a652-d70c566e51c6",
                "part": "whole"
              },
              "id": "956bdaae-0aa8-4cfa-b9c8-6f208b2e2711"
            }
          }
        },
        "c1674358-a4a8-49d6-8c9e-b9b654dec8d1": {
          "id": "c1674358-a4a8-49d6-8c9e-b9b654dec8d1",
          "prev": "ba9d22c2-c855-4506-9d76-3609d7331ae2",
          "regions": {
            "3ce06210-7b25-4f08-a488-aa45acb1eb25": {
              "attrs": {
                "height": 0.8,
                "width": 0.8,
                "x": 0.1,
                "y": 0.1
              },
              "content": {
                "cell": "f34815e0-c51e-42d5-a17d-04a497c6e17b",
                "part": "whole"
              },
              "id": "3ce06210-7b25-4f08-a488-aa45acb1eb25"
            }
          }
        },
        "c24ac2b3-9975-4ee4-b59c-df7f94db8722": {
          "id": "c24ac2b3-9975-4ee4-b59c-df7f94db8722",
          "prev": "5381dda5-fd2a-4efd-8724-7c45c1f92c09",
          "regions": {
            "fa876f10-c1e4-4cd5-b136-bf7e86ec8e93": {
              "attrs": {
                "height": 0.8,
                "width": 0.8,
                "x": 0.1,
                "y": 0.1
              },
              "content": {
                "cell": "c0a1ebc8-217f-4d49-9bcd-eeca4debf726",
                "part": "whole"
              },
              "id": "fa876f10-c1e4-4cd5-b136-bf7e86ec8e93"
            }
          }
        },
        "c7bf609c-1b48-4a11-8706-463abede978d": {
          "id": "c7bf609c-1b48-4a11-8706-463abede978d",
          "prev": "9c16251f-341a-47cd-8681-36b426db2f9b",
          "regions": {
            "af05ade8-5cca-41a1-b602-4aa86f78c2af": {
              "attrs": {
                "height": 0.8,
                "width": 0.8,
                "x": 0.1,
                "y": 0.1
              },
              "content": {
                "cell": "69c017ce-9d2f-4e23-9ceb-36e8a09889e0",
                "part": "whole"
              },
              "id": "af05ade8-5cca-41a1-b602-4aa86f78c2af"
            }
          }
        },
        "dab15b59-64b4-4c70-b208-dfdc24a948aa": {
          "id": "dab15b59-64b4-4c70-b208-dfdc24a948aa",
          "prev": "6e077d54-1b52-4b86-bcc3-43c44fd3f6e7",
          "regions": {
            "712cca5c-f412-4c2d-8507-66ea68041569": {
              "attrs": {
                "height": 0.8,
                "width": 0.8,
                "x": 0.1,
                "y": 0.1
              },
              "content": {
                "cell": "020e99ab-4d42-47c9-b637-d2b7dc72285c",
                "part": "whole"
              },
              "id": "712cca5c-f412-4c2d-8507-66ea68041569"
            }
          }
        },
        "ddce1e58-49ae-43ce-8fec-2c4eefbe4150": {
          "id": "ddce1e58-49ae-43ce-8fec-2c4eefbe4150",
          "prev": "e2bc7986-85cd-4e1d-b58e-b88847240960",
          "regions": {
            "e3925122-fe2c-46fe-bf26-5685cf07236d": {
              "attrs": {
                "height": 0.8,
                "width": 0.8,
                "x": 0.1,
                "y": 0.1
              },
              "content": {
                "cell": "c5c51550-7869-4d63-a72e-73a3305c82f7",
                "part": "whole"
              },
              "id": "e3925122-fe2c-46fe-bf26-5685cf07236d"
            }
          }
        },
        "e2bc7986-85cd-4e1d-b58e-b88847240960": {
          "id": "e2bc7986-85cd-4e1d-b58e-b88847240960",
          "prev": "fce974f8-f2a7-4753-8aea-fcc4fbb83df1",
          "regions": {
            "e59ee17e-ed54-45f5-b48a-2c251c4685fe": {
              "attrs": {
                "height": 0.8,
                "width": 0.8,
                "x": 0.1,
                "y": 0.1
              },
              "content": {
                "cell": "8950d61e-500f-4004-917a-6613dec78eac",
                "part": "whole"
              },
              "id": "e59ee17e-ed54-45f5-b48a-2c251c4685fe"
            }
          }
        },
        "e81dcf87-fb95-4d33-89f9-6d820212ff9e": {
          "id": "e81dcf87-fb95-4d33-89f9-6d820212ff9e",
          "prev": "190227c4-a075-4074-ae84-e9ddf8e69560",
          "regions": {
            "f7ec68ba-436f-42e5-aa80-3c24042a5632": {
              "attrs": {
                "height": 0.8,
                "width": 0.8,
                "x": 0.1,
                "y": 0.1
              },
              "content": {
                "cell": "f5a8fe74-4b1e-4ad3-b45b-344ae29f540e",
                "part": "whole"
              },
              "id": "f7ec68ba-436f-42e5-aa80-3c24042a5632"
            }
          }
        },
        "eb9a3413-8bc3-4e0b-b188-ef05e5f0c461": {
          "id": "eb9a3413-8bc3-4e0b-b188-ef05e5f0c461",
          "prev": "c1674358-a4a8-49d6-8c9e-b9b654dec8d1",
          "regions": {
            "e0ec3cdf-6b8b-44dc-88e4-ae4ad5bb151c": {
              "attrs": {
                "height": 0.8,
                "width": 0.8,
                "x": 0.1,
                "y": 0.1
              },
              "content": {
                "cell": "51434e41-a231-41e1-a087-1e788710ef58",
                "part": "whole"
              },
              "id": "e0ec3cdf-6b8b-44dc-88e4-ae4ad5bb151c"
            }
          }
        },
        "ec51efe5-ec7a-4b07-b785-fb71cabc2319": {
          "id": "ec51efe5-ec7a-4b07-b785-fb71cabc2319",
          "prev": "004b13a1-f767-463b-80f7-8599c4e09e5a",
          "regions": {
            "486a07de-4f1a-4d49-b42b-5164ae74c3ae": {
              "attrs": {
                "height": 0.8,
                "width": 0.8,
                "x": 0.1,
                "y": 0.1
              },
              "content": {
                "cell": "cf2caeae-95b8-45d3-8f78-6293cf823920",
                "part": "whole"
              },
              "id": "486a07de-4f1a-4d49-b42b-5164ae74c3ae"
            }
          }
        },
        "f066aa28-05ba-4dde-81e2-7a9b7f104c55": {
          "id": "f066aa28-05ba-4dde-81e2-7a9b7f104c55",
          "prev": "5b3a114a-ab45-43a4-8860-0245a98b26b9",
          "regions": {
            "7f0b334e-0138-480d-9f9f-5394ca004335": {
              "attrs": {
                "height": 0.8,
                "width": 0.8,
                "x": 0.1,
                "y": 0.1
              },
              "content": {
                "cell": "d63764e7-e961-4508-9148-263112f0f5a4",
                "part": "whole"
              },
              "id": "7f0b334e-0138-480d-9f9f-5394ca004335"
            }
          }
        },
        "f5da5529-f64c-4678-a224-aa88b1466107": {
          "id": "f5da5529-f64c-4678-a224-aa88b1466107",
          "prev": "375c8fec-6f3b-4b01-89ad-410c4f27a4d0",
          "regions": {
            "84471409-37dd-4cbf-a258-ef06e4e8d072": {
              "attrs": {
                "height": 0.8,
                "width": 0.8,
                "x": 0.1,
                "y": 0.1
              },
              "content": {
                "cell": "9fcfcdbd-7424-4cdc-a7be-23d241c7a20a",
                "part": "whole"
              },
              "id": "84471409-37dd-4cbf-a258-ef06e4e8d072"
            }
          }
        },
        "fce974f8-f2a7-4753-8aea-fcc4fbb83df1": {
          "id": "fce974f8-f2a7-4753-8aea-fcc4fbb83df1",
          "prev": "3feede8b-0bbd-42b9-915c-56e40727cf62",
          "regions": {
            "26c6a0b6-d747-4851-a539-42ffd65b2be7": {
              "attrs": {
                "height": 0.8,
                "width": 0.8,
                "x": 0.1,
                "y": 0.1
              },
              "content": {
                "cell": "ee81f282-5b75-4077-bbf5-c4632d0a2d96",
                "part": "whole"
              },
              "id": "26c6a0b6-d747-4851-a539-42ffd65b2be7"
            }
          }
        }
      },
      "themes": {}
    },
    "colab": {
      "name": "IA161_Sentiment_analysis.ipynb",
      "provenance": [],
      "collapsed_sections": [],
      "toc_visible": true,
      "include_colab_link": true
    }
  },
  "cells": [
    {
      "cell_type": "markdown",
      "metadata": {
        "id": "view-in-github",
        "colab_type": "text"
      },
      "source": [
        "<a href=\"https://colab.research.google.com/github/katarinagresova/ia161/blob/main/Opinion_mining_Sentiment_analysis/IA161_Sentiment_analysis.ipynb\" target=\"_parent\"><img src=\"https://colab.research.google.com/assets/colab-badge.svg\" alt=\"Open In Colab\"/></a>"
      ]
    },
    {
      "cell_type": "markdown",
      "metadata": {
        "nbpresent": {
          "id": "f3dbef4d-9bf4-4e24-bcd0-a4ce3dd00fb8"
        },
        "id": "bZslM_O1FZx6"
      },
      "source": [
        "# Sentiment Analysis\n",
        "\n",
        "Inspired by [Word Vectors from PMI Matrix](https://www.kaggle.com/gabrielaltay/word-vectors-from-pmi-matrix) and [Sentiment Analysis (Text Mining)](https://www.kaggle.com/rosado/sentiment-analysis-text-mining).\n",
        "\n",
        "The aim of this notebook is to demonstrate sentiment analysis, particularly on new words from the crowd-sourced website http://cestina20.cz. We scraped the data from Cestina 2.0 into a [CSV file](http://nlp.fi.muni.cz/trac/research/raw-attachment/wiki/private/AdvancedNlpCourse/OpinionSentiment/cestina20.csv) that is part of this project.\n",
        "\n",
        "First, we try to recognize the sentiment of dictionary entries using the [Liu's Opinion Lexicon](https://www.cs.uic.edu/~liub/FBS/sentiment-analysis.html#lexicon). For Czech, we automatically translated the entries using Google Translate and files are part of this project: [positive-words-cs.txt](http://nlp.fi.muni.cz/trac/research/raw-attachment/wiki/private/AdvancedNlpCourse/OpinionSentiment/positive-words-cs.txt) and [negative-words-cs.txt](http://nlp.fi.muni.cz/trac/research/raw-attachment/wiki/private/AdvancedNlpCourse/OpinionSentiment/negative-words-cs.txt).\n"
      ]
    },
    {
      "cell_type": "markdown",
      "metadata": {
        "id": "WBH3CwEwGoG5"
      },
      "source": [
        "# Setup"
      ]
    },
    {
      "cell_type": "markdown",
      "metadata": {
        "id": "liOlaHucHpYX"
      },
      "source": [
        "## Get the data\n",
        "\n",
        "Download the data using `wget`."
      ]
    },
    {
      "cell_type": "code",
      "metadata": {
        "id": "GqX7odWuH0-O",
        "colab": {
          "base_uri": "https://localhost:8080/"
        },
        "outputId": "3d4af825-3cbb-4615-ccbd-51c1f702f6ee"
      },
      "source": [
        "!wget http://nlp.fi.muni.cz/trac/research/raw-attachment/wiki/private/AdvancedNlpCourse/OpinionSentiment/cestina20.csv\n",
        "!wget http://nlp.fi.muni.cz/trac/research/raw-attachment/wiki/private/AdvancedNlpCourse/OpinionSentiment/positive-words-cs.txt\n",
        "!wget http://nlp.fi.muni.cz/trac/research/raw-attachment/wiki/private/AdvancedNlpCourse/OpinionSentiment/negative-words-cs.txt"
      ],
      "execution_count": 1,
      "outputs": [
        {
          "output_type": "stream",
          "name": "stdout",
          "text": [
            "--2021-11-20 16:08:00--  http://nlp.fi.muni.cz/trac/research/raw-attachment/wiki/private/AdvancedNlpCourse/OpinionSentiment/cestina20.csv\n",
            "Resolving nlp.fi.muni.cz (nlp.fi.muni.cz)... 147.251.51.11\n",
            "Connecting to nlp.fi.muni.cz (nlp.fi.muni.cz)|147.251.51.11|:80... connected.\n",
            "HTTP request sent, awaiting response... 302 Found\n",
            "Location: https://nlp.fi.muni.cz/trac/research/raw-attachment/wiki/private/AdvancedNlpCourse/OpinionSentiment/cestina20.csv [following]\n",
            "--2021-11-20 16:08:00--  https://nlp.fi.muni.cz/trac/research/raw-attachment/wiki/private/AdvancedNlpCourse/OpinionSentiment/cestina20.csv\n",
            "Connecting to nlp.fi.muni.cz (nlp.fi.muni.cz)|147.251.51.11|:443... connected.\n",
            "HTTP request sent, awaiting response... 200 Ok\n",
            "Length: 828572 (809K) [text/csv]\n",
            "Saving to: ‘cestina20.csv’\n",
            "\n",
            "cestina20.csv       100%[===================>] 809.15K  1.30MB/s    in 0.6s    \n",
            "\n",
            "2021-11-20 16:08:02 (1.30 MB/s) - ‘cestina20.csv’ saved [828572/828572]\n",
            "\n",
            "--2021-11-20 16:08:02--  http://nlp.fi.muni.cz/trac/research/raw-attachment/wiki/private/AdvancedNlpCourse/OpinionSentiment/positive-words-cs.txt\n",
            "Resolving nlp.fi.muni.cz (nlp.fi.muni.cz)... 147.251.51.11\n",
            "Connecting to nlp.fi.muni.cz (nlp.fi.muni.cz)|147.251.51.11|:80... connected.\n",
            "HTTP request sent, awaiting response... 302 Found\n",
            "Location: https://nlp.fi.muni.cz/trac/research/raw-attachment/wiki/private/AdvancedNlpCourse/OpinionSentiment/positive-words-cs.txt [following]\n",
            "--2021-11-20 16:08:02--  https://nlp.fi.muni.cz/trac/research/raw-attachment/wiki/private/AdvancedNlpCourse/OpinionSentiment/positive-words-cs.txt\n",
            "Connecting to nlp.fi.muni.cz (nlp.fi.muni.cz)|147.251.51.11|:443... connected.\n",
            "HTTP request sent, awaiting response... 200 Ok\n",
            "Length: 21398 (21K) [text/plain]\n",
            "Saving to: ‘positive-words-cs.txt’\n",
            "\n",
            "positive-words-cs.t 100%[===================>]  20.90K  --.-KB/s    in 0.1s    \n",
            "\n",
            "2021-11-20 16:08:03 (171 KB/s) - ‘positive-words-cs.txt’ saved [21398/21398]\n",
            "\n",
            "--2021-11-20 16:08:03--  http://nlp.fi.muni.cz/trac/research/raw-attachment/wiki/private/AdvancedNlpCourse/OpinionSentiment/negative-words-cs.txt\n",
            "Resolving nlp.fi.muni.cz (nlp.fi.muni.cz)... 147.251.51.11\n",
            "Connecting to nlp.fi.muni.cz (nlp.fi.muni.cz)|147.251.51.11|:80... connected.\n",
            "HTTP request sent, awaiting response... 302 Found\n",
            "Location: https://nlp.fi.muni.cz/trac/research/raw-attachment/wiki/private/AdvancedNlpCourse/OpinionSentiment/negative-words-cs.txt [following]\n",
            "--2021-11-20 16:08:04--  https://nlp.fi.muni.cz/trac/research/raw-attachment/wiki/private/AdvancedNlpCourse/OpinionSentiment/negative-words-cs.txt\n",
            "Connecting to nlp.fi.muni.cz (nlp.fi.muni.cz)|147.251.51.11|:443... connected.\n",
            "HTTP request sent, awaiting response... 200 Ok\n",
            "Length: 48340 (47K) [text/plain]\n",
            "Saving to: ‘negative-words-cs.txt’\n",
            "\n",
            "negative-words-cs.t 100%[===================>]  47.21K   192KB/s    in 0.2s    \n",
            "\n",
            "2021-11-20 16:08:05 (192 KB/s) - ‘negative-words-cs.txt’ saved [48340/48340]\n",
            "\n"
          ]
        }
      ]
    },
    {
      "cell_type": "markdown",
      "metadata": {
        "nbpresent": {
          "id": "96ff352e-308d-4ab7-a68e-244141128deb"
        },
        "id": "DLi34YEjFZx7"
      },
      "source": [
        "## Tools\n",
        "### Tokenizer\n",
        "We use NLTK standard tokenizer to split the texts by words. Splitting by spaces is not enough, since we want e.g. \"word\" and \"word,\" to be one token. Tokenization is not strongly language dependent, so NLTK standard tokenizer is enough. If we want to process languages that do not use spaces (CJK, or Chinese, Japanese, Korean), we should modify this part.\n",
        "\n",
        "### Stopwords\n",
        "For training the word vectors, we use stoplists of Czech most common words. This helps especially in cases we have small data (our case)."
      ]
    },
    {
      "cell_type": "code",
      "metadata": {
        "nbpresent": {
          "id": "020e99ab-4d42-47c9-b637-d2b7dc72285c"
        },
        "id": "g4-0vj0fFZx8",
        "colab": {
          "base_uri": "https://localhost:8080/"
        },
        "outputId": "08322c07-b886-4a39-afc0-8e2b837a2ef8"
      },
      "source": [
        "!wget https://raw.githubusercontent.com/stopwords-iso/stopwords-cs/master/stopwords-cs.txt"
      ],
      "execution_count": 2,
      "outputs": [
        {
          "output_type": "stream",
          "name": "stdout",
          "text": [
            "--2021-11-20 16:08:49--  https://raw.githubusercontent.com/stopwords-iso/stopwords-cs/master/stopwords-cs.txt\n",
            "Resolving raw.githubusercontent.com (raw.githubusercontent.com)... 185.199.111.133, 185.199.108.133, 185.199.109.133, ...\n",
            "Connecting to raw.githubusercontent.com (raw.githubusercontent.com)|185.199.111.133|:443... connected.\n",
            "HTTP request sent, awaiting response... 200 OK\n",
            "Length: 2404 (2.3K) [text/plain]\n",
            "Saving to: ‘stopwords-cs.txt’\n",
            "\n",
            "\rstopwords-cs.txt      0%[                    ]       0  --.-KB/s               \rstopwords-cs.txt    100%[===================>]   2.35K  --.-KB/s    in 0s      \n",
            "\n",
            "2021-11-20 16:08:49 (26.5 MB/s) - ‘stopwords-cs.txt’ saved [2404/2404]\n",
            "\n"
          ]
        }
      ]
    },
    {
      "cell_type": "markdown",
      "metadata": {
        "nbpresent": {
          "id": "60ff129a-80bd-4c96-8f5e-8c2284f71f1c"
        },
        "id": "TB8JNSlQFZx_"
      },
      "source": [
        "## Python packages\n",
        "### Pandas\n",
        "Pandas is a data science standard that allows easy work with large tabular data. Pandas DataFrame is the object we use in this project.\n",
        "\n",
        "### SciKit Learn\n",
        "SciKit Learn (`sklearn`) is a standard machine learning package for Python. We use its `cosine_similarity` function.\n",
        "\n",
        "#### Numpy\n",
        "Together with `sklearn` a Python machine learning standard. Provides straightforward matrix computation, so we avoid unhealthy nested for-cycles."
      ]
    },
    {
      "cell_type": "code",
      "metadata": {
        "id": "9xx0fsI7FZyA",
        "colab": {
          "base_uri": "https://localhost:8080/"
        },
        "outputId": "ea9807da-7eec-4e84-f1ac-72c49255d927"
      },
      "source": [
        "# it depends on installation but probably this is not necessary\n",
        "# in case it does not work, try pip instead of pip3\n",
        "# DO NOT RUN in Colab, this is only useful if you download the notebook and use on your computer\n",
        "!pip3 install --user nltk\n",
        "!pip3 install --user sklearn"
      ],
      "execution_count": null,
      "outputs": [
        {
          "output_type": "stream",
          "name": "stdout",
          "text": [
            "Requirement already satisfied: nltk in /usr/local/lib/python3.7/dist-packages (3.2.5)\n",
            "Requirement already satisfied: six in /usr/local/lib/python3.7/dist-packages (from nltk) (1.15.0)\n",
            "Requirement already satisfied: sklearn in /usr/local/lib/python3.7/dist-packages (0.0)\n",
            "Requirement already satisfied: scikit-learn in /usr/local/lib/python3.7/dist-packages (from sklearn) (0.22.2.post1)\n",
            "Requirement already satisfied: numpy>=1.11.0 in /usr/local/lib/python3.7/dist-packages (from scikit-learn->sklearn) (1.19.5)\n",
            "Requirement already satisfied: scipy>=0.17.0 in /usr/local/lib/python3.7/dist-packages (from scikit-learn->sklearn) (1.4.1)\n",
            "Requirement already satisfied: joblib>=0.11 in /usr/local/lib/python3.7/dist-packages (from scikit-learn->sklearn) (1.0.1)\n"
          ]
        }
      ]
    },
    {
      "cell_type": "code",
      "metadata": {
        "nbpresent": {
          "id": "2ce12ebd-fed3-40ea-ade5-7c7031f112b0"
        },
        "id": "MGeYB8WUFZyC",
        "colab": {
          "base_uri": "https://localhost:8080/"
        },
        "outputId": "1b851a30-4ff8-445c-e014-10693cf67d82"
      },
      "source": [
        "from collections import Counter\n",
        "import itertools\n",
        "\n",
        "import os\n",
        "import nltk\n",
        "nltk.download('punkt')\n",
        "from nltk.tokenize import word_tokenize\n",
        "\n",
        "import numpy as np\n",
        "import pandas as pd\n",
        "from scipy import sparse\n",
        "from sklearn.preprocessing import normalize\n",
        "from sklearn.metrics.pairwise import cosine_similarity"
      ],
      "execution_count": 3,
      "outputs": [
        {
          "output_type": "stream",
          "name": "stdout",
          "text": [
            "[nltk_data] Downloading package punkt to /root/nltk_data...\n",
            "[nltk_data]   Unzipping tokenizers/punkt.zip.\n"
          ]
        }
      ]
    },
    {
      "cell_type": "markdown",
      "metadata": {
        "id": "X3pqDyplHcp6"
      },
      "source": [
        "## Settings\n",
        "\n",
        "Code in this notebook is also prepared for working with english data from Urban dictionary."
      ]
    },
    {
      "cell_type": "code",
      "metadata": {
        "nbpresent": {
          "id": "e5b6eb2f-46cb-4ad5-8732-7fd7792b42ba"
        },
        "id": "5q0WbMHTFZyF"
      },
      "source": [
        "LANG_SETTINGS = {\"en\": {\"filename\":\"urban_dictionary.csv\", \"sep\":\",\", \"explanation\":\"definition\"},\n",
        "                 \"cs\": {\"filename\":\"cestina20.csv\", \"sep\":\";\", \"explanation\":\"explanation\"}\n",
        "                }\n",
        "selected_language = 'cs'\n",
        "settings = LANG_SETTINGS[selected_language]"
      ],
      "execution_count": 4,
      "outputs": []
    },
    {
      "cell_type": "markdown",
      "metadata": {
        "nbpresent": {
          "id": "b7a32c00-a4c7-49de-92fe-62ac6eae3a2e"
        },
        "id": "nvI2bSxjFZyI"
      },
      "source": [
        "# Data\n",
        "We prepared the data in advance using web crawling and parsing of the HTML pages. Look at a sample of the CSV."
      ]
    },
    {
      "cell_type": "code",
      "metadata": {
        "nbpresent": {
          "id": "2a521a06-187b-43fc-b7cb-8ce3f56e0a13"
        },
        "id": "QQYDZrYqFZyI",
        "colab": {
          "base_uri": "https://localhost:8080/",
          "height": 206
        },
        "outputId": "e0d90f78-f6f1-45f9-c2fe-5e43d4add3d5"
      },
      "source": [
        "df = pd.read_csv(settings['filename'], sep=settings['sep'], keep_default_na=False)\n",
        "df.head()"
      ],
      "execution_count": 5,
      "outputs": [
        {
          "output_type": "execute_result",
          "data": {
            "text/html": [
              "<div>\n",
              "<style scoped>\n",
              "    .dataframe tbody tr th:only-of-type {\n",
              "        vertical-align: middle;\n",
              "    }\n",
              "\n",
              "    .dataframe tbody tr th {\n",
              "        vertical-align: top;\n",
              "    }\n",
              "\n",
              "    .dataframe thead th {\n",
              "        text-align: right;\n",
              "    }\n",
              "</style>\n",
              "<table border=\"1\" class=\"dataframe\">\n",
              "  <thead>\n",
              "    <tr style=\"text-align: right;\">\n",
              "      <th></th>\n",
              "      <th>word</th>\n",
              "      <th>explanation</th>\n",
              "      <th>example</th>\n",
              "      <th>rating up</th>\n",
              "      <th>rating down</th>\n",
              "      <th>author</th>\n",
              "      <th>date</th>\n",
              "    </tr>\n",
              "  </thead>\n",
              "  <tbody>\n",
              "    <tr>\n",
              "      <th>0</th>\n",
              "      <td>rathifikovat</td>\n",
              "      <td>odsouhlasit úplatek  podle Davida Ratha -  viz...</td>\n",
              "      <td>\" Ještě že mu ten úplatek nerathifikoval!\"</td>\n",
              "      <td>2</td>\n",
              "      <td>0</td>\n",
              "      <td>metro</td>\n",
              "      <td>20. 2. 2016</td>\n",
              "    </tr>\n",
              "    <tr>\n",
              "      <th>1</th>\n",
              "      <td>ezomlha</td>\n",
              "      <td>motivační literatura plná klišé a banálních po...</td>\n",
              "      <td></td>\n",
              "      <td>35</td>\n",
              "      <td>3</td>\n",
              "      <td>Svenski</td>\n",
              "      <td>19. 8. 2019</td>\n",
              "    </tr>\n",
              "    <tr>\n",
              "      <th>2</th>\n",
              "      <td>nadkundí</td>\n",
              "      <td>podbřišek, část ženského těla nad přirozením</td>\n",
              "      <td>\" Bolí mě po tom zákroku celý nadkundí.\"</td>\n",
              "      <td>21</td>\n",
              "      <td>5</td>\n",
              "      <td>Iveta Kokyová</td>\n",
              "      <td>29. 7. 2013</td>\n",
              "    </tr>\n",
              "    <tr>\n",
              "      <th>3</th>\n",
              "      <td>dadák</td>\n",
              "      <td>rána pěstí, po které jde člověk k zemi (dadá)</td>\n",
              "      <td>\"Tak mě nasral, že ode mě dostal dadáka.\"”</td>\n",
              "      <td>21</td>\n",
              "      <td>6</td>\n",
              "      <td>Garry</td>\n",
              "      <td>17. 11. 2016</td>\n",
              "    </tr>\n",
              "    <tr>\n",
              "      <th>4</th>\n",
              "      <td>lajfka</td>\n",
              "      <td>nahrávka z živého vystoupení  z angl. live (živě)</td>\n",
              "      <td></td>\n",
              "      <td>8</td>\n",
              "      <td>3</td>\n",
              "      <td>Česká filharmonie</td>\n",
              "      <td>6. 1. 2019</td>\n",
              "    </tr>\n",
              "  </tbody>\n",
              "</table>\n",
              "</div>"
            ],
            "text/plain": [
              "           word  ...          date\n",
              "0  rathifikovat  ...   20. 2. 2016\n",
              "1       ezomlha  ...   19. 8. 2019\n",
              "2      nadkundí  ...   29. 7. 2013\n",
              "3         dadák  ...  17. 11. 2016\n",
              "4        lajfka  ...    6. 1. 2019\n",
              "\n",
              "[5 rows x 7 columns]"
            ]
          },
          "metadata": {},
          "execution_count": 5
        }
      ]
    },
    {
      "cell_type": "markdown",
      "metadata": {
        "nbpresent": {
          "id": "2015e579-b211-40e4-a3cd-f0af5008b018"
        },
        "id": "t8jNI6zHFZyL"
      },
      "source": [
        "## Explanations\n",
        "We try to recognize dictionary entry sentiment from the explanation. Let's see an example, next, let's convert the explanations into token sequences and remove stopwords."
      ]
    },
    {
      "cell_type": "code",
      "metadata": {
        "nbpresent": {
          "id": "6cd5d476-5808-4544-a652-d70c566e51c6"
        },
        "id": "WXEMVowlFZyM",
        "colab": {
          "base_uri": "https://localhost:8080/",
          "height": 53
        },
        "outputId": "89adf3b1-5b5f-4680-a02d-04995dabfa58"
      },
      "source": [
        "df[settings['explanation']][1000]"
      ],
      "execution_count": 6,
      "outputs": [
        {
          "output_type": "execute_result",
          "data": {
            "application/vnd.google.colaboratory.intrinsic+json": {
              "type": "string"
            },
            "text/plain": [
              "'jeho hodnota určuje vaši společenskou důležitost  počítají se body za hodinky (zapomeňte na quartzky), oblečení (značkové), auto (prémiové), mobil (samozřejmě iPhone a jiný \" in\"  fón), partnerku (luxusní prsatá blondýna zvyšuje machr index apod.) atd., součet těchto bodů pak tvoří machr index'"
            ]
          },
          "metadata": {},
          "execution_count": 6
        }
      ]
    },
    {
      "cell_type": "code",
      "metadata": {
        "nbpresent": {
          "id": "f34815e0-c51e-42d5-a17d-04a497c6e17b"
        },
        "id": "OGkFY7XfFZyP",
        "colab": {
          "base_uri": "https://localhost:8080/"
        },
        "outputId": "72bc07d9-60ae-4813-9f66-a41f33c537f2"
      },
      "source": [
        "explanations = df[settings['explanation']].tolist()\n",
        "# remove stopwords\n",
        "stopwords_set = ['-','.',':',';','\"',',', '!', '(', ')', '``', \"'\", \"''\", \"„\", \"”\", \"...\", \"apod\", \"viz\", 'např', \"například\", \"příklad\"]\n",
        "with open('stopwords-{}.txt'.format(selected_language), encoding='utf-8') as f:\n",
        "    stopwords_set.extend(list(set([w.strip() for w in f.readlines()])))\n",
        "#print(stopwords_set)\n",
        "explanations = [\n",
        "    [tok.lower() for tok in word_tokenize(explanation.replace('&#8230;', '...').replace('&#8230', '...')) if tok.lower() not in stopwords_set] for explanation in explanations\n",
        "]\n",
        "# show results\n",
        "explanations[1000]"
      ],
      "execution_count": 7,
      "outputs": [
        {
          "output_type": "execute_result",
          "data": {
            "text/plain": [
              "['hodnota',\n",
              " 'určuje',\n",
              " 'společenskou',\n",
              " 'důležitost',\n",
              " 'počítají',\n",
              " 'body',\n",
              " 'hodinky',\n",
              " 'zapomeňte',\n",
              " 'quartzky',\n",
              " 'oblečení',\n",
              " 'značkové',\n",
              " 'auto',\n",
              " 'prémiové',\n",
              " 'mobil',\n",
              " 'samozřejmě',\n",
              " 'iphone',\n",
              " 'jiný',\n",
              " 'in',\n",
              " 'fón',\n",
              " 'partnerku',\n",
              " 'luxusní',\n",
              " 'prsatá',\n",
              " 'blondýna',\n",
              " 'zvyšuje',\n",
              " 'machr',\n",
              " 'index',\n",
              " 'atd.',\n",
              " 'součet',\n",
              " 'těchto',\n",
              " 'bodů',\n",
              " 'tvoří',\n",
              " 'machr',\n",
              " 'index']"
            ]
          },
          "metadata": {},
          "execution_count": 7
        }
      ]
    },
    {
      "cell_type": "markdown",
      "metadata": {
        "nbpresent": {
          "id": "51434e41-a231-41e1-a087-1e788710ef58"
        },
        "id": "5LVQdGIhFZyS"
      },
      "source": [
        "# Recognize sentiment using the Opinion Lexicon\n",
        "\n",
        "**TASK 1**: Look in the original opinion lexicon, look in the translated version. Comment on what you see in both resources.\n",
        "\n",
        "The easiest way is to go through all tokens in the explanation and sum their sentiment according to the Opinion Lexicon. Since some opinion lexicons distinguish *strong* and *weak* opinions we convert the input data into positive or negative numbers in a similar way, except we do not distinguish the intensity of the sentiment, only the polarity: -2 for negative words, 2 for positive words, 0 for words present in both files.\n",
        "\n",
        "**SOLUTION 1**: Since words are translated using google translator, there is no check if sentiment is preserved. I found several examples that don't really make sence:\n",
        " - asunder -> podle\n",
        " - aweful -> úžasné (in negative-words)\n",
        "\n",
        "Also, when there probably was no translation, there is english word in czech lexicon.\n",
        " - achey -> achey\n",
        "\n",
        "And czech lexicon also contains the same words several times."
      ]
    },
    {
      "cell_type": "code",
      "metadata": {
        "nbpresent": {
          "id": "74d938a4-4600-41ae-8cab-dd359e64cfa5"
        },
        "scrolled": true,
        "id": "48ljxlL5FZyS",
        "colab": {
          "base_uri": "https://localhost:8080/"
        },
        "outputId": "3daba2a4-c56b-44cc-beaa-ed0e81b368d8"
      },
      "source": [
        "with open('positive-words-{}.txt'.format(selected_language),'rb') as f:\n",
        "    positive_words = [w.strip().lower() for w in f.read().decode('utf-8','ignore').split('\\n')]\n",
        "with open('negative-words-{}.txt'.format(selected_language),'rb') as f:\n",
        "    negative_words = [w.strip().lower() for w in f.read().decode('utf-8','ignore').split('\\n')]\n",
        "\"No. of positive words:\", len(positive_words), \"No. of negative words:\", len(negative_words)"
      ],
      "execution_count": 8,
      "outputs": [
        {
          "output_type": "execute_result",
          "data": {
            "text/plain": [
              "('No. of positive words:', 2007, 'No. of negative words:', 4601)"
            ]
          },
          "metadata": {},
          "execution_count": 8
        }
      ]
    },
    {
      "cell_type": "code",
      "metadata": {
        "nbpresent": {
          "id": "64ab734f-91f4-45c1-82a7-ce2cfbf80b2f"
        },
        "id": "iVW0Dy_FFZyU"
      },
      "source": [
        " # we put a small epsilon in order to distinguish sentences with no recognized sentiment from sentences with positive+negative sentiment\n",
        "score_word_dict = {k:2.00001 for k in positive_words}\n",
        "score_word_dict.update({k:0 for k in negative_words if k in positive_words})\n",
        "score_word_dict.update({k:-2 for k in negative_words if k not in positive_words})"
      ],
      "execution_count": 9,
      "outputs": []
    },
    {
      "cell_type": "code",
      "metadata": {
        "nbpresent": {
          "id": "c3764e84-53bf-40df-b60b-070fae9140ee"
        },
        "id": "iK7_-EeIFZyW",
        "colab": {
          "base_uri": "https://localhost:8080/"
        },
        "outputId": "dd4cc53a-1d69-4731-e368-ab7d20ca40a2"
      },
      "source": [
        "def get_sentiment_sequence(tokens, score_word_dict):\n",
        "    sentiment = 0\n",
        "    for token in tokens:\n",
        "        sentiment += score_word_dict.get(token, 0)\n",
        "    return sentiment\n",
        "df[settings['explanation']][1], get_sentiment_sequence(explanations[1], score_word_dict)"
      ],
      "execution_count": 10,
      "outputs": [
        {
          "output_type": "execute_result",
          "data": {
            "text/plain": [
              "('motivační literatura plná klišé a banálních pouček', -2)"
            ]
          },
          "metadata": {},
          "execution_count": 10
        }
      ]
    },
    {
      "cell_type": "markdown",
      "metadata": {
        "nbpresent": {
          "id": "69c017ce-9d2f-4e23-9ceb-36e8a09889e0"
        },
        "id": "q7HDBR0xFZyZ"
      },
      "source": [
        "Calculate sentiment for all explanations and a column to the DataFrame."
      ]
    },
    {
      "cell_type": "code",
      "metadata": {
        "nbpresent": {
          "id": "c7dc10b2-16ff-43df-9402-ce79b38f4d8c"
        },
        "id": "YrVIql33FZyZ",
        "colab": {
          "base_uri": "https://localhost:8080/",
          "height": 206
        },
        "outputId": "6ff171b0-69dd-499c-af5a-c6a647189a28"
      },
      "source": [
        "scores=[]\n",
        "for d in explanations:\n",
        "    score = get_sentiment_sequence(d, score_word_dict)\n",
        "    scores.append(score)\n",
        "df['feeling_score_lexicon'] = scores\n",
        "df.head()"
      ],
      "execution_count": 11,
      "outputs": [
        {
          "output_type": "execute_result",
          "data": {
            "text/html": [
              "<div>\n",
              "<style scoped>\n",
              "    .dataframe tbody tr th:only-of-type {\n",
              "        vertical-align: middle;\n",
              "    }\n",
              "\n",
              "    .dataframe tbody tr th {\n",
              "        vertical-align: top;\n",
              "    }\n",
              "\n",
              "    .dataframe thead th {\n",
              "        text-align: right;\n",
              "    }\n",
              "</style>\n",
              "<table border=\"1\" class=\"dataframe\">\n",
              "  <thead>\n",
              "    <tr style=\"text-align: right;\">\n",
              "      <th></th>\n",
              "      <th>word</th>\n",
              "      <th>explanation</th>\n",
              "      <th>example</th>\n",
              "      <th>rating up</th>\n",
              "      <th>rating down</th>\n",
              "      <th>author</th>\n",
              "      <th>date</th>\n",
              "      <th>feeling_score_lexicon</th>\n",
              "    </tr>\n",
              "  </thead>\n",
              "  <tbody>\n",
              "    <tr>\n",
              "      <th>0</th>\n",
              "      <td>rathifikovat</td>\n",
              "      <td>odsouhlasit úplatek  podle Davida Ratha -  viz...</td>\n",
              "      <td>\" Ještě že mu ten úplatek nerathifikoval!\"</td>\n",
              "      <td>2</td>\n",
              "      <td>0</td>\n",
              "      <td>metro</td>\n",
              "      <td>20. 2. 2016</td>\n",
              "      <td>0.0</td>\n",
              "    </tr>\n",
              "    <tr>\n",
              "      <th>1</th>\n",
              "      <td>ezomlha</td>\n",
              "      <td>motivační literatura plná klišé a banálních po...</td>\n",
              "      <td></td>\n",
              "      <td>35</td>\n",
              "      <td>3</td>\n",
              "      <td>Svenski</td>\n",
              "      <td>19. 8. 2019</td>\n",
              "      <td>-2.0</td>\n",
              "    </tr>\n",
              "    <tr>\n",
              "      <th>2</th>\n",
              "      <td>nadkundí</td>\n",
              "      <td>podbřišek, část ženského těla nad přirozením</td>\n",
              "      <td>\" Bolí mě po tom zákroku celý nadkundí.\"</td>\n",
              "      <td>21</td>\n",
              "      <td>5</td>\n",
              "      <td>Iveta Kokyová</td>\n",
              "      <td>29. 7. 2013</td>\n",
              "      <td>0.0</td>\n",
              "    </tr>\n",
              "    <tr>\n",
              "      <th>3</th>\n",
              "      <td>dadák</td>\n",
              "      <td>rána pěstí, po které jde člověk k zemi (dadá)</td>\n",
              "      <td>\"Tak mě nasral, že ode mě dostal dadáka.\"”</td>\n",
              "      <td>21</td>\n",
              "      <td>6</td>\n",
              "      <td>Garry</td>\n",
              "      <td>17. 11. 2016</td>\n",
              "      <td>-2.0</td>\n",
              "    </tr>\n",
              "    <tr>\n",
              "      <th>4</th>\n",
              "      <td>lajfka</td>\n",
              "      <td>nahrávka z živého vystoupení  z angl. live (živě)</td>\n",
              "      <td></td>\n",
              "      <td>8</td>\n",
              "      <td>3</td>\n",
              "      <td>Česká filharmonie</td>\n",
              "      <td>6. 1. 2019</td>\n",
              "      <td>-2.0</td>\n",
              "    </tr>\n",
              "  </tbody>\n",
              "</table>\n",
              "</div>"
            ],
            "text/plain": [
              "           word  ... feeling_score_lexicon\n",
              "0  rathifikovat  ...                   0.0\n",
              "1       ezomlha  ...                  -2.0\n",
              "2      nadkundí  ...                   0.0\n",
              "3         dadák  ...                  -2.0\n",
              "4        lajfka  ...                  -2.0\n",
              "\n",
              "[5 rows x 8 columns]"
            ]
          },
          "metadata": {},
          "execution_count": 11
        }
      ]
    },
    {
      "cell_type": "code",
      "metadata": {
        "nbpresent": {
          "id": "d63764e7-e961-4508-9148-263112f0f5a4"
        },
        "id": "WxGECtObFZyb",
        "colab": {
          "base_uri": "https://localhost:8080/",
          "height": 206
        },
        "outputId": "d259f63c-574e-4cf0-f69f-290b208dc55b"
      },
      "source": [
        "df.sort_values(by=['feeling_score_lexicon'], ascending=False).head()"
      ],
      "execution_count": 12,
      "outputs": [
        {
          "output_type": "execute_result",
          "data": {
            "text/html": [
              "<div>\n",
              "<style scoped>\n",
              "    .dataframe tbody tr th:only-of-type {\n",
              "        vertical-align: middle;\n",
              "    }\n",
              "\n",
              "    .dataframe tbody tr th {\n",
              "        vertical-align: top;\n",
              "    }\n",
              "\n",
              "    .dataframe thead th {\n",
              "        text-align: right;\n",
              "    }\n",
              "</style>\n",
              "<table border=\"1\" class=\"dataframe\">\n",
              "  <thead>\n",
              "    <tr style=\"text-align: right;\">\n",
              "      <th></th>\n",
              "      <th>word</th>\n",
              "      <th>explanation</th>\n",
              "      <th>example</th>\n",
              "      <th>rating up</th>\n",
              "      <th>rating down</th>\n",
              "      <th>author</th>\n",
              "      <th>date</th>\n",
              "      <th>feeling_score_lexicon</th>\n",
              "    </tr>\n",
              "  </thead>\n",
              "  <tbody>\n",
              "    <tr>\n",
              "      <th>3017</th>\n",
              "      <td>gloryhantr</td>\n",
              "      <td>ten, co vždy podporuje ten sportovní tým, kter...</td>\n",
              "      <td>„Karel je typickej gloryhantr, už zase změnil ...</td>\n",
              "      <td>3</td>\n",
              "      <td>5</td>\n",
              "      <td>Krysa</td>\n",
              "      <td>14. 7. 2019</td>\n",
              "      <td>10.00005</td>\n",
              "    </tr>\n",
              "    <tr>\n",
              "      <th>1796</th>\n",
              "      <td>lajkolap</td>\n",
              "      <td>chytlavý, zajímavý příspěvek na sociálních sít...</td>\n",
              "      <td>A: \" Dala jsem teď na fejsáč nějaký video s m...</td>\n",
              "      <td>2</td>\n",
              "      <td>1</td>\n",
              "      <td>mato</td>\n",
              "      <td>13. 11. 2015</td>\n",
              "      <td>8.00004</td>\n",
              "    </tr>\n",
              "    <tr>\n",
              "      <th>2870</th>\n",
              "      <td>fičák</td>\n",
              "      <td>1. silný, výjimečný zážitek (\" Koncert Floydů ...</td>\n",
              "      <td></td>\n",
              "      <td>5</td>\n",
              "      <td>2</td>\n",
              "      <td></td>\n",
              "      <td></td>\n",
              "      <td>8.00004</td>\n",
              "    </tr>\n",
              "    <tr>\n",
              "      <th>403</th>\n",
              "      <td>kafíčkování</td>\n",
              "      <td>náplň práce mnoha manažerů, zejména těch marke...</td>\n",
              "      <td>\" Kafíčkování mi pomohlo k mnoha fajn kontaktů...</td>\n",
              "      <td>10</td>\n",
              "      <td>1</td>\n",
              "      <td></td>\n",
              "      <td></td>\n",
              "      <td>8.00004</td>\n",
              "    </tr>\n",
              "    <tr>\n",
              "      <th>333</th>\n",
              "      <td>wowovat</td>\n",
              "      <td>pořád dokola vyjadřovat obdiv či údiv anglický...</td>\n",
              "      <td>\" Ona v jednom kuse wowuje, už mi leze na nerv...</td>\n",
              "      <td>10</td>\n",
              "      <td>6</td>\n",
              "      <td>Prokeš</td>\n",
              "      <td>18. 6. 2011</td>\n",
              "      <td>8.00004</td>\n",
              "    </tr>\n",
              "  </tbody>\n",
              "</table>\n",
              "</div>"
            ],
            "text/plain": [
              "             word  ... feeling_score_lexicon\n",
              "3017   gloryhantr  ...              10.00005\n",
              "1796     lajkolap  ...               8.00004\n",
              "2870        fičák  ...               8.00004\n",
              "403   kafíčkování  ...               8.00004\n",
              "333       wowovat  ...               8.00004\n",
              "\n",
              "[5 rows x 8 columns]"
            ]
          },
          "metadata": {},
          "execution_count": 12
        }
      ]
    },
    {
      "cell_type": "markdown",
      "metadata": {
        "nbpresent": {
          "id": "d0a48142-bed2-48de-a84b-219d3139581f"
        },
        "id": "gznwCRXYFZyd"
      },
      "source": [
        "**TASK 2**: Add statistics about the dataset. How many dictionary entries have explanation? How many explanations have sentiment recognized?\n"
      ]
    },
    {
      "cell_type": "code",
      "metadata": {
        "id": "VgvrGD1Lebh5"
      },
      "source": [
        "def print_df_statistics(df, score_column):\n",
        "  print(\"Number of rows: \", len(df))\n",
        "  print(\"Number of explanations: \", (df.explanation != '').sum())\n",
        "  print(\"Number of sentiments recognized: \", (df[score_column] != 0).sum())"
      ],
      "execution_count": 13,
      "outputs": []
    },
    {
      "cell_type": "code",
      "metadata": {
        "id": "6RAb34DNMWlH",
        "colab": {
          "base_uri": "https://localhost:8080/"
        },
        "outputId": "71fb662a-2a26-4d5d-dff2-3eba28c3a836"
      },
      "source": [
        "print_df_statistics(df, 'feeling_score_lexicon')"
      ],
      "execution_count": 14,
      "outputs": [
        {
          "output_type": "stream",
          "name": "stdout",
          "text": [
            "Number of rows:  4275\n",
            "Number of explanations:  4275\n",
            "Number of sentiments recognized:  1387\n"
          ]
        }
      ]
    },
    {
      "cell_type": "markdown",
      "metadata": {
        "nbpresent": {
          "id": "ee81f282-5b75-4077-bbf5-c4632d0a2d96"
        },
        "id": "yM0SU5AlFZye"
      },
      "source": [
        "# Word Vectors\n",
        "The main problems of the naive solution are:\n",
        "* small recall because of rather low quality of the lexicon (due to the automatic translation),\n",
        "* small recall due to only one form of the word present in the lexicon. However, in Czech language, many different forms for a word exist, e.g. tlustý, tlustým, tlustých, tlustá, tlustého, tlustou.\n",
        "* no context awareness of the method\n",
        " \n",
        "    \n",
        "We try to improve the sentiment recognition using word vectors. The main idea is the *distributional semantics* - an observation that similar words appear in similar contexts. There are many methods how to calculate word vectors, however, all of them take into account not only a token but also tokens in its surrounding (the context). Most techniques use a fixed window, in our case, the window is (-2, +2). For example, for the sentence \"The quick brown fox jumped over the lazy dog.\", using a sliding window we have the following sequences (stopword removal applied in the example):\n",
        "\n",
        "\\[quick, brown, fox, jumped, lazy\\]<br>\n",
        "\\[brown, fox, jumped, lazy, dog\\]\n",
        "\n",
        "The distributional semantics assumes that *fox* is similar to other words that appear around the words *quick*, *brown*, *jumped*, *lazy*, *dog*."
      ]
    },
    {
      "cell_type": "markdown",
      "metadata": {
        "nbpresent": {
          "id": "8950d61e-500f-4004-917a-6613dec78eac"
        },
        "id": "ROcE6_gpFZye"
      },
      "source": [
        "### Token index\n",
        "We convert the tokens in explanations (without stopwords) into an index. This is handy, since we will only calculate with numbers and provide the respective tokens via this token index only."
      ]
    },
    {
      "cell_type": "code",
      "metadata": {
        "nbpresent": {
          "id": "c5c51550-7869-4d63-a72e-73a3305c82f7"
        },
        "id": "1QGKLtu4FZyf",
        "colab": {
          "base_uri": "https://localhost:8080/"
        },
        "outputId": "98b1c9ff-f1f2-4142-c3a4-fcf389141315"
      },
      "source": [
        "tok2indx = dict()\n",
        "unigram_counts = Counter()\n",
        "for ii, explanation in enumerate(explanations):\n",
        "    for token in explanation:\n",
        "        unigram_counts[token] += 1\n",
        "        if token not in tok2indx:\n",
        "            tok2indx[token] = len(tok2indx)\n",
        "indx2tok = {indx:tok for tok,indx in tok2indx.items()}\n",
        "print('done')\n",
        "print('vocabulary size: {}'.format(len(unigram_counts)))\n",
        "print('most common: {}'.format(unigram_counts.most_common(10)))"
      ],
      "execution_count": 15,
      "outputs": [
        {
          "output_type": "stream",
          "name": "stdout",
          "text": [
            "done\n",
            "vocabulary size: 15748\n",
            "most common: [('člověk', 337), ('1.', 235), ('2', 134), ('žena', 102), ('označení', 80), ('často', 76), ('2.', 65), ('muž', 64), ('velmi', 61), ('slang', 60)]\n"
          ]
        }
      ]
    },
    {
      "cell_type": "markdown",
      "metadata": {
        "nbpresent": {
          "id": "122732e5-5b39-4ba8-9fbf-6834c9f6b085"
        },
        "id": "njoy0tQ-FZyh"
      },
      "source": [
        "### Skipgrams\n",
        "We calculate the frequencies of word tuples appearing in the same sliding window. You can see the most frequent tuples."
      ]
    },
    {
      "cell_type": "code",
      "metadata": {
        "nbpresent": {
          "id": "86272d04-2637-4206-885b-4873f4b50a80"
        },
        "id": "Pdph1BsTFZyh",
        "colab": {
          "base_uri": "https://localhost:8080/"
        },
        "outputId": "5e2f1f92-c64e-4a54-caed-ef1d91322066"
      },
      "source": [
        "back_window = 2\n",
        "front_window = 2\n",
        "skipgram_counts = Counter()\n",
        "for i, explanation in enumerate(explanations):\n",
        "    for ifw, fw in enumerate(explanation):\n",
        "        icw_min = max(0, ifw - back_window)\n",
        "        icw_max = min(len(explanation) - 1, ifw + front_window)\n",
        "        icws = [ii for ii in range(icw_min, icw_max + 1) if ii != ifw]\n",
        "        for icw in icws:\n",
        "            skipgram = (explanation[ifw], explanation[icw])\n",
        "            skipgram_counts[skipgram] += 1    \n",
        "        \n",
        "print('done')\n",
        "print('number of skipgrams: {}'.format(len(skipgram_counts)))\n",
        "print('most common: {}'.format(skipgram_counts.most_common(10)))"
      ],
      "execution_count": 16,
      "outputs": [
        {
          "output_type": "stream",
          "name": "stdout",
          "text": [
            "done\n",
            "number of skipgrams: 92109\n",
            "most common: [(('andreje', 'babiše'), 31), (('babiše', 'andreje'), 31), (('sociálních', 'sítích'), 21), (('sítích', 'sociálních'), 21), (('evropské', 'unie'), 18), (('unie', 'evropské'), 18), (('žena', 'dívka'), 14), (('dívka', 'žena'), 14), (('1.', 'člověk'), 14), (('člověk', '1.'), 14)]\n"
          ]
        }
      ]
    },
    {
      "cell_type": "markdown",
      "metadata": {
        "nbpresent": {
          "id": "d233effc-9d8e-40df-9765-b53dfdff3c68"
        },
        "id": "HUNFAWM2FZyj"
      },
      "source": [
        "## Token matrix\n",
        "We store the skipgram frequencies in a (symmetric) matrix.\n"
      ]
    },
    {
      "cell_type": "code",
      "metadata": {
        "nbpresent": {
          "id": "9dda77d1-4b69-48c2-b603-750748d4af25"
        },
        "id": "n7RvFvKSFZyk",
        "colab": {
          "base_uri": "https://localhost:8080/"
        },
        "outputId": "5971357f-31f1-458d-b68e-3d60d8c6926d"
      },
      "source": [
        "row_indxs = []\n",
        "col_indxs = []\n",
        "dat_values = []\n",
        "ii = 0\n",
        "for (tok1, tok2), sg_count in skipgram_counts.items():\n",
        "    ii += 1\n",
        "    if ii % 1000000 == 0:\n",
        "        print(f'finished {ii/len(skipgram_counts):.2%} of skipgrams')\n",
        "    tok1_indx = tok2indx[tok1]\n",
        "    tok2_indx = tok2indx[tok2]\n",
        "        \n",
        "    row_indxs.append(tok1_indx)\n",
        "    col_indxs.append(tok2_indx)\n",
        "    dat_values.append(sg_count)\n",
        "    \n",
        "wwcnt_mat = sparse.csr_matrix((dat_values, (row_indxs, col_indxs)))\n",
        "print(wwcnt_mat.shape)"
      ],
      "execution_count": 17,
      "outputs": [
        {
          "output_type": "stream",
          "name": "stdout",
          "text": [
            "(15748, 15748)\n"
          ]
        }
      ]
    },
    {
      "cell_type": "markdown",
      "metadata": {
        "nbpresent": {
          "id": "7a8821c7-2bd8-4330-a54e-48f61b0516b7"
        },
        "id": "soA0rDYAFZyl"
      },
      "source": [
        "## Token similarity\n",
        "In the token matrix, each row correspond to a token, the row is the word vector. The numbers in tha matrix show how often the token appears together with other tokens.\n",
        "The following method calculates token similarity as a cosine of the angle between two word vectors."
      ]
    },
    {
      "cell_type": "code",
      "metadata": {
        "nbpresent": {
          "id": "f06795b7-b03f-4954-9ca6-3a1fb19fa500"
        },
        "id": "QS5uTID7FZym"
      },
      "source": [
        "def ww_sim(token, matrix, topn=10):\n",
        "    \"\"\"Calculate topn most similar words to word\"\"\"\n",
        "    if token not in tok2indx:\n",
        "        return 0\n",
        "    indx = tok2indx[token]\n",
        "    if isinstance(matrix, sparse.csr_matrix):\n",
        "        v1 = matrix.getrow(indx)\n",
        "    else:\n",
        "        v1 = matrix[indx:indx+1, :]\n",
        "    sims = cosine_similarity(matrix, v1).flatten()\n",
        "    sindxs = np.argsort(-sims)\n",
        "    sim_word_scores = [(indx2tok[sindx], sims[sindx]) for sindx in sindxs[0:topn]]\n",
        "    return sim_word_scores"
      ],
      "execution_count": 18,
      "outputs": []
    },
    {
      "cell_type": "code",
      "metadata": {
        "nbpresent": {
          "id": "de5b327b-9089-482f-ae6f-39e6fe3dac32"
        },
        "id": "_5olMNOXFZyo",
        "colab": {
          "base_uri": "https://localhost:8080/"
        },
        "outputId": "48c0bacd-cc76-4e02-dc90-14311ef40d0b"
      },
      "source": [
        "import pprint\n",
        "if selected_language == \"cs\":\n",
        "    pprint.pprint(ww_sim('obézní', wwcnt_mat))\n",
        "    pprint.pprint(ww_sim('hezká', wwcnt_mat))\n",
        "else:\n",
        "    pprint.pprint(ww_sim('ugly', wwcnt_mat))\n",
        "    pprint.pprint(ww_sim('girl', wwcnt_mat))"
      ],
      "execution_count": 19,
      "outputs": [
        {
          "output_type": "stream",
          "name": "stdout",
          "text": [
            "[('obézní', 0.9999999999999996),\n",
            " ('tučný', 0.6000000000000001),\n",
            " ('potí', 0.5773502691896257),\n",
            " ('zamračený', 0.5715476066494081),\n",
            " ('tlusťoch', 0.5715476066494081),\n",
            " ('nápadu', 0.5715476066494081),\n",
            " ('plešatý', 0.5422176684690383),\n",
            " ('moravském', 0.5196152422706631),\n",
            " ('tlustý', 0.5046751130152641),\n",
            " ('neduživý', 0.48989794855663554)]\n",
            "[('hezká', 1.0),\n",
            " ('slečna', 0.6135719910778963),\n",
            " ('ošklivá', 0.565685424949238),\n",
            " ('malými', 0.4472135954999579),\n",
            " ('křehká', 0.4472135954999579),\n",
            " ('náctnice', 0.4472135954999579),\n",
            " ('žena', 0.4422676529195312),\n",
            " ('holka', 0.3985266984930429),\n",
            " ('pohledná', 0.3721042037676254),\n",
            " ('ugly', 0.3651483716701108)]\n"
          ]
        }
      ]
    },
    {
      "cell_type": "markdown",
      "metadata": {
        "nbpresent": {
          "id": "5c48f967-8d12-43d2-87e8-a08e5ebfb660"
        },
        "id": "IGBk7RkEFZyr"
      },
      "source": [
        "## Calculate sentiment for OOVs\n",
        "Out-of-vocabulary terms is one of the problems in our first try. Let's try to expand the Opinion Lexicon by similar words. You can see that we now know the sentiment of words *not* present in the Opinion Lexicon."
      ]
    },
    {
      "cell_type": "code",
      "metadata": {
        "nbpresent": {
          "id": "cf2caeae-95b8-45d3-8f78-6293cf823920"
        },
        "id": "b8W42bq3FZyr",
        "colab": {
          "base_uri": "https://localhost:8080/"
        },
        "outputId": "621119ec-d473-4a83-cc6c-7c5cedff5787"
      },
      "source": [
        "def get_sentiment(token, score_word_dict, ww_matrix):\n",
        "#    if token in score_word_dict.keys(): # alternative: calculate from vectors iff the word is not in the lexicon\n",
        "#        return score_word_dict[token]\n",
        "    sentiment = score_word_dict.get(token, 0)\n",
        "    k = ww_sim(token, ww_matrix)\n",
        "    if not k:\n",
        "        return 0\n",
        "    for sim, score in k:\n",
        "        sentiment += score * score_word_dict.get(sim, 0)\n",
        "    return sentiment\n",
        "if selected_language==\"cs\":\n",
        "    print('andrej', get_sentiment('andrej', score_word_dict, wwcnt_mat), score_word_dict.get('andrej'))\n",
        "else:\n",
        "    print('donald', get_sentiment('donald', score_word_dict, wwcnt_mat), score_word_dict.get('donald'))"
      ],
      "execution_count": 20,
      "outputs": [
        {
          "output_type": "stream",
          "name": "stdout",
          "text": [
            "andrej -0.7559289460184544 None\n"
          ]
        }
      ]
    },
    {
      "cell_type": "code",
      "metadata": {
        "nbpresent": {
          "id": "8a29bb08-cd2f-4c83-b858-15c44d56030e"
        },
        "id": "cVvAhOmPFZyt",
        "colab": {
          "base_uri": "https://localhost:8080/"
        },
        "outputId": "33451b6c-168b-4ad2-c874-e8706a10e673"
      },
      "source": [
        "def get_sentiment_sequence(tokens, score_word_dict, ww_matrix):\n",
        "    sentiment = 0\n",
        "    for token in tokens:\n",
        "        sentiment += get_sentiment(token, score_word_dict, ww_matrix)\n",
        "    return sentiment\n",
        "df[settings['explanation']][1], get_sentiment_sequence(explanations[1], score_word_dict, wwcnt_mat)"
      ],
      "execution_count": 21,
      "outputs": [
        {
          "output_type": "execute_result",
          "data": {
            "text/plain": [
              "('motivační literatura plná klišé a banálních pouček', -5.546319477921561)"
            ]
          },
          "metadata": {},
          "execution_count": 21
        }
      ]
    },
    {
      "cell_type": "code",
      "metadata": {
        "nbpresent": {
          "id": "c0a1ebc8-217f-4d49-9bcd-eeca4debf726"
        },
        "id": "Unf6elzYFZyv",
        "colab": {
          "base_uri": "https://localhost:8080/",
          "height": 241
        },
        "outputId": "ef0fc0a5-7aed-4489-d547-b6e573254b94"
      },
      "source": [
        "# This operation takes time. It calculates sentiment for each word in all explanations from the matrix. It could be optimized e.g. by not calculating the same word multiple times.\n",
        "# We calculate the time spent using the time magic.\n",
        "def calculate_scores(explanations, score_word_dict, wwcnt_mat):\n",
        "    scores=[]\n",
        "    for d in explanations:\n",
        "        score = get_sentiment_sequence(d, score_word_dict, wwcnt_mat)\n",
        "        scores.append(score)\n",
        "    return scores\n",
        "%time scores = calculate_scores(explanations, score_word_dict, wwcnt_mat)\n",
        "df['feeling_score_wv'] = scores\n",
        "df.head()"
      ],
      "execution_count": 22,
      "outputs": [
        {
          "output_type": "stream",
          "name": "stdout",
          "text": [
            "CPU times: user 1min 38s, sys: 1.86 s, total: 1min 40s\n",
            "Wall time: 1min 39s\n"
          ]
        },
        {
          "output_type": "execute_result",
          "data": {
            "text/html": [
              "<div>\n",
              "<style scoped>\n",
              "    .dataframe tbody tr th:only-of-type {\n",
              "        vertical-align: middle;\n",
              "    }\n",
              "\n",
              "    .dataframe tbody tr th {\n",
              "        vertical-align: top;\n",
              "    }\n",
              "\n",
              "    .dataframe thead th {\n",
              "        text-align: right;\n",
              "    }\n",
              "</style>\n",
              "<table border=\"1\" class=\"dataframe\">\n",
              "  <thead>\n",
              "    <tr style=\"text-align: right;\">\n",
              "      <th></th>\n",
              "      <th>word</th>\n",
              "      <th>explanation</th>\n",
              "      <th>example</th>\n",
              "      <th>rating up</th>\n",
              "      <th>rating down</th>\n",
              "      <th>author</th>\n",
              "      <th>date</th>\n",
              "      <th>feeling_score_lexicon</th>\n",
              "      <th>feeling_score_wv</th>\n",
              "    </tr>\n",
              "  </thead>\n",
              "  <tbody>\n",
              "    <tr>\n",
              "      <th>0</th>\n",
              "      <td>rathifikovat</td>\n",
              "      <td>odsouhlasit úplatek  podle Davida Ratha -  viz...</td>\n",
              "      <td>\" Ještě že mu ten úplatek nerathifikoval!\"</td>\n",
              "      <td>2</td>\n",
              "      <td>0</td>\n",
              "      <td>metro</td>\n",
              "      <td>20. 2. 2016</td>\n",
              "      <td>0.0</td>\n",
              "      <td>-0.816497</td>\n",
              "    </tr>\n",
              "    <tr>\n",
              "      <th>1</th>\n",
              "      <td>ezomlha</td>\n",
              "      <td>motivační literatura plná klišé a banálních po...</td>\n",
              "      <td></td>\n",
              "      <td>35</td>\n",
              "      <td>3</td>\n",
              "      <td>Svenski</td>\n",
              "      <td>19. 8. 2019</td>\n",
              "      <td>-2.0</td>\n",
              "      <td>-5.546319</td>\n",
              "    </tr>\n",
              "    <tr>\n",
              "      <th>2</th>\n",
              "      <td>nadkundí</td>\n",
              "      <td>podbřišek, část ženského těla nad přirozením</td>\n",
              "      <td>\" Bolí mě po tom zákroku celý nadkundí.\"</td>\n",
              "      <td>21</td>\n",
              "      <td>5</td>\n",
              "      <td>Iveta Kokyová</td>\n",
              "      <td>29. 7. 2013</td>\n",
              "      <td>0.0</td>\n",
              "      <td>0.000000</td>\n",
              "    </tr>\n",
              "    <tr>\n",
              "      <th>3</th>\n",
              "      <td>dadák</td>\n",
              "      <td>rána pěstí, po které jde člověk k zemi (dadá)</td>\n",
              "      <td>\"Tak mě nasral, že ode mě dostal dadáka.\"”</td>\n",
              "      <td>21</td>\n",
              "      <td>6</td>\n",
              "      <td>Garry</td>\n",
              "      <td>17. 11. 2016</td>\n",
              "      <td>-2.0</td>\n",
              "      <td>-8.404604</td>\n",
              "    </tr>\n",
              "    <tr>\n",
              "      <th>4</th>\n",
              "      <td>lajfka</td>\n",
              "      <td>nahrávka z živého vystoupení  z angl. live (živě)</td>\n",
              "      <td></td>\n",
              "      <td>8</td>\n",
              "      <td>3</td>\n",
              "      <td>Česká filharmonie</td>\n",
              "      <td>6. 1. 2019</td>\n",
              "      <td>-2.0</td>\n",
              "      <td>-6.613606</td>\n",
              "    </tr>\n",
              "  </tbody>\n",
              "</table>\n",
              "</div>"
            ],
            "text/plain": [
              "           word  ... feeling_score_wv\n",
              "0  rathifikovat  ...        -0.816497\n",
              "1       ezomlha  ...        -5.546319\n",
              "2      nadkundí  ...         0.000000\n",
              "3         dadák  ...        -8.404604\n",
              "4        lajfka  ...        -6.613606\n",
              "\n",
              "[5 rows x 9 columns]"
            ]
          },
          "metadata": {},
          "execution_count": 22
        }
      ]
    },
    {
      "cell_type": "code",
      "metadata": {
        "nbpresent": {
          "id": "61acf6bd-aeec-49fb-874a-ec19691ee757"
        },
        "id": "11kQAobgFZyx",
        "colab": {
          "base_uri": "https://localhost:8080/",
          "height": 276
        },
        "outputId": "3d611921-1b9c-4ea4-9d75-a38e141ec192"
      },
      "source": [
        "df.sort_values(by=['feeling_score_wv']).head()"
      ],
      "execution_count": 23,
      "outputs": [
        {
          "output_type": "execute_result",
          "data": {
            "text/html": [
              "<div>\n",
              "<style scoped>\n",
              "    .dataframe tbody tr th:only-of-type {\n",
              "        vertical-align: middle;\n",
              "    }\n",
              "\n",
              "    .dataframe tbody tr th {\n",
              "        vertical-align: top;\n",
              "    }\n",
              "\n",
              "    .dataframe thead th {\n",
              "        text-align: right;\n",
              "    }\n",
              "</style>\n",
              "<table border=\"1\" class=\"dataframe\">\n",
              "  <thead>\n",
              "    <tr style=\"text-align: right;\">\n",
              "      <th></th>\n",
              "      <th>word</th>\n",
              "      <th>explanation</th>\n",
              "      <th>example</th>\n",
              "      <th>rating up</th>\n",
              "      <th>rating down</th>\n",
              "      <th>author</th>\n",
              "      <th>date</th>\n",
              "      <th>feeling_score_lexicon</th>\n",
              "      <th>feeling_score_wv</th>\n",
              "    </tr>\n",
              "  </thead>\n",
              "  <tbody>\n",
              "    <tr>\n",
              "      <th>2649</th>\n",
              "      <td>hejt</td>\n",
              "      <td>vyjádření nenávisti, odporu k něčemu  z anglic...</td>\n",
              "      <td>\" Mám tady další hejt, kterej mě točí.\"</td>\n",
              "      <td>31</td>\n",
              "      <td>8</td>\n",
              "      <td>Achjo Bitch</td>\n",
              "      <td>9. 11. 2011</td>\n",
              "      <td>-10.0</td>\n",
              "      <td>-37.341317</td>\n",
              "    </tr>\n",
              "    <tr>\n",
              "      <th>2901</th>\n",
              "      <td>panenská fáma</td>\n",
              "      <td>velmi rozšířený blud o tom, že roztržení panen...</td>\n",
              "      <td>A: „Strašně se bojím, že mě bude bolet protrž...</td>\n",
              "      <td>14</td>\n",
              "      <td>7</td>\n",
              "      <td>Rošťanda Lenka</td>\n",
              "      <td>10. 8. 2018</td>\n",
              "      <td>-8.0</td>\n",
              "      <td>-34.434592</td>\n",
              "    </tr>\n",
              "    <tr>\n",
              "      <th>3185</th>\n",
              "      <td>odkráglovat</td>\n",
              "      <td>1. zabít, připravit někoho o život  z něm. abk...</td>\n",
              "      <td>„Ministra odkrágloval nájemný vrah.”2. unavit ...</td>\n",
              "      <td>12</td>\n",
              "      <td>0</td>\n",
              "      <td>Radek Simkanič</td>\n",
              "      <td>7. 3. 2019</td>\n",
              "      <td>-8.0</td>\n",
              "      <td>-31.839401</td>\n",
              "    </tr>\n",
              "    <tr>\n",
              "      <th>3872</th>\n",
              "      <td>maglajz</td>\n",
              "      <td>1. magnesium používané horolezci při lezení na...</td>\n",
              "      <td>\" Máš v tom pytlíku ještě nějaký maglajz?\" 2. ...</td>\n",
              "      <td>35</td>\n",
              "      <td>0</td>\n",
              "      <td>mato</td>\n",
              "      <td>28. 10. 2014</td>\n",
              "      <td>-8.0</td>\n",
              "      <td>-31.244627</td>\n",
              "    </tr>\n",
              "    <tr>\n",
              "      <th>2587</th>\n",
              "      <td>technostres</td>\n",
              "      <td>nutkavá potřeba být neustále on-line, na příjm...</td>\n",
              "      <td></td>\n",
              "      <td>13</td>\n",
              "      <td>4</td>\n",
              "      <td>iDnes</td>\n",
              "      <td>22. 5. 2017</td>\n",
              "      <td>-8.0</td>\n",
              "      <td>-30.244286</td>\n",
              "    </tr>\n",
              "  </tbody>\n",
              "</table>\n",
              "</div>"
            ],
            "text/plain": [
              "               word  ... feeling_score_wv\n",
              "2649           hejt  ...       -37.341317\n",
              "2901  panenská fáma  ...       -34.434592\n",
              "3185    odkráglovat  ...       -31.839401\n",
              "3872        maglajz  ...       -31.244627\n",
              "2587    technostres  ...       -30.244286\n",
              "\n",
              "[5 rows x 9 columns]"
            ]
          },
          "metadata": {},
          "execution_count": 23
        }
      ]
    },
    {
      "cell_type": "markdown",
      "metadata": {
        "nbpresent": {
          "id": "9fcfcdbd-7424-4cdc-a7be-23d241c7a20a"
        },
        "id": "FMdtb7f_FZyy"
      },
      "source": [
        "**TASK 3**: Calculate the same statistics as for Result 1. How did word vectors improve the number of recognized words in the explanations?"
      ]
    },
    {
      "cell_type": "code",
      "metadata": {
        "id": "t9C7lzckMxcY",
        "colab": {
          "base_uri": "https://localhost:8080/"
        },
        "outputId": "7190dbd4-540b-4852-a4f4-eaf9d64d7c6f"
      },
      "source": [
        "print_df_statistics(df, 'feeling_score_wv')"
      ],
      "execution_count": 24,
      "outputs": [
        {
          "output_type": "stream",
          "name": "stdout",
          "text": [
            "Number of rows:  4275\n",
            "Number of explanations:  4275\n",
            "Number of sentiments recognized:  3283\n"
          ]
        }
      ]
    },
    {
      "cell_type": "markdown",
      "metadata": {
        "nbpresent": {
          "id": "6e503bce-561b-49d9-883d-8b93c8f176ca"
        },
        "id": "L_wOHgRWFZyz"
      },
      "source": [
        "# Evaluation\n",
        "For this course, we manually annotated sentiment for 400 Czech explanations. We will compare the sentiment recognized by our methods with the manual annotation."
      ]
    },
    {
      "cell_type": "code",
      "metadata": {
        "id": "ruRLnhGrNQng",
        "colab": {
          "base_uri": "https://localhost:8080/"
        },
        "outputId": "509eef92-40fc-4461-8ed3-51127ebd9ecd"
      },
      "source": [
        "!wget http://nlp.fi.muni.cz/trac/research/raw-attachment/wiki/private/AdvancedNlpCourse/OpinionSentiment/cestina20_annotation.csv"
      ],
      "execution_count": 25,
      "outputs": [
        {
          "output_type": "stream",
          "name": "stdout",
          "text": [
            "--2021-11-20 16:30:51--  http://nlp.fi.muni.cz/trac/research/raw-attachment/wiki/private/AdvancedNlpCourse/OpinionSentiment/cestina20_annotation.csv\n",
            "Resolving nlp.fi.muni.cz (nlp.fi.muni.cz)... 147.251.51.11\n",
            "Connecting to nlp.fi.muni.cz (nlp.fi.muni.cz)|147.251.51.11|:80... connected.\n",
            "HTTP request sent, awaiting response... 302 Found\n",
            "Location: https://nlp.fi.muni.cz/trac/research/raw-attachment/wiki/private/AdvancedNlpCourse/OpinionSentiment/cestina20_annotation.csv [following]\n",
            "--2021-11-20 16:30:51--  https://nlp.fi.muni.cz/trac/research/raw-attachment/wiki/private/AdvancedNlpCourse/OpinionSentiment/cestina20_annotation.csv\n",
            "Connecting to nlp.fi.muni.cz (nlp.fi.muni.cz)|147.251.51.11|:443... connected.\n",
            "HTTP request sent, awaiting response... 200 Ok\n",
            "Length: 37121 (36K) [text/csv]\n",
            "Saving to: ‘cestina20_annotation.csv’\n",
            "\n",
            "cestina20_annotatio 100%[===================>]  36.25K  --.-KB/s    in 0.1s    \n",
            "\n",
            "2021-11-20 16:30:53 (297 KB/s) - ‘cestina20_annotation.csv’ saved [37121/37121]\n",
            "\n"
          ]
        }
      ]
    },
    {
      "cell_type": "code",
      "metadata": {
        "nbpresent": {
          "id": "9874742a-f8f7-4cf9-8f3c-a040b47c41d9"
        },
        "id": "mmpWdKetFZyz"
      },
      "source": [
        "annotation = None\n",
        "if selected_language==\"cs\":\n",
        "    dfa = pd.read_csv('cestina20_annotation.csv', sep=';')\n",
        "    annotation = pd.merge(df, dfa, on='word') #df.loc[:len(dfa)-1,]\n",
        "else:\n",
        "    print(\"no ground truth (manual annotations) available\")"
      ],
      "execution_count": 26,
      "outputs": []
    },
    {
      "cell_type": "code",
      "metadata": {
        "id": "OuyXEUseh9FE",
        "colab": {
          "base_uri": "https://localhost:8080/",
          "height": 310
        },
        "outputId": "fc07a6fc-e8ab-43a1-b7bc-f3069bad9cd6"
      },
      "source": [
        "annotation.head()"
      ],
      "execution_count": 27,
      "outputs": [
        {
          "output_type": "execute_result",
          "data": {
            "text/html": [
              "<div>\n",
              "<style scoped>\n",
              "    .dataframe tbody tr th:only-of-type {\n",
              "        vertical-align: middle;\n",
              "    }\n",
              "\n",
              "    .dataframe tbody tr th {\n",
              "        vertical-align: top;\n",
              "    }\n",
              "\n",
              "    .dataframe thead th {\n",
              "        text-align: right;\n",
              "    }\n",
              "</style>\n",
              "<table border=\"1\" class=\"dataframe\">\n",
              "  <thead>\n",
              "    <tr style=\"text-align: right;\">\n",
              "      <th></th>\n",
              "      <th>word</th>\n",
              "      <th>explanation_x</th>\n",
              "      <th>example</th>\n",
              "      <th>rating up</th>\n",
              "      <th>rating down</th>\n",
              "      <th>author</th>\n",
              "      <th>date</th>\n",
              "      <th>feeling_score_lexicon</th>\n",
              "      <th>feeling_score_wv</th>\n",
              "      <th>explanation_y</th>\n",
              "      <th>annotation</th>\n",
              "    </tr>\n",
              "  </thead>\n",
              "  <tbody>\n",
              "    <tr>\n",
              "      <th>0</th>\n",
              "      <td>rathifikovat</td>\n",
              "      <td>odsouhlasit úplatek  podle Davida Ratha -  viz...</td>\n",
              "      <td>\" Ještě že mu ten úplatek nerathifikoval!\"</td>\n",
              "      <td>2</td>\n",
              "      <td>0</td>\n",
              "      <td>metro</td>\n",
              "      <td>20. 2. 2016</td>\n",
              "      <td>0.0</td>\n",
              "      <td>-0.816497</td>\n",
              "      <td>odsouhlasit úplatek  podle Davida Ratha -  viz...</td>\n",
              "      <td>-1</td>\n",
              "    </tr>\n",
              "    <tr>\n",
              "      <th>1</th>\n",
              "      <td>ezomlha</td>\n",
              "      <td>motivační literatura plná klišé a banálních po...</td>\n",
              "      <td></td>\n",
              "      <td>35</td>\n",
              "      <td>3</td>\n",
              "      <td>Svenski</td>\n",
              "      <td>19. 8. 2019</td>\n",
              "      <td>-2.0</td>\n",
              "      <td>-5.546319</td>\n",
              "      <td>motivační literatura plná klišé a banálních po...</td>\n",
              "      <td>-1</td>\n",
              "    </tr>\n",
              "    <tr>\n",
              "      <th>2</th>\n",
              "      <td>nadkundí</td>\n",
              "      <td>podbřišek, část ženského těla nad přirozením</td>\n",
              "      <td>\" Bolí mě po tom zákroku celý nadkundí.\"</td>\n",
              "      <td>21</td>\n",
              "      <td>5</td>\n",
              "      <td>Iveta Kokyová</td>\n",
              "      <td>29. 7. 2013</td>\n",
              "      <td>0.0</td>\n",
              "      <td>0.000000</td>\n",
              "      <td>podbřišek, část ženského těla nad přirozením</td>\n",
              "      <td>-1</td>\n",
              "    </tr>\n",
              "    <tr>\n",
              "      <th>3</th>\n",
              "      <td>dadák</td>\n",
              "      <td>rána pěstí, po které jde člověk k zemi (dadá)</td>\n",
              "      <td>\"Tak mě nasral, že ode mě dostal dadáka.\"”</td>\n",
              "      <td>21</td>\n",
              "      <td>6</td>\n",
              "      <td>Garry</td>\n",
              "      <td>17. 11. 2016</td>\n",
              "      <td>-2.0</td>\n",
              "      <td>-8.404604</td>\n",
              "      <td>rána pěstí, po které jde člověk k zemi (dadá)</td>\n",
              "      <td>-1</td>\n",
              "    </tr>\n",
              "    <tr>\n",
              "      <th>4</th>\n",
              "      <td>lajfka</td>\n",
              "      <td>nahrávka z živého vystoupení  z angl. live (živě)</td>\n",
              "      <td></td>\n",
              "      <td>8</td>\n",
              "      <td>3</td>\n",
              "      <td>Česká filharmonie</td>\n",
              "      <td>6. 1. 2019</td>\n",
              "      <td>-2.0</td>\n",
              "      <td>-6.613606</td>\n",
              "      <td>nahrávka z živého vystoupení  z angl. live (živě)</td>\n",
              "      <td>0</td>\n",
              "    </tr>\n",
              "  </tbody>\n",
              "</table>\n",
              "</div>"
            ],
            "text/plain": [
              "           word  ... annotation\n",
              "0  rathifikovat  ...         -1\n",
              "1       ezomlha  ...         -1\n",
              "2      nadkundí  ...         -1\n",
              "3         dadák  ...         -1\n",
              "4        lajfka  ...          0\n",
              "\n",
              "[5 rows x 11 columns]"
            ]
          },
          "metadata": {},
          "execution_count": 27
        }
      ]
    },
    {
      "cell_type": "markdown",
      "metadata": {
        "nbpresent": {
          "id": "f5a8fe74-4b1e-4ad3-b45b-344ae29f540e"
        },
        "id": "vh-YUf6yFZy1"
      },
      "source": [
        "**TASK 4 (cs)**: Insert code to calculate confusion matrix for both `feeling_score_lexicon` and `feeling_score_wv` with `annotation`. Assume that the opinion recognition is correct if the score == 0 or the same polarity. Which sentiment recognition is more accurate? Why?"
      ]
    },
    {
      "cell_type": "markdown",
      "metadata": {
        "id": "NfXCzuLtMIFh"
      },
      "source": [
        "## Opinion lexicon"
      ]
    },
    {
      "cell_type": "code",
      "metadata": {
        "id": "TKPHJ9Zxfy9S"
      },
      "source": [
        "from sklearn.metrics import confusion_matrix, precision_recall_fscore_support\n",
        "df['annotation']=np.sign(df['feeling_score_lexicon'])\n",
        "m = confusion_matrix(annotation['annotation'].values, df['annotation'].values[:len(annotation)])"
      ],
      "execution_count": 28,
      "outputs": []
    },
    {
      "cell_type": "code",
      "metadata": {
        "colab": {
          "base_uri": "https://localhost:8080/"
        },
        "id": "rl2HHwYIhQir",
        "outputId": "049385fa-73dc-49d2-b1b3-03b47a0d2129"
      },
      "source": [
        "c = precision_recall_fscore_support(annotation['annotation'].values, df['annotation'].values[:len(annotation)])\n",
        "avg_f1 = np.mean(c[2])\n",
        "c, avg_f1"
      ],
      "execution_count": 29,
      "outputs": [
        {
          "output_type": "execute_result",
          "data": {
            "text/plain": [
              "((array([0.84705882, 0.54117647, 0.28813559]),\n",
              "  array([0.39130435, 0.80701754, 0.38636364]),\n",
              "  array([0.53531599, 0.64788732, 0.33009709]),\n",
              "  array([184, 171,  44])),\n",
              " 0.5044334654841381)"
            ]
          },
          "metadata": {},
          "execution_count": 29
        }
      ]
    },
    {
      "cell_type": "code",
      "metadata": {
        "colab": {
          "base_uri": "https://localhost:8080/"
        },
        "id": "24xkCKtfgsvG",
        "outputId": "ef416e41-3495-483a-94dd-eb647ff1decf"
      },
      "source": [
        "m\n"
      ],
      "execution_count": 30,
      "outputs": [
        {
          "output_type": "execute_result",
          "data": {
            "text/plain": [
              "array([[ 72,  91,  21],\n",
              "       [ 12, 138,  21],\n",
              "       [  1,  26,  17]])"
            ]
          },
          "metadata": {},
          "execution_count": 30
        }
      ]
    },
    {
      "cell_type": "code",
      "metadata": {
        "id": "znUODa95uckI",
        "colab": {
          "base_uri": "https://localhost:8080/",
          "height": 296
        },
        "outputId": "cce1bea6-96ac-4c26-d1da-3961144dda56"
      },
      "source": [
        "from sklearn.metrics import ConfusionMatrixDisplay\n",
        "disp = ConfusionMatrixDisplay(confusion_matrix=m,\n",
        "                              display_labels=['positive', 'neutral', 'negative'])\n",
        "disp.plot()"
      ],
      "execution_count": 31,
      "outputs": [
        {
          "output_type": "execute_result",
          "data": {
            "text/plain": [
              "<sklearn.metrics._plot.confusion_matrix.ConfusionMatrixDisplay at 0x7f8980049e90>"
            ]
          },
          "metadata": {},
          "execution_count": 31
        },
        {
          "output_type": "display_data",
          "data": {
            "image/png": "[encoded data removed]",
            "text/plain": [
              "<Figure size 432x288 with 2 Axes>"
            ]
          },
          "metadata": {
            "needs_background": "light"
          }
        }
      ]
    },
    {
      "cell_type": "markdown",
      "metadata": {
        "id": "fiIWJA51MEcu"
      },
      "source": [
        "## Word vectors"
      ]
    },
    {
      "cell_type": "code",
      "metadata": {
        "id": "qyAUp6rnhICV"
      },
      "source": [
        "df['annotation_wv']=np.sign(df['feeling_score_wv'])\n",
        "m_wv = confusion_matrix(annotation['annotation'].values, df['annotation_wv'].values[:len(annotation)])"
      ],
      "execution_count": 32,
      "outputs": []
    },
    {
      "cell_type": "code",
      "metadata": {
        "id": "JFJMuvTaxi5X",
        "colab": {
          "base_uri": "https://localhost:8080/"
        },
        "outputId": "9118de68-c6a3-4761-bac6-cca502a17d14"
      },
      "source": [
        "c_wv = precision_recall_fscore_support(annotation['annotation'].values, df['annotation_wv'].values[:len(annotation)])\n",
        "avg_f1_wv = np.mean(c_wv[2])\n",
        "c_wv, avg_f1_wv"
      ],
      "execution_count": 33,
      "outputs": [
        {
          "output_type": "execute_result",
          "data": {
            "text/plain": [
              "((array([0.58050847, 0.59459459, 0.20224719]),\n",
              "  array([0.74456522, 0.25730994, 0.40909091]),\n",
              "  array([0.65238095, 0.35918367, 0.27067669]),\n",
              "  array([184, 171,  44])),\n",
              " 0.4274137725265545)"
            ]
          },
          "metadata": {},
          "execution_count": 33
        }
      ]
    },
    {
      "cell_type": "code",
      "metadata": {
        "id": "aHtgix8btoOV",
        "colab": {
          "base_uri": "https://localhost:8080/"
        },
        "outputId": "4c78a217-bcc3-49dd-c592-0f827012ed57"
      },
      "source": [
        "m_wv"
      ],
      "execution_count": 34,
      "outputs": [
        {
          "output_type": "execute_result",
          "data": {
            "text/plain": [
              "array([[137,  20,  27],\n",
              "       [ 83,  44,  44],\n",
              "       [ 16,  10,  18]])"
            ]
          },
          "metadata": {},
          "execution_count": 34
        }
      ]
    },
    {
      "cell_type": "code",
      "metadata": {
        "id": "reeBanituvlX",
        "colab": {
          "base_uri": "https://localhost:8080/",
          "height": 296
        },
        "outputId": "ef9ea773-9d4b-4ea7-bf5d-899261f94f09"
      },
      "source": [
        "disp = ConfusionMatrixDisplay(confusion_matrix=m_wv,\n",
        "                              display_labels=['positive', 'neutral', 'negative'])\n",
        "disp.plot()"
      ],
      "execution_count": 35,
      "outputs": [
        {
          "output_type": "execute_result",
          "data": {
            "text/plain": [
              "<sklearn.metrics._plot.confusion_matrix.ConfusionMatrixDisplay at 0x7f897fa8fb90>"
            ]
          },
          "metadata": {},
          "execution_count": 35
        },
        {
          "output_type": "display_data",
          "data": {
            "image/png": "[encoded data removed]",
            "text/plain": [
              "<Figure size 432x288 with 2 Axes>"
            ]
          },
          "metadata": {
            "needs_background": "light"
          }
        }
      ]
    }
  ]
}