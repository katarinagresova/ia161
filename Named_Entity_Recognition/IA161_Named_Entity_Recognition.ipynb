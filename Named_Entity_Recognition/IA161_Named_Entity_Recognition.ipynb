{
  "nbformat": 4,
  "nbformat_minor": 0,
  "metadata": {
    "colab": {
      "name": "BiLSTM & FastText NER",
      "provenance": [],
      "include_colab_link": true
    },
    "kernelspec": {
      "name": "python3",
      "display_name": "Python 3"
    }
  },
  "cells": [
    {
      "cell_type": "markdown",
      "metadata": {
        "id": "view-in-github",
        "colab_type": "text"
      },
      "source": [
        "<a href=\"https://colab.research.google.com/github/katarinagresova/ia161/blob/main/Named_Entity_Recognition/IA161_Named_Entity_Recognition.ipynb\" target=\"_parent\"><img src=\"https://colab.research.google.com/assets/colab-badge.svg\" alt=\"Open In Colab\"/></a>"
      ]
    },
    {
      "cell_type": "markdown",
      "metadata": {
        "id": "s2KQq6Ghv4HI"
      },
      "source": [
        "# Named Entity Recognition for Czech with Neural Networks and Pretrained Word Embeddings\n",
        "\n",
        "In this session, we will train our own named entity recognizer.\n",
        "\n",
        "We will use the FastText model for Czech and the CNEC corpus.\n",
        "\n",
        "## FastText\n",
        "\n",
        "FastText is a pretrained model that uses subword information. The advantage is that it assigns a vector to every sequence, so we do not have to tackle with the out-of-vocabulary (OOV problem). The downside is the size of the model.\n",
        "\n",
        "https://fasttext.cc/docs/en/crawl-vectors.html\n",
        "\n",
        "**Note for advanced students:** During training, we take only a small subset of FastText and do not bring the whole model into our NER model. This means, we do not use the advantage of the subword feature at prediction time. To solve this problem, we could do the following:\n",
        "\n",
        "1. remove the Embedding layer\n",
        "1. use the array of token embeddings as the input\n",
        "\n",
        "It makes the code slightly less readable and it makes the preprocessing of input examples slightly more complicated. You can implement it on your own.\n",
        "\n",
        "## CNEC\n",
        "\n",
        "Czech Corpus of Named Entities (https://ufal.mff.cuni.cz/cnec/cnec2.0) contains ~ 10,000 documents (usually short sentences) and a two-level classification. For the purpose of this workshop, we simplify drastically the annotation.\n",
        "1. We completely omit the nested annotations\n",
        "1. We remove some annotations (such as capitalizations)\n",
        "1. We merge many annotations to have only a few possible NER tags.\n",
        "1. We add the IOB schema to the annotations.\n",
        "\n",
        "## SumeCzech-NER\n",
        "\n",
        "Another option is to use the SumeCzech corpus together with annotations. Since it contains one million articles, the results are more promising. Moreover, the annotation of SumeCzech-NER follows already the IOB schema.\n",
        "\n",
        "Some other useful links:\n",
        "\n",
        "https://towardsdatascience.com/named-entity-recognition-ner-using-keras-bidirectional-lstm-28cd3f301f54\n",
        "\n",
        "https://docs.python.org/3/library/xml.etree.elementtree.html\n",
        "\n",
        "https://towardsdatascience.com/named-entity-recognition-ner-meeting-industrys-requirement-by-applying-state-of-the-art-deep-698d2b3b4ede\n"
      ]
    },
    {
      "cell_type": "markdown",
      "metadata": {
        "id": "GxnjdyjuyBKq"
      },
      "source": [
        "## Install FastText and download data"
      ]
    },
    {
      "cell_type": "code",
      "metadata": {
        "id": "YMoTUVpwXq-V",
        "outputId": "144c6025-e510-4a27-fec2-de2225faf144",
        "colab": {
          "base_uri": "https://localhost:8080/"
        }
      },
      "source": [
        "!pip install fasttext"
      ],
      "execution_count": 1,
      "outputs": [
        {
          "output_type": "stream",
          "name": "stdout",
          "text": [
            "Collecting fasttext\n",
            "  Downloading fasttext-0.9.2.tar.gz (68 kB)\n",
            "\u001b[?25l\r\u001b[K     |████▊                           | 10 kB 24.3 MB/s eta 0:00:01\r\u001b[K     |█████████▌                      | 20 kB 28.1 MB/s eta 0:00:01\r\u001b[K     |██████████████▎                 | 30 kB 32.7 MB/s eta 0:00:01\r\u001b[K     |███████████████████             | 40 kB 25.0 MB/s eta 0:00:01\r\u001b[K     |███████████████████████▉        | 51 kB 20.0 MB/s eta 0:00:01\r\u001b[K     |████████████████████████████▋   | 61 kB 13.6 MB/s eta 0:00:01\r\u001b[K     |████████████████████████████████| 68 kB 4.6 MB/s \n",
            "\u001b[?25hCollecting pybind11>=2.2\n",
            "  Using cached pybind11-2.8.0-py2.py3-none-any.whl (207 kB)\n",
            "Requirement already satisfied: setuptools>=0.7.0 in /usr/local/lib/python3.7/dist-packages (from fasttext) (57.4.0)\n",
            "Requirement already satisfied: numpy in /usr/local/lib/python3.7/dist-packages (from fasttext) (1.19.5)\n",
            "Building wheels for collected packages: fasttext\n",
            "  Building wheel for fasttext (setup.py) ... \u001b[?25l\u001b[?25hdone\n",
            "  Created wheel for fasttext: filename=fasttext-0.9.2-cp37-cp37m-linux_x86_64.whl size=3119462 sha256=73aa4928c37debe803d57b292912982477b1916b0d7ad21e004530f10d1d48dc\n",
            "  Stored in directory: /root/.cache/pip/wheels/4e/ca/bf/b020d2be95f7641801a6597a29c8f4f19e38f9c02a345bab9b\n",
            "Successfully built fasttext\n",
            "Installing collected packages: pybind11, fasttext\n",
            "Successfully installed fasttext-0.9.2 pybind11-2.8.0\n"
          ]
        }
      ]
    },
    {
      "cell_type": "code",
      "metadata": {
        "id": "GIHlsGTlYPkZ",
        "outputId": "19fd0bb8-e20d-4f02-ad46-344a76857981",
        "colab": {
          "base_uri": "https://localhost:8080/"
        }
      },
      "source": [
        "!wget https://dl.fbaipublicfiles.com/fasttext/vectors-crawl/cc.cs.300.bin.gz\n",
        "!gunzip cc.cs.300.bin.gz"
      ],
      "execution_count": 2,
      "outputs": [
        {
          "output_type": "stream",
          "name": "stdout",
          "text": [
            "--2021-10-06 10:47:58--  https://dl.fbaipublicfiles.com/fasttext/vectors-crawl/cc.cs.300.bin.gz\n",
            "Resolving dl.fbaipublicfiles.com (dl.fbaipublicfiles.com)... 104.22.74.142, 104.22.75.142, 172.67.9.4, ...\n",
            "Connecting to dl.fbaipublicfiles.com (dl.fbaipublicfiles.com)|104.22.74.142|:443... connected.\n",
            "HTTP request sent, awaiting response... 200 OK\n",
            "Length: 4502843070 (4.2G) [application/octet-stream]\n",
            "Saving to: ‘cc.cs.300.bin.gz’\n",
            "\n",
            "cc.cs.300.bin.gz    100%[===================>]   4.19G  12.6MB/s    in 5m 41s  \n",
            "\n",
            "2021-10-06 10:53:40 (12.6 MB/s) - ‘cc.cs.300.bin.gz’ saved [4502843070/4502843070]\n",
            "\n"
          ]
        }
      ]
    },
    {
      "cell_type": "code",
      "metadata": {
        "id": "F7YIBv-Lbmul",
        "outputId": "1993f71e-30b3-4355-8a95-d4985925f579",
        "colab": {
          "base_uri": "https://localhost:8080/"
        }
      },
      "source": [
        "!curl --remote-name-all https://lindat.mff.cuni.cz/repository/xmlui/bitstream/handle/11858/00-097C-0000-0023-1B22-8{/Czech_Named_Entity_Corpus_2.0.zip}\n",
        "!unzip Czech_Named_Entity_Corpus_2.0.zip"
      ],
      "execution_count": 3,
      "outputs": [
        {
          "output_type": "stream",
          "name": "stdout",
          "text": [
            "  % Total    % Received % Xferd  Average Speed   Time    Time     Time  Current\n",
            "                                 Dload  Upload   Total   Spent    Left  Speed\n",
            "100 13.2M  100 13.2M    0     0  6098k      0  0:00:02  0:00:02 --:--:-- 6098k\n",
            "Archive:  Czech_Named_Entity_Corpus_2.0.zip\n",
            "   creating: cnec2.0/\n",
            "   creating: cnec2.0/data/\n",
            "   creating: cnec2.0/data/plain/\n",
            "  inflating: cnec2.0/data/plain/named_ent.txt  \n",
            "  inflating: cnec2.0/data/plain/named_ent_dtest.txt  \n",
            "  inflating: cnec2.0/data/plain/named_ent_etest.txt  \n",
            "  inflating: cnec2.0/data/plain/named_ent_train.txt  \n",
            "   creating: cnec2.0/data/xml/\n",
            "  inflating: cnec2.0/data/xml/named_ent.xml  \n",
            "  inflating: cnec2.0/data/xml/named_ent_dtest.xml  \n",
            "  inflating: cnec2.0/data/xml/named_ent_etest.xml  \n",
            "  inflating: cnec2.0/data/xml/named_ent_train.xml  \n",
            "   creating: cnec2.0/data/treex/\n",
            "  inflating: cnec2.0/data/treex/named_ent.treex  \n",
            "  inflating: cnec2.0/data/treex/named_ent_dtest.treex  \n",
            "  inflating: cnec2.0/data/treex/named_ent_etest.treex  \n",
            "  inflating: cnec2.0/data/treex/named_ent_train.treex  \n",
            "   creating: cnec2.0/data/html/\n",
            "  inflating: cnec2.0/data/html/named_ent.html  \n",
            "  inflating: cnec2.0/data/html/named_ent_dtest.html  \n",
            "  inflating: cnec2.0/data/html/named_ent_etest.html  \n",
            "  inflating: cnec2.0/data/html/named_ent_train.html  \n",
            "   creating: cnec2.0/doc/\n",
            "  inflating: cnec2.0/doc/ne-type-hierarchy.pdf  \n",
            "  inflating: cnec2.0/doc/doc.pdf     \n",
            "  inflating: cnec2.0/doc/techrep-ne-2007.pdf  \n",
            "  inflating: cnec2.0/doc/statistics.txt  \n",
            "  inflating: cnec2.0/README          \n",
            "  inflating: cnec2.0/LICENSE         \n",
            "   creating: cnec2.0/tools/\n",
            "  inflating: cnec2.0/tools/compare_ne_outputs_v3.pl  \n",
            "  inflating: cnec2.0/tools/namedent_annotations_to_html.pl  \n",
            "  inflating: cnec2.0/tools/statistics.pl  \n",
            "  inflating: cnec2.0/tools/namedent_annotations_to_xml_simple.pl  \n",
            "   creating: cnec2.0/tools/Treex/\n",
            "   creating: cnec2.0/tools/Treex/Block/\n",
            "   creating: cnec2.0/tools/Treex/Block/Read/\n",
            "  inflating: cnec2.0/tools/Treex/Block/Read/CNEC.pm  \n"
          ]
        }
      ]
    },
    {
      "cell_type": "code",
      "metadata": {
        "id": "UpOKRFF8YXVx"
      },
      "source": [
        "FASTTEXT_MODEL = 'cc.cs.300.bin'\n",
        "NER_CORPUS = 'cnec2.0/data/treex/named_ent.treex'"
      ],
      "execution_count": 4,
      "outputs": []
    },
    {
      "cell_type": "markdown",
      "metadata": {
        "id": "ysCPTcNayRIn"
      },
      "source": [
        "## Simplify the tags\n",
        "\n",
        "Before proceeding, check the two-level annotation from the CNEC documentation and by observing some examples.\n",
        "\n",
        "**TASK 1** Find example of a nested annotation. Find example of an annotation you would annotate in a different way."
      ]
    },
    {
      "cell_type": "code",
      "metadata": {
        "id": "NtVNCPXDphrY"
      },
      "source": [
        "SIMPLIFICATION_DICT1 = {'P': 'PER', 'ps': 'PER', 'pf': 'PER', 'p_': 'PER', 'pc': 'PER', 'pp': 'PER', 'pd': 'PER', 'pm': 'PER',\n",
        "                       'G': 'LOC', 'gu': 'LOC', 'gs': 'LOC', 'gc': 'LOC', 'gh': 'LOC', 'gq': 'LOC', 'gl': 'LOC', 'gr': 'LOC', 'gt': 'LOC', 'g_': 'LOC',\n",
        "                       'I': 'ORG', 'if': 'ORG', 'i_': 'ORG', 'ia': 'ORG', 'ic': 'ORG', 'io': 'ORG',\n",
        "                       'O': 'ART', 'oa': 'ART', 'or': 'ART', 'om': 'ART', 'oe': 'ART', 'o_': 'ART', 'op': 'ART',\n",
        "                       'A': 'ADDR', 'ah': 'ADDR', 'az': 'ADDR', 'a_': 'ADDR', 'at': 'ADDR',\n",
        "                       'M': 'MEDIA', 'me': 'MEDIA', 'mi': 'MEDIA', 'm_': 'MEDIA', 'mn': 'MEDIA', 'ms': 'MEDIA', \n",
        "                       'N': 'NUM', 'na': 'NUM', 'nb': 'NUM', 'nc': 'NUM', 'n_': 'NUM', 'ni': 'NUM', 'ns': 'NUM', 'no': 'NUM',\n",
        "                       'T': 'TIME', 'td': 'TIME', 'tm': 'TIME', 'ty': 'TIME', 'tf': 'TIME', 't_': 'TIME', 'th': 'TIME',\n",
        "                       '?': 'O', 'cap': 'O', 'lower': 'O', 'upper': 'O', 'f': 'FOREIGN', 'segm': 'O', 's': 'ABBR', 'C': 'BIB'}\n",
        "\n",
        "SIMPLIFICATION_DICT2 = {'P': 'PER', 'ps': 'PER', 'pf': 'PER', 'p_': 'PER', 'pc': 'PER', 'pp': 'PER', 'pd': 'PER', 'pm': 'PER',\n",
        "                       'G': 'LOC', 'gu': 'LOC', 'gs': 'LOC', 'gc': 'LOC', 'gh': 'LOC', 'gq': 'LOC', 'gl': 'LOC', 'gr': 'LOC', 'gt': 'LOC', 'g_': 'LOC',\n",
        "                       'I': 'ORG', 'if': 'ORG', 'i_': 'ORG', 'ia': 'ORG', 'ic': 'ORG', 'io': 'ORG',\n",
        "                       'O': 'O', 'oa': 'O', 'or': 'O', 'om': 'O', 'oe': 'O', 'o_': 'O', 'op': 'O',\n",
        "                       'A': 'O', 'ah': 'O', 'az': 'O', 'a_': 'O', 'at': 'O',\n",
        "                       'M': 'O', 'me': 'O', 'mi': 'O', 'm_': 'O', 'mn': 'O', 'ms': 'O', \n",
        "                       'N': 'O', 'na': 'O', 'nb': 'O', 'nc': 'O', 'n_': 'O', 'ni': 'O', 'ns': 'O', 'no': 'O',\n",
        "                       'T': 'O', 'td': 'O', 'tm': 'O', 'ty': 'O', 'tf': 'O', 't_': 'O', 'th': 'O',\n",
        "                       '?': 'O', 'cap': 'O', 'lower': 'O', 'upper': 'O', 'f': 'O', 'segm': 'O', 's': 'O', 'C': 'O'}                       \n",
        "\n",
        "SIMPLIFICATION_DICT = {'P': 'PER', 'ps': 'PER', 'pf': 'PER', 'p_': 'PER', 'pc': 'PER', 'pp': 'PER', 'pd': 'PER', 'pm': 'PER',\n",
        "                       'G': 'LOC', 'gu': 'LOC', 'gs': 'LOC', 'gc': 'LOC', 'gh': 'LOC', 'gq': 'LOC', 'gl': 'LOC', 'gr': 'LOC', 'gt': 'LOC', 'g_': 'LOC',\n",
        "                       'I': 'ORG', 'if': 'ORG', 'i_': 'ORG', 'ia': 'ORG', 'ic': 'ORG', 'io': 'ORG',\n",
        "                       'O': 'MISC', 'oa': 'MISC', 'or': 'MISC', 'om': 'MISC', 'oe': 'MISC', 'o_': 'MISC', 'op': 'MISC',\n",
        "                       'A': 'MISC', 'ah': 'MISC', 'az': 'MISC', 'a_': 'MISC', 'at': 'MISC',\n",
        "                       'M': 'MISC', 'me': 'MISC', 'mi': 'MISC', 'm_': 'MISC', 'mn': 'MISC', 'ms': 'MISC', \n",
        "                       'N': 'MISC', 'na': 'MISC', 'nb': 'MISC', 'nc': 'MISC', 'n_': 'MISC', 'ni': 'MISC', 'ns': 'MISC', 'no': 'MISC',\n",
        "                       'T': 'MISC', 'td': 'MISC', 'tm': 'MISC', 'ty': 'MISC', 'tf': 'MISC', 't_': 'MISC', 'th': 'MISC',\n",
        "                       '?': 'O', 'cap': 'O', 'lower': 'O', 'upper': 'O', 'f': 'MISC', 'segm': 'O', 's': 'MISC', 'C': 'O'}                                              "
      ],
      "execution_count": 11,
      "outputs": []
    },
    {
      "cell_type": "code",
      "metadata": {
        "id": "uVYj0DZsXKYN"
      },
      "source": [
        "import numpy as np\n",
        "import os, sys, re\n",
        "import time\n",
        "import fasttext\n",
        "import logging\n",
        "import xml.etree.ElementTree as ET\n",
        "import pandas as pd\n",
        "\n",
        "from sklearn.model_selection import train_test_split\n",
        "\n",
        "from tensorflow.keras.preprocessing.sequence import pad_sequences\n",
        "from tensorflow.keras.utils import to_categorical\n",
        "\n",
        "from tensorflow.keras import Sequential, Model, Input\n",
        "from tensorflow.keras.layers import LSTM, Embedding, Dense, TimeDistributed, Dropout, Bidirectional, InputLayer\n",
        "from tensorflow.keras.utils import plot_model\n",
        "from tensorflow.keras.optimizers import Adam\n",
        "from tensorflow.keras.initializers import Constant\n",
        "\n",
        "import matplotlib.pyplot as plt"
      ],
      "execution_count": 12,
      "outputs": []
    },
    {
      "cell_type": "code",
      "metadata": {
        "id": "k_8OyW00X2OD",
        "outputId": "5d4eeba1-82e6-4a13-e1c4-03e49a1ecfe1",
        "colab": {
          "base_uri": "https://localhost:8080/"
        }
      },
      "source": [
        " # This takes ~2 mins.\n",
        " %time embeddings = fasttext.load_model(FASTTEXT_MODEL)"
      ],
      "execution_count": 13,
      "outputs": [
        {
          "output_type": "stream",
          "name": "stdout",
          "text": [
            "CPU times: user 4.18 s, sys: 8.83 s, total: 13 s\n",
            "Wall time: 3min 14s\n"
          ]
        },
        {
          "output_type": "stream",
          "name": "stderr",
          "text": [
            "Warning : `load_model` does not return WordVectorModel or SupervisedModel any more, but a `FastText` object which is very similar.\n"
          ]
        }
      ]
    },
    {
      "cell_type": "markdown",
      "metadata": {
        "id": "1hdxVp7zziZV"
      },
      "source": [
        "## Parsing the CNEC\n",
        "CNEC comes in several format. In this section, we parse the XML structure to obtain a simple format: token / annotation.\n",
        "\n",
        "**Note for advanced students:** We extract also the lemma and POS tag, so you can experiment in your implementation with these additional features. "
      ]
    },
    {
      "cell_type": "code",
      "metadata": {
        "id": "QkTO7Ho0cP2H"
      },
      "source": [
        "tree = ET.parse(NER_CORPUS)\n",
        "ns = {\"pml\":\"http://ufal.mff.cuni.cz/pdt/pml/\"}\n",
        "root = tree.getroot()"
      ],
      "execution_count": 14,
      "outputs": []
    },
    {
      "cell_type": "code",
      "metadata": {
        "id": "EHabZdIocYY4",
        "outputId": "825dce76-fc6d-4900-e358-a3e7e4f959c7",
        "colab": {
          "base_uri": "https://localhost:8080/"
        }
      },
      "source": [
        "sentences = root.find('pml:bundles', namespaces=ns).getchildren()\n",
        "sentences[:2]"
      ],
      "execution_count": 15,
      "outputs": [
        {
          "output_type": "stream",
          "name": "stderr",
          "text": [
            "/usr/local/lib/python3.7/dist-packages/ipykernel_launcher.py:1: DeprecationWarning: This method will be removed in future versions.  Use 'list(elem)' or iteration over elem instead.\n",
            "  \"\"\"Entry point for launching an IPython kernel.\n"
          ]
        },
        {
          "output_type": "execute_result",
          "data": {
            "text/plain": [
              "[<Element '{http://ufal.mff.cuni.cz/pdt/pml/}LM' at 0x7f4e2afb5c50>,\n",
              " <Element '{http://ufal.mff.cuni.cz/pdt/pml/}LM' at 0x7f4e2af552f0>]"
            ]
          },
          "metadata": {},
          "execution_count": 15
        }
      ]
    },
    {
      "cell_type": "code",
      "metadata": {
        "id": "MwhMsUxWf1S4"
      },
      "source": [
        "def parse_ne(ne): # either children or children/LM\n",
        "  ner_dict = {}\n",
        "  ne_type = ne.findall('./pml:ne_type', ns)\n",
        "  ref = ne.findall('./pml:a.rf/pml:LM', ns)\n",
        "  if not ref:\n",
        "    ref = ne.findall('./pml:a.rf', ns)\n",
        "  if ne_type and ref:\n",
        "    for i, n in enumerate(ref):\n",
        "      tag = SIMPLIFICATION_DICT.get(ne_type[0].text, ne_type[0].text)\n",
        "      if tag != 'O':\n",
        "        ner_dict[n.text] = ('B' if i==0 else 'I')+'-'+tag  # IOB markup - experiment with this\n",
        "      else:\n",
        "        ner_dict[n.text] = 'O'\n",
        "  return ner_dict\n",
        "\n",
        "def parse_tokens(tokens, ner): # the a_tree element\n",
        "  ner_dict = {}\n",
        "  for ne in ner.findall('./pml:children', ns):\n",
        "      ner_dict = parse_ne(ne)\n",
        "      if not ner_dict:\n",
        "        for child in ne:\n",
        "          ner_dict.update(parse_ne(child))\n",
        "  token_dict = {}\n",
        "  for token in tokens.findall('.//pml:LM', ns):\n",
        "      token_dict[token.attrib.get('id')] = (token.find('pml:form', ns).text, token.find('pml:lemma', ns).text.split('_')[0].split('-')[0], token.find('pml:tag', ns).text[0])\n",
        "\n",
        "  return [(t[0], t[1], t[2], 'O') if k not in ner_dict.keys() else (t[0], t[1], t[2], ner_dict[k]) for k, t in token_dict.items()] "
      ],
      "execution_count": 16,
      "outputs": []
    },
    {
      "cell_type": "code",
      "metadata": {
        "id": "WqY3su5bezd7",
        "outputId": "e2f092dd-4b4e-480d-feb1-5e817302dba3",
        "colab": {
          "base_uri": "https://localhost:8080/"
        }
      },
      "source": [
        "def parse_sentence(sentence): #\n",
        "    tokens = sentence.find('.//pml:a_tree', namespaces=ns)\n",
        "    ner = sentence.find('.//pml:n_tree', namespaces=ns)\n",
        "    markup = parse_tokens(tokens, ner)\n",
        "    return markup\n",
        "\n",
        "markup = parse_sentence(sentences[10])\n",
        "markup"
      ],
      "execution_count": 17,
      "outputs": [
        {
          "output_type": "execute_result",
          "data": {
            "text/plain": [
              "[('Marně', 'marně', 'D', 'O'),\n",
              " ('pak', 'pak', 'D', 'O'),\n",
              " ('argumentoval', 'argumentovat', 'V', 'O'),\n",
              " (',', ',', 'Z', 'O'),\n",
              " ('že', 'že', 'J', 'O'),\n",
              " ('Jezevec', 'jezevec', 'N', 'B-PER'),\n",
              " ('tam', 'tam', 'D', 'O'),\n",
              " ('byl', 'být', 'V', 'O'),\n",
              " ('taky', 'také', 'D', 'O'),\n",
              " ('sám', 'sám', 'P', 'O'),\n",
              " (',', ',', 'Z', 'O'),\n",
              " ('málo', 'málo', 'D', 'O'),\n",
              " ('platné', 'platný', 'A', 'O'),\n",
              " (',', ',', 'Z', 'O'),\n",
              " ('Kája', 'Kája', 'N', 'B-PER'),\n",
              " ('a', 'a', 'J', 'O'),\n",
              " ('nebyl', 'být', 'V', 'O'),\n",
              " ('soudruh', 'soudruh', 'N', 'O'),\n",
              " ('Jezevec', 'jezevec', 'N', 'B-PER'),\n",
              " (',', ',', 'Z', 'O'),\n",
              " ('dozor', 'dozor', 'N', 'O'),\n",
              " ('z', 'z', 'R', 'O'),\n",
              " ('ministerstva', 'ministerstvo', 'N', 'O'),\n",
              " ('a', 'a', 'J', 'O'),\n",
              " ('příležitostný', 'příležitostný', 'A', 'O'),\n",
              " ('milenec', 'milenec', 'N', 'O'),\n",
              " ('Vavrouškové', 'Vavroušková', 'N', 'B-PER'),\n",
              " ('Miluše', 'Miluše', 'N', 'I-PER'),\n",
              " ('.', '.', 'Z', 'O')]"
            ]
          },
          "metadata": {},
          "execution_count": 17
        }
      ]
    },
    {
      "cell_type": "code",
      "metadata": {
        "id": "B_M8mO-FtGRY"
      },
      "source": [
        "data = {}\n",
        "markup = []\n",
        "num = []\n",
        "for i, sentence in enumerate(sentences):\n",
        "  p = parse_sentence(sentence)\n",
        "  markup += p\n",
        "  num += ([i]*len(p))\n",
        "data.update({'Sentence #': num, 'Word': [m[0] for m in markup], 'Lemma': [m[1] for m in markup], 'POS': [m[2] for m in markup], 'Tag': [m[3] for m in markup]})"
      ],
      "execution_count": 18,
      "outputs": []
    },
    {
      "cell_type": "code",
      "metadata": {
        "id": "yRUr2DZeur-E",
        "outputId": "75ea25d2-a159-496f-dc25-1a03635192ac",
        "colab": {
          "base_uri": "https://localhost:8080/",
          "height": 424
        }
      },
      "source": [
        "df = pd.DataFrame(data)\n",
        "df"
      ],
      "execution_count": 19,
      "outputs": [
        {
          "output_type": "execute_result",
          "data": {
            "text/html": [
              "<div>\n",
              "<style scoped>\n",
              "    .dataframe tbody tr th:only-of-type {\n",
              "        vertical-align: middle;\n",
              "    }\n",
              "\n",
              "    .dataframe tbody tr th {\n",
              "        vertical-align: top;\n",
              "    }\n",
              "\n",
              "    .dataframe thead th {\n",
              "        text-align: right;\n",
              "    }\n",
              "</style>\n",
              "<table border=\"1\" class=\"dataframe\">\n",
              "  <thead>\n",
              "    <tr style=\"text-align: right;\">\n",
              "      <th></th>\n",
              "      <th>Sentence #</th>\n",
              "      <th>Word</th>\n",
              "      <th>Lemma</th>\n",
              "      <th>POS</th>\n",
              "      <th>Tag</th>\n",
              "    </tr>\n",
              "  </thead>\n",
              "  <tbody>\n",
              "    <tr>\n",
              "      <th>0</th>\n",
              "      <td>0</td>\n",
              "      <td>Jste</td>\n",
              "      <td>být</td>\n",
              "      <td>V</td>\n",
              "      <td>O</td>\n",
              "    </tr>\n",
              "    <tr>\n",
              "      <th>1</th>\n",
              "      <td>0</td>\n",
              "      <td>světa</td>\n",
              "      <td>svět</td>\n",
              "      <td>N</td>\n",
              "      <td>O</td>\n",
              "    </tr>\n",
              "    <tr>\n",
              "      <th>2</th>\n",
              "      <td>0</td>\n",
              "      <td>znalý</td>\n",
              "      <td>znalý</td>\n",
              "      <td>A</td>\n",
              "      <td>O</td>\n",
              "    </tr>\n",
              "    <tr>\n",
              "      <th>3</th>\n",
              "      <td>0</td>\n",
              "      <td>muž</td>\n",
              "      <td>muž</td>\n",
              "      <td>N</td>\n",
              "      <td>O</td>\n",
              "    </tr>\n",
              "    <tr>\n",
              "      <th>4</th>\n",
              "      <td>0</td>\n",
              "      <td>a</td>\n",
              "      <td>a</td>\n",
              "      <td>J</td>\n",
              "      <td>O</td>\n",
              "    </tr>\n",
              "    <tr>\n",
              "      <th>...</th>\n",
              "      <td>...</td>\n",
              "      <td>...</td>\n",
              "      <td>...</td>\n",
              "      <td>...</td>\n",
              "      <td>...</td>\n",
              "    </tr>\n",
              "    <tr>\n",
              "      <th>200138</th>\n",
              "      <td>8992</td>\n",
              "      <td>psala</td>\n",
              "      <td>psát</td>\n",
              "      <td>V</td>\n",
              "      <td>O</td>\n",
              "    </tr>\n",
              "    <tr>\n",
              "      <th>200139</th>\n",
              "      <td>8992</td>\n",
              "      <td>Ellian</td>\n",
              "      <td>Ellian</td>\n",
              "      <td>X</td>\n",
              "      <td>B-PER</td>\n",
              "    </tr>\n",
              "    <tr>\n",
              "      <th>200140</th>\n",
              "      <td>8992</td>\n",
              "      <td>Mac</td>\n",
              "      <td>Macintosh</td>\n",
              "      <td>N</td>\n",
              "      <td>I-PER</td>\n",
              "    </tr>\n",
              "    <tr>\n",
              "      <th>200141</th>\n",
              "      <td>8992</td>\n",
              "      <td>Gregor</td>\n",
              "      <td>Gregor</td>\n",
              "      <td>N</td>\n",
              "      <td>I-PER</td>\n",
              "    </tr>\n",
              "    <tr>\n",
              "      <th>200142</th>\n",
              "      <td>8992</td>\n",
              "      <td>!</td>\n",
              "      <td>!</td>\n",
              "      <td>Z</td>\n",
              "      <td>O</td>\n",
              "    </tr>\n",
              "  </tbody>\n",
              "</table>\n",
              "<p>200143 rows × 5 columns</p>\n",
              "</div>"
            ],
            "text/plain": [
              "        Sentence #    Word      Lemma POS    Tag\n",
              "0                0    Jste        být   V      O\n",
              "1                0   světa       svět   N      O\n",
              "2                0   znalý      znalý   A      O\n",
              "3                0     muž        muž   N      O\n",
              "4                0       a          a   J      O\n",
              "...            ...     ...        ...  ..    ...\n",
              "200138        8992   psala       psát   V      O\n",
              "200139        8992  Ellian     Ellian   X  B-PER\n",
              "200140        8992     Mac  Macintosh   N  I-PER\n",
              "200141        8992  Gregor     Gregor   N  I-PER\n",
              "200142        8992       !          !   Z      O\n",
              "\n",
              "[200143 rows x 5 columns]"
            ]
          },
          "metadata": {},
          "execution_count": 19
        }
      ]
    },
    {
      "cell_type": "code",
      "metadata": {
        "id": "HsQbEi9F6iAr"
      },
      "source": [
        "sentences = df[\"Sentence #\"].values[-1] + 1"
      ],
      "execution_count": 20,
      "outputs": []
    },
    {
      "cell_type": "code",
      "metadata": {
        "id": "ekToE5dxwSjI"
      },
      "source": [
        "def get_dict_map(data, token_or_tag):\n",
        "    tok2idx = {}\n",
        "    idx2tok = {}\n",
        "    \n",
        "    if token_or_tag == 'token':\n",
        "        vocab = [''] + list(set(data['Word'].to_list()))\n",
        "    elif token_or_tag == 'lemma':\n",
        "        vocab = [''] + list(set(data['Lemma'].to_list()))\n",
        "    elif token_or_tag == 'pos':\n",
        "        vocab = [''] + list(set(data['POS'].to_list()))\n",
        "    else:\n",
        "        vocab = [''] + list(set(data['Tag'].to_list()))\n",
        "    \n",
        "    idx2tok = {idx:tok for  idx, tok in enumerate(vocab)}\n",
        "    tok2idx = {tok:idx for  idx, tok in enumerate(vocab)}\n",
        "    return tok2idx, idx2tok\n",
        "\n",
        "\n",
        "token2idx, idx2token = get_dict_map(df, 'token')\n",
        "lemma2idx, idx2lemma = get_dict_map(df, 'lemma')\n",
        "pos2idx, idx2pos = get_dict_map(df, 'pos')\n",
        "tag2idx, idx2tag = get_dict_map(df, 'tag')"
      ],
      "execution_count": 21,
      "outputs": []
    },
    {
      "cell_type": "code",
      "metadata": {
        "id": "BhHM0cuIHwUI",
        "outputId": "75d6e804-2095-4ead-a03d-bfe4ca45a421",
        "colab": {
          "base_uri": "https://localhost:8080/"
        }
      },
      "source": [
        "tag2idx"
      ],
      "execution_count": 22,
      "outputs": [
        {
          "output_type": "execute_result",
          "data": {
            "text/plain": [
              "{'': 0,\n",
              " 'B-LOC': 4,\n",
              " 'B-MISC': 8,\n",
              " 'B-ORG': 2,\n",
              " 'B-PER': 7,\n",
              " 'I-LOC': 5,\n",
              " 'I-MISC': 1,\n",
              " 'I-ORG': 6,\n",
              " 'I-PER': 9,\n",
              " 'O': 3}"
            ]
          },
          "metadata": {},
          "execution_count": 22
        }
      ]
    },
    {
      "cell_type": "code",
      "metadata": {
        "id": "ze5Q8xiowdEW",
        "outputId": "e6f8a343-2ee9-407e-d74b-a17cb68d1de3",
        "colab": {
          "base_uri": "https://localhost:8080/",
          "height": 424
        }
      },
      "source": [
        "df['Word_idx'] = df['Word'].map(token2idx)\n",
        "df['Tag_idx'] = df['Tag'].map(tag2idx)\n",
        "df['Lemma_idx'] = df['Lemma'].map(lemma2idx)\n",
        "df['Pos_idx'] = df['POS'].map(pos2idx)\n",
        "\n",
        "df"
      ],
      "execution_count": 23,
      "outputs": [
        {
          "output_type": "execute_result",
          "data": {
            "text/html": [
              "<div>\n",
              "<style scoped>\n",
              "    .dataframe tbody tr th:only-of-type {\n",
              "        vertical-align: middle;\n",
              "    }\n",
              "\n",
              "    .dataframe tbody tr th {\n",
              "        vertical-align: top;\n",
              "    }\n",
              "\n",
              "    .dataframe thead th {\n",
              "        text-align: right;\n",
              "    }\n",
              "</style>\n",
              "<table border=\"1\" class=\"dataframe\">\n",
              "  <thead>\n",
              "    <tr style=\"text-align: right;\">\n",
              "      <th></th>\n",
              "      <th>Sentence #</th>\n",
              "      <th>Word</th>\n",
              "      <th>Lemma</th>\n",
              "      <th>POS</th>\n",
              "      <th>Tag</th>\n",
              "      <th>Word_idx</th>\n",
              "      <th>Tag_idx</th>\n",
              "      <th>Lemma_idx</th>\n",
              "      <th>Pos_idx</th>\n",
              "    </tr>\n",
              "  </thead>\n",
              "  <tbody>\n",
              "    <tr>\n",
              "      <th>0</th>\n",
              "      <td>0</td>\n",
              "      <td>Jste</td>\n",
              "      <td>být</td>\n",
              "      <td>V</td>\n",
              "      <td>O</td>\n",
              "      <td>28150</td>\n",
              "      <td>3</td>\n",
              "      <td>6120</td>\n",
              "      <td>9</td>\n",
              "    </tr>\n",
              "    <tr>\n",
              "      <th>1</th>\n",
              "      <td>0</td>\n",
              "      <td>světa</td>\n",
              "      <td>svět</td>\n",
              "      <td>N</td>\n",
              "      <td>O</td>\n",
              "      <td>32298</td>\n",
              "      <td>3</td>\n",
              "      <td>19918</td>\n",
              "      <td>5</td>\n",
              "    </tr>\n",
              "    <tr>\n",
              "      <th>2</th>\n",
              "      <td>0</td>\n",
              "      <td>znalý</td>\n",
              "      <td>znalý</td>\n",
              "      <td>A</td>\n",
              "      <td>O</td>\n",
              "      <td>5861</td>\n",
              "      <td>3</td>\n",
              "      <td>3401</td>\n",
              "      <td>12</td>\n",
              "    </tr>\n",
              "    <tr>\n",
              "      <th>3</th>\n",
              "      <td>0</td>\n",
              "      <td>muž</td>\n",
              "      <td>muž</td>\n",
              "      <td>N</td>\n",
              "      <td>O</td>\n",
              "      <td>36851</td>\n",
              "      <td>3</td>\n",
              "      <td>21129</td>\n",
              "      <td>5</td>\n",
              "    </tr>\n",
              "    <tr>\n",
              "      <th>4</th>\n",
              "      <td>0</td>\n",
              "      <td>a</td>\n",
              "      <td>a</td>\n",
              "      <td>J</td>\n",
              "      <td>O</td>\n",
              "      <td>51066</td>\n",
              "      <td>3</td>\n",
              "      <td>29352</td>\n",
              "      <td>4</td>\n",
              "    </tr>\n",
              "    <tr>\n",
              "      <th>...</th>\n",
              "      <td>...</td>\n",
              "      <td>...</td>\n",
              "      <td>...</td>\n",
              "      <td>...</td>\n",
              "      <td>...</td>\n",
              "      <td>...</td>\n",
              "      <td>...</td>\n",
              "      <td>...</td>\n",
              "      <td>...</td>\n",
              "    </tr>\n",
              "    <tr>\n",
              "      <th>200138</th>\n",
              "      <td>8992</td>\n",
              "      <td>psala</td>\n",
              "      <td>psát</td>\n",
              "      <td>V</td>\n",
              "      <td>O</td>\n",
              "      <td>47677</td>\n",
              "      <td>3</td>\n",
              "      <td>9273</td>\n",
              "      <td>9</td>\n",
              "    </tr>\n",
              "    <tr>\n",
              "      <th>200139</th>\n",
              "      <td>8992</td>\n",
              "      <td>Ellian</td>\n",
              "      <td>Ellian</td>\n",
              "      <td>X</td>\n",
              "      <td>B-PER</td>\n",
              "      <td>30871</td>\n",
              "      <td>7</td>\n",
              "      <td>17649</td>\n",
              "      <td>6</td>\n",
              "    </tr>\n",
              "    <tr>\n",
              "      <th>200140</th>\n",
              "      <td>8992</td>\n",
              "      <td>Mac</td>\n",
              "      <td>Macintosh</td>\n",
              "      <td>N</td>\n",
              "      <td>I-PER</td>\n",
              "      <td>18817</td>\n",
              "      <td>9</td>\n",
              "      <td>25000</td>\n",
              "      <td>5</td>\n",
              "    </tr>\n",
              "    <tr>\n",
              "      <th>200141</th>\n",
              "      <td>8992</td>\n",
              "      <td>Gregor</td>\n",
              "      <td>Gregor</td>\n",
              "      <td>N</td>\n",
              "      <td>I-PER</td>\n",
              "      <td>4864</td>\n",
              "      <td>9</td>\n",
              "      <td>2845</td>\n",
              "      <td>5</td>\n",
              "    </tr>\n",
              "    <tr>\n",
              "      <th>200142</th>\n",
              "      <td>8992</td>\n",
              "      <td>!</td>\n",
              "      <td>!</td>\n",
              "      <td>Z</td>\n",
              "      <td>O</td>\n",
              "      <td>11617</td>\n",
              "      <td>3</td>\n",
              "      <td>6712</td>\n",
              "      <td>1</td>\n",
              "    </tr>\n",
              "  </tbody>\n",
              "</table>\n",
              "<p>200143 rows × 9 columns</p>\n",
              "</div>"
            ],
            "text/plain": [
              "        Sentence #    Word      Lemma  ... Tag_idx Lemma_idx  Pos_idx\n",
              "0                0    Jste        být  ...       3      6120        9\n",
              "1                0   světa       svět  ...       3     19918        5\n",
              "2                0   znalý      znalý  ...       3      3401       12\n",
              "3                0     muž        muž  ...       3     21129        5\n",
              "4                0       a          a  ...       3     29352        4\n",
              "...            ...     ...        ...  ...     ...       ...      ...\n",
              "200138        8992   psala       psát  ...       3      9273        9\n",
              "200139        8992  Ellian     Ellian  ...       7     17649        6\n",
              "200140        8992     Mac  Macintosh  ...       9     25000        5\n",
              "200141        8992  Gregor     Gregor  ...       9      2845        5\n",
              "200142        8992       !          !  ...       3      6712        1\n",
              "\n",
              "[200143 rows x 9 columns]"
            ]
          },
          "metadata": {},
          "execution_count": 23
        }
      ]
    },
    {
      "cell_type": "code",
      "metadata": {
        "id": "kg7JTgFZ0jSS",
        "outputId": "f867ede3-6c9e-46a7-b60b-c6ae76d9a187",
        "colab": {
          "base_uri": "https://localhost:8080/",
          "height": 504
        }
      },
      "source": [
        "# Fill na\n",
        "df_fillna = df.fillna(method='ffill', axis=0)\n",
        "# Groupby and collect columns\n",
        "df_group = df_fillna.groupby(\n",
        "['Sentence #'],as_index=False\n",
        ")['Word', 'POS', 'Tag', 'Word_idx', 'Tag_idx', 'Lemma_idx', 'Pos_idx'].agg(lambda x: list(x))\n",
        "# Visualise data\n",
        "df_group.head()"
      ],
      "execution_count": 24,
      "outputs": [
        {
          "output_type": "stream",
          "name": "stderr",
          "text": [
            "/usr/local/lib/python3.7/dist-packages/ipykernel_launcher.py:6: FutureWarning: Indexing with multiple keys (implicitly converted to a tuple of keys) will be deprecated, use a list instead.\n",
            "  \n"
          ]
        },
        {
          "output_type": "execute_result",
          "data": {
            "text/html": [
              "<div>\n",
              "<style scoped>\n",
              "    .dataframe tbody tr th:only-of-type {\n",
              "        vertical-align: middle;\n",
              "    }\n",
              "\n",
              "    .dataframe tbody tr th {\n",
              "        vertical-align: top;\n",
              "    }\n",
              "\n",
              "    .dataframe thead th {\n",
              "        text-align: right;\n",
              "    }\n",
              "</style>\n",
              "<table border=\"1\" class=\"dataframe\">\n",
              "  <thead>\n",
              "    <tr style=\"text-align: right;\">\n",
              "      <th></th>\n",
              "      <th>Sentence #</th>\n",
              "      <th>Word</th>\n",
              "      <th>POS</th>\n",
              "      <th>Tag</th>\n",
              "      <th>Word_idx</th>\n",
              "      <th>Tag_idx</th>\n",
              "      <th>Lemma_idx</th>\n",
              "      <th>Pos_idx</th>\n",
              "    </tr>\n",
              "  </thead>\n",
              "  <tbody>\n",
              "    <tr>\n",
              "      <th>0</th>\n",
              "      <td>0</td>\n",
              "      <td>[Jste, světa, znalý, muž, a, víte, stejně, dob...</td>\n",
              "      <td>[V, N, A, N, J, V, D, D, J, P, Z, J, N, R, A, ...</td>\n",
              "      <td>[O, O, O, O, O, O, O, O, O, O, O, O, O, O, O, ...</td>\n",
              "      <td>[28150, 32298, 5861, 36851, 51066, 11802, 1048...</td>\n",
              "      <td>[3, 3, 3, 3, 3, 3, 3, 3, 3, 3, 3, 3, 3, 3, 3, ...</td>\n",
              "      <td>[6120, 19918, 3401, 21129, 29352, 5344, 6053, ...</td>\n",
              "      <td>[9, 5, 12, 5, 4, 9, 7, 7, 4, 10, 1, 4, 5, 8, 1...</td>\n",
              "    </tr>\n",
              "    <tr>\n",
              "      <th>1</th>\n",
              "      <td>1</td>\n",
              "      <td>[byl, z, toho, už, vzteklý, jak, uvázaný, pes,...</td>\n",
              "      <td>[V, R, P, D, A, J, A, N, Z, J, N, R, N, P, D, ...</td>\n",
              "      <td>[O, O, O, O, O, O, O, O, O, O, O, O, O, O, O, ...</td>\n",
              "      <td>[16371, 28760, 4837, 48912, 41486, 30100, 4582...</td>\n",
              "      <td>[3, 3, 3, 3, 3, 3, 3, 3, 3, 3, 3, 3, 3, 3, 3, ...</td>\n",
              "      <td>[6120, 16479, 25006, 28043, 23726, 17217, 2626...</td>\n",
              "      <td>[9, 8, 10, 7, 12, 4, 12, 5, 1, 4, 5, 8, 5, 10,...</td>\n",
              "    </tr>\n",
              "    <tr>\n",
              "      <th>2</th>\n",
              "      <td>2</td>\n",
              "      <td>[I, s, Dubenkou, ,, na, kterou, U, tygra, teď,...</td>\n",
              "      <td>[J, R, N, Z, R, P, R, N, D, V, Z, Z, Z]</td>\n",
              "      <td>[O, O, B-PER, O, O, O, B-ORG, I-ORG, O, O, O, ...</td>\n",
              "      <td>[31502, 25161, 3068, 6370, 30000, 23217, 11772...</td>\n",
              "      <td>[3, 3, 7, 3, 3, 3, 2, 6, 3, 3, 3, 3, 3]</td>\n",
              "      <td>[18237, 14460, 20771, 3709, 17162, 9645, 4705,...</td>\n",
              "      <td>[4, 8, 5, 1, 8, 10, 8, 5, 7, 9, 1, 1, 1]</td>\n",
              "    </tr>\n",
              "    <tr>\n",
              "      <th>3</th>\n",
              "      <td>3</td>\n",
              "      <td>[Hodil, si, kulovnici, přes, rameno, a, vydal,...</td>\n",
              "      <td>[V, P, N, R, N, J, V, P, R, A, A, N, R, N, Z, ...</td>\n",
              "      <td>[O, O, O, O, O, O, O, O, O, O, O, O, O, O, O, ...</td>\n",
              "      <td>[1280, 17097, 6750, 35064, 30031, 51066, 23509...</td>\n",
              "      <td>[3, 3, 3, 3, 3, 3, 3, 3, 3, 3, 3, 3, 3, 3, 3, ...</td>\n",
              "      <td>[23386, 13555, 6092, 20121, 17180, 29352, 2252...</td>\n",
              "      <td>[9, 10, 5, 8, 5, 4, 9, 10, 8, 12, 12, 5, 8, 5,...</td>\n",
              "    </tr>\n",
              "    <tr>\n",
              "      <th>4</th>\n",
              "      <td>4</td>\n",
              "      <td>[Já, je, normálně, nosím, tak, \", -, a, ukázal...</td>\n",
              "      <td>[P, P, D, V, D, Z, Z, J, V, N, N, R, N, A, Z]</td>\n",
              "      <td>[O, O, O, O, O, O, O, O, O, O, O, O, O, O, O]</td>\n",
              "      <td>[34573, 20920, 2878, 45274, 14889, 10295, 3657...</td>\n",
              "      <td>[3, 3, 3, 3, 3, 3, 3, 3, 3, 3, 3, 3, 3, 3, 3]</td>\n",
              "      <td>[11681, 19072, 1693, 16291, 8609, 5938, 1, 293...</td>\n",
              "      <td>[10, 10, 7, 9, 7, 1, 1, 4, 9, 5, 5, 8, 5, 12, 1]</td>\n",
              "    </tr>\n",
              "  </tbody>\n",
              "</table>\n",
              "</div>"
            ],
            "text/plain": [
              "   Sentence #  ...                                            Pos_idx\n",
              "0           0  ...  [9, 5, 12, 5, 4, 9, 7, 7, 4, 10, 1, 4, 5, 8, 1...\n",
              "1           1  ...  [9, 8, 10, 7, 12, 4, 12, 5, 1, 4, 5, 8, 5, 10,...\n",
              "2           2  ...           [4, 8, 5, 1, 8, 10, 8, 5, 7, 9, 1, 1, 1]\n",
              "3           3  ...  [9, 10, 5, 8, 5, 4, 9, 10, 8, 12, 12, 5, 8, 5,...\n",
              "4           4  ...   [10, 10, 7, 9, 7, 1, 1, 4, 9, 5, 5, 8, 5, 12, 1]\n",
              "\n",
              "[5 rows x 8 columns]"
            ]
          },
          "metadata": {},
          "execution_count": 24
        }
      ]
    },
    {
      "cell_type": "markdown",
      "metadata": {
        "id": "KtnYIcrq0KCJ"
      },
      "source": [
        "## Know the data\n",
        "CNEC is composed of 8992 documents (mostly sentences). Below you can see the length histogram (in number of tokens). Most documents have between 5 and 25 tokens."
      ]
    },
    {
      "cell_type": "code",
      "metadata": {
        "id": "kENM0LmQIVpn",
        "outputId": "d3a78547-02c5-4dc7-ccb3-b15cbc767920",
        "colab": {
          "base_uri": "https://localhost:8080/",
          "height": 265
        }
      },
      "source": [
        "%matplotlib inline\n",
        "plt.hist([len(s) for s in df_group['Word_idx']], bins=50) # sentence length histogram\n",
        "plt.show()"
      ],
      "execution_count": 25,
      "outputs": [
        {
          "output_type": "display_data",
          "data": {
            "image/png": "[encoded data removed]",
            "text/plain": [
              "<Figure size 432x288 with 1 Axes>"
            ]
          },
          "metadata": {
            "needs_background": "light"
          }
        }
      ]
    },
    {
      "cell_type": "markdown",
      "metadata": {
        "id": "E2TfuSNv0eYv"
      },
      "source": [
        "## Train/Test Split\n",
        "Although CNEC comes with split data, we decided to split it differently. The corpus is not big enough, so it's better not to use train / dev / test but only train / dev.\n",
        "\n",
        "The output is categorical - it's a number, similar to POS - 1 is not better than 2. We need to encode such output as one-hot encoding. So, e.g. 2 is encoded as [0, 0, 1, 0, 0, 0, ... 0 ] where the length of the vector is the number of different possible categories (in our case, it depends on the level of simplification of the annotations). \n",
        "\n",
        "Since the input of a neural network is a matrix (list of example documents - sequences), we need all our data to be the same length.\n",
        "\n",
        "We use padding for this and pad all examples with zeros to the length of the longest document."
      ]
    },
    {
      "cell_type": "code",
      "metadata": {
        "id": "iDeqr8Gl1qmj",
        "outputId": "f4e86f98-db89-455a-df11-e3b00bddec53",
        "colab": {
          "base_uri": "https://localhost:8080/"
        }
      },
      "source": [
        "def get_pad_train_dev(df_group, df):\n",
        "\n",
        "    #Pad tokens (X var)    \n",
        "    tokens = df_group['Word_idx'].tolist()\n",
        "    maxlen = max([len(s) for s in df_group['Word_idx']])\n",
        "    pad_tokens = pad_sequences(tokens, maxlen=maxlen, dtype='int32', padding='post', value= token2idx[\"\"])\n",
        "\n",
        "    #Pad Tags (y var) and convert it into one hot encoding\n",
        "    tags = df_group['Tag_idx'].tolist()\n",
        "    pad_tags = pad_sequences(tags, maxlen=maxlen, dtype='int32', padding='post', value= tag2idx[\"O\"])\n",
        "    n_tags = len(tag2idx)\n",
        "    pad_tags_ = [to_categorical(i, num_classes=n_tags) for i in pad_tags]\n",
        "    \n",
        "    #Split train and dev set\n",
        "    train_tokens, dev_tokens, train_tags, dev_tags = train_test_split(pad_tokens, pad_tags_, test_size = 0.1, train_size =0.9, random_state=42)\n",
        "\n",
        "    print(\n",
        "        'train_tokens length:', len(train_tokens),\n",
        "        '\\ndev_tokens length:', len(dev_tokens),\n",
        "        '\\ntrain_tags:', len(train_tags),\n",
        "        '\\ndev_tags:', len(dev_tags),\n",
        "    )\n",
        "    \n",
        "    return np.array(train_tokens), np.array(dev_tokens), np.array(train_tags), np.array(dev_tags)\n",
        "\n",
        "train_tokens_, dev_tokens_, train_tags_, dev_tags_ = get_pad_train_dev(df_group, df)"
      ],
      "execution_count": 26,
      "outputs": [
        {
          "output_type": "stream",
          "name": "stdout",
          "text": [
            "train_tokens length: 8093 \n",
            "dev_tokens length: 900 \n",
            "train_tags: 8093 \n",
            "dev_tags: 900\n"
          ]
        }
      ]
    },
    {
      "cell_type": "code",
      "metadata": {
        "id": "6B_O-4H-m8_0",
        "outputId": "e8c77cd5-93b1-4de9-c6ad-b2f45f818200",
        "colab": {
          "base_uri": "https://localhost:8080/"
        }
      },
      "source": [
        "train_tokens_.shape, train_tags_.shape"
      ],
      "execution_count": 27,
      "outputs": [
        {
          "output_type": "execute_result",
          "data": {
            "text/plain": [
              "((8093, 116), (8093, 116, 10))"
            ]
          },
          "metadata": {},
          "execution_count": 27
        }
      ]
    },
    {
      "cell_type": "markdown",
      "metadata": {
        "id": "RKI9dPBt1ObG"
      },
      "source": [
        "This is how the data can be converted back to human-readable form."
      ]
    },
    {
      "cell_type": "code",
      "metadata": {
        "id": "OGSqX8OQM0-C",
        "outputId": "40bd3c7c-5c71-42eb-8700-4930d28e453f",
        "colab": {
          "base_uri": "https://localhost:8080/"
        }
      },
      "source": [
        "[(idx2token[x], idx2tag[np.argmax(y)]) for x, y in zip(train_tokens_[103], train_tags_[103]) if idx2token[x]]"
      ],
      "execution_count": 28,
      "outputs": [
        {
          "output_type": "execute_result",
          "data": {
            "text/plain": [
              "[('Nejžádanější', 'O'),\n",
              " ('knihy', 'O'),\n",
              " ('minulého', 'O'),\n",
              " ('týdne', 'O'),\n",
              " ('ve', 'O'),\n",
              " ('vybraných', 'O'),\n",
              " ('knihkupectvích', 'O'),\n",
              " ('v', 'O'),\n",
              " ('okresech', 'O'),\n",
              " ('Kroměříž', 'B-LOC'),\n",
              " (',', 'O'),\n",
              " ('Uherské', 'B-LOC'),\n",
              " ('Hradiště', 'I-LOC'),\n",
              " (',', 'O'),\n",
              " ('Vsetín', 'B-LOC'),\n",
              " ('a', 'O'),\n",
              " ('Zlín', 'B-LOC'),\n",
              " (':', 'O')]"
            ]
          },
          "metadata": {},
          "execution_count": 28
        }
      ]
    },
    {
      "cell_type": "markdown",
      "metadata": {
        "id": "2mp5Iz_f1TJm"
      },
      "source": [
        "Neural Network Parameters"
      ]
    },
    {
      "cell_type": "code",
      "metadata": {
        "id": "zl0mlUsA6Cj9",
        "outputId": "f7b1eee5-2f5a-49c6-a74e-9dd214e974b8",
        "colab": {
          "base_uri": "https://localhost:8080/"
        }
      },
      "source": [
        "input_dim = len(list(set(df['Word'].to_list())))+1 # vocab length + padding\n",
        "output_dim = 64\n",
        "input_length = train_tokens_.shape[1] # max example length\n",
        "n_tags = len(tag2idx)\n",
        "print('input_dim: ', input_dim, '\\noutput_dim: ', output_dim, '\\ninput_length: ', input_length, '\\nn_tags: ', n_tags)"
      ],
      "execution_count": 29,
      "outputs": [
        {
          "output_type": "stream",
          "name": "stdout",
          "text": [
            "input_dim:  51082 \n",
            "output_dim:  64 \n",
            "input_length:  116 \n",
            "n_tags:  10\n"
          ]
        }
      ]
    },
    {
      "cell_type": "code",
      "metadata": {
        "id": "iJtZKXo8t9RF",
        "outputId": "a7d97bb9-ef01-4ea5-8f89-b5154a0c8664",
        "colab": {
          "base_uri": "https://localhost:8080/"
        }
      },
      "source": [
        "# Prepare embedding matrix\n",
        "hits = misses = 0 # in case of FastText all tokens should be covered\n",
        "embedding_matrix = np.zeros((len(token2idx), embeddings.get_dimension()))\n",
        "for word, i in token2idx.items():\n",
        "    embedding_vector = embeddings[word]\n",
        "    if embedding_vector is not None:\n",
        "        # Words not found in embedding index will be all-zeros.\n",
        "        # This includes the representation for \"padding\" and \"OOV\"\n",
        "        embedding_matrix[i] = embedding_vector\n",
        "        hits += 1\n",
        "    else:\n",
        "        misses += 1\n",
        "print(\"Converted %d words (%d misses)\" % (hits, misses))"
      ],
      "execution_count": 30,
      "outputs": [
        {
          "output_type": "stream",
          "name": "stdout",
          "text": [
            "Converted 51082 words (0 misses)\n"
          ]
        }
      ]
    },
    {
      "cell_type": "markdown",
      "metadata": {
        "id": "DdYg6eBq3vWR"
      },
      "source": [
        "## Neural Network Architecture\n",
        "\n",
        "We use BiLSTM & LSTM with dropouts. You can experiment with this. A larger network does not always bring better results. \n",
        "\n",
        "For the output layer, we use softmax and categorical crossentropy loss - this is the most suitable setting for categorization tasks.\n",
        "\n",
        "In the Embedding layer, we use the FastText weights as inputs. \n",
        "\n",
        "Since the sequences are padded with zeros, it is extremely easy for the net to learn these paddings. On the other hand, this information is not useful in the evaluation. For this reason, we use the masking of zeros, so they do not contribute to the evaluation calculation. (If you switch ``mask_zero`` to ``False``, your net will have 99% accuracy without being better than a masked net.\n"
      ]
    },
    {
      "cell_type": "code",
      "metadata": {
        "id": "nbuQe5Aq8voX",
        "outputId": "5bfcc402-fa03-47e1-9256-22af6427ea07",
        "colab": {
          "base_uri": "https://localhost:8080/"
        }
      },
      "source": [
        "model = Sequential()\n",
        "\n",
        "# Add Embedding layer\n",
        "model.add(Embedding(input_dim=input_dim, output_dim=embeddings.get_dimension(), input_length=input_length, embeddings_initializer=Constant(embedding_matrix), trainable=True, mask_zero=True))\n",
        "#model.add(Embedding(input_dim=input_dim, output_dim=output_dim, input_length=input_length, trainable=True, mask_zero=True))\n",
        "\n",
        "model.add(Dropout(0.5))\n",
        "# Add BiLSTM\n",
        "model.add(Bidirectional(LSTM(units=output_dim*2, return_sequences=True), merge_mode = 'concat'))\n",
        "\n",
        "model.add(Dropout(0.5))\n",
        "model.add(LSTM(units=output_dim, return_sequences=True))\n",
        "\n",
        "# Add timeDistributed Layer\n",
        "model.add(TimeDistributed(Dense(n_tags, activation=\"softmax\")))\n",
        "\n",
        "#Optimiser \n",
        "adam = Adam(lr=0.005, beta_1=0.9, beta_2=0.999)\n",
        "\n",
        "# Compile model\n",
        "model.compile(loss='categorical_crossentropy', optimizer=adam, metrics=['accuracy'])\n",
        "#model.compile(loss='sparse_categorical_crossentropy', optimizer=adam, metrics=['accuracy'])\n",
        "\n",
        "model.summary()"
      ],
      "execution_count": 31,
      "outputs": [
        {
          "output_type": "stream",
          "name": "stdout",
          "text": [
            "Model: \"sequential\"\n",
            "_________________________________________________________________\n",
            "Layer (type)                 Output Shape              Param #   \n",
            "=================================================================\n",
            "embedding (Embedding)        (None, 116, 300)          15324600  \n",
            "_________________________________________________________________\n",
            "dropout (Dropout)            (None, 116, 300)          0         \n",
            "_________________________________________________________________\n",
            "bidirectional (Bidirectional (None, 116, 256)          439296    \n",
            "_________________________________________________________________\n",
            "dropout_1 (Dropout)          (None, 116, 256)          0         \n",
            "_________________________________________________________________\n",
            "lstm_1 (LSTM)                (None, 116, 64)           82176     \n",
            "_________________________________________________________________\n",
            "time_distributed (TimeDistri (None, 116, 10)           650       \n",
            "=================================================================\n",
            "Total params: 15,846,722\n",
            "Trainable params: 15,846,722\n",
            "Non-trainable params: 0\n",
            "_________________________________________________________________\n"
          ]
        },
        {
          "output_type": "stream",
          "name": "stderr",
          "text": [
            "/usr/local/lib/python3.7/dist-packages/keras/optimizer_v2/optimizer_v2.py:356: UserWarning: The `lr` argument is deprecated, use `learning_rate` instead.\n",
            "  \"The `lr` argument is deprecated, use `learning_rate` instead.\")\n"
          ]
        }
      ]
    },
    {
      "cell_type": "code",
      "metadata": {
        "id": "wvagsJDk9LRU",
        "outputId": "8693f7c4-012e-4495-ea8f-9eef0dac4625",
        "colab": {
          "base_uri": "https://localhost:8080/",
          "height": 661
        }
      },
      "source": [
        "%matplotlib inline\n",
        "results = pd.DataFrame()\n",
        "plot_model(model)"
      ],
      "execution_count": 32,
      "outputs": [
        {
          "output_type": "execute_result",
          "data": {
            "image/png": "[encoded data removed]",
            "text/plain": [
              "<IPython.core.display.Image object>"
            ]
          },
          "metadata": {},
          "execution_count": 32
        }
      ]
    },
    {
      "cell_type": "markdown",
      "metadata": {
        "id": "4WLSOVzEJ1uD"
      },
      "source": [
        "## Setting the training parameters\n",
        "\n",
        "It is difficult to set all the hyperparameters (parameters of the net + parameters of the training) to perform the best. However, what is worth trying:\n",
        "1. learning rate: larger numbers can speed up the learning but also can cause divergence\n",
        "1. number of epochs: If you observe val_loss/val_accuracy diverge - reduce the number of epochs to prevent overfitting. If the results are not good enough, try to increase the number of epochs - maybe the training didn't finish.\n",
        "1. validation_split: Here, we would need more training examples (we observe a gap between accuracy and val_accuracy), so every example counts. Try increasing the number of training examples."
      ]
    },
    {
      "cell_type": "code",
      "metadata": {
        "id": "5AYaxUhs9Hb2",
        "outputId": "63de5438-7a94-4efd-94a1-890321895ec9",
        "colab": {
          "base_uri": "https://localhost:8080/"
        }
      },
      "source": [
        "# Training: It takes several minutes.\n",
        "hist = model.fit(train_tokens_, train_tags_, batch_size=64, verbose=1, epochs=5, validation_split=0.1)"
      ],
      "execution_count": 33,
      "outputs": [
        {
          "output_type": "stream",
          "name": "stdout",
          "text": [
            "Epoch 1/5\n",
            "114/114 [==============================] - 179s 1s/step - loss: 0.1210 - accuracy: 0.8273 - val_loss: 0.0720 - val_accuracy: 0.8847\n",
            "Epoch 2/5\n",
            "114/114 [==============================] - 162s 1s/step - loss: 0.0524 - accuracy: 0.9116 - val_loss: 0.0530 - val_accuracy: 0.9152\n",
            "Epoch 3/5\n",
            "114/114 [==============================] - 162s 1s/step - loss: 0.0268 - accuracy: 0.9545 - val_loss: 0.0510 - val_accuracy: 0.9217\n",
            "Epoch 4/5\n",
            "114/114 [==============================] - 161s 1s/step - loss: 0.0169 - accuracy: 0.9717 - val_loss: 0.0546 - val_accuracy: 0.9249\n",
            "Epoch 5/5\n",
            "114/114 [==============================] - 164s 1s/step - loss: 0.0111 - accuracy: 0.9815 - val_loss: 0.0584 - val_accuracy: 0.9200\n"
          ]
        }
      ]
    },
    {
      "cell_type": "markdown",
      "metadata": {
        "id": "y8NzC9zg2yjJ"
      },
      "source": [
        "## Sample predictions on the train set\n",
        "\n",
        "Below, you can see predictions on the train set. Not surprisingly, they are correct.\n",
        "\n",
        "**TASK 2** Modify the code to display dev set predictions. Comment on what you see.\n",
        "\n",
        "**OPTIONAL TASK** Evaluate the network on the dev set. What entities are easy to recognize? Which are hard?"
      ]
    },
    {
      "cell_type": "code",
      "metadata": {
        "id": "INV0Z89OVY3z"
      },
      "source": [
        "def print_predictions(tokens, tags, count=10):\n",
        "  i = 0\n",
        "\n",
        "  for sample, annotation in zip(tokens, tags):\n",
        "    ex=sample.reshape((1, sample.shape[0]))\n",
        "    prediction = model.predict(ex)\n",
        "    ner = np.squeeze(np.argmax(prediction, axis=-1)[:len(sample)])\n",
        "    print([(idx2token[x], idx2tag[np.argmax(y)], idx2tag[z]) for x, y, z in zip(sample, annotation, ner) if idx2token[x]])\n",
        "    i += 1\n",
        "    if i == count:\n",
        "      break"
      ],
      "execution_count": 35,
      "outputs": []
    },
    {
      "cell_type": "code",
      "metadata": {
        "id": "9t3iofewWfK-",
        "outputId": "1c99f233-6d7d-47e1-e1df-aa9669b79499",
        "colab": {
          "base_uri": "https://localhost:8080/"
        }
      },
      "source": [
        "print(\"Predicting for train set\")\n",
        "print_predictions(train_tokens_, train_tags_, 10)\n",
        "print(\"Predicting for test set\")\n",
        "print_predictions(dev_tokens_, dev_tags_, 10)"
      ],
      "execution_count": 37,
      "outputs": [
        {
          "output_type": "stream",
          "name": "stdout",
          "text": [
            "Predicting for train set\n",
            "[('A', 'O', 'O'), ('s', 'O', 'O'), ('velkým', 'O', 'O'), ('zájmem', 'O', 'O'), ('si', 'O', 'O'), ('prohlížel', 'O', 'O'), (',', 'O', 'O'), ('jak', 'O', 'O'), ('slavná', 'O', 'O'), ('osoba', 'O', 'O'), ('před', 'O', 'O'), ('ním', 'O', 'O'), ('vypadá', 'O', 'O'), ('.', 'O', 'O')]\n",
            "[('Ne', 'O', 'O'), (',', 'O', 'O'), ('to', 'O', 'O'), ('je', 'O', 'O'), ('špatná', 'O', 'O'), ('odpověď', 'O', 'O'), ('.', 'O', 'O')]\n",
            "[('Jakmile', 'O', 'O'), ('se', 'O', 'O'), ('od', 'O', 'O'), ('něho', 'O', 'O'), ('dílo', 'O', 'O'), ('odpoutá', 'O', 'O'), (',', 'O', 'O'), ('dá', 'O', 'O'), ('znovu', 'O', 'O'), ('zaznít', 'O', 'O'), ('jen', 'O', 'O'), ('nepatrně', 'O', 'O'), ('utlumenému', 'O', 'O'), ('hlasu', 'O', 'O'), ('duše', 'O', 'O'), (',', 'O', 'O'), ('jež', 'O', 'O'), ('byla', 'O', 'O'), ('provždy', 'O', 'O'), ('zbavena', 'O', 'O'), ('naděje', 'O', 'O'), ('.', 'O', 'O')]\n",
            "[('Takové', 'O', 'O'), ('umytí', 'O', 'O'), ('čas', 'O', 'O'), ('od', 'O', 'O'), ('času', 'O', 'O'), ('neškodí', 'O', 'O'), (',', 'O', 'O'), ('ba', 'O', 'O'), ('má', 'O', 'O'), ('i', 'O', 'O'), ('nejeden', 'O', 'O'), ('klad', 'O', 'O'), ('!', 'O', 'O')]\n",
            "[('Zatímco', 'O', 'O'), ('Sukův', 'B-PER', 'B-PER'), ('Klavírní', 'B-MISC', 'B-MISC'), ('kvartet', 'I-MISC', 'I-MISC'), ('a', 'I-MISC', 'I-MISC'), ('moll', 'I-MISC', 'I-MISC'), ('vznikl', 'O', 'O'), ('ve', 'O', 'O'), ('třídě', 'O', 'O'), ('Antonína', 'B-PER', 'B-PER'), ('Dvořáka', 'I-PER', 'I-PER'), (',', 'O', 'O'), ('podnítilo', 'O', 'O'), ('Dvořákův', 'B-PER', 'B-PER'), ('Klavírní', 'B-MISC', 'B-MISC'), ('kvartet', 'I-MISC', 'I-MISC'), ('Es', 'I-MISC', 'I-MISC'), ('dur', 'I-MISC', 'I-MISC'), ('čtyřleté', 'O', 'O'), ('naléhání', 'O', 'O'), ('nakladatele', 'O', 'O'), ('Simrocka', 'B-PER', 'B-PER'), ('.', 'O', 'O')]\n",
            "[('To', 'O', 'O'), ('proto', 'O', 'O'), (',', 'O', 'O'), ('abychom', 'O', 'O'), ('nástrahu', 'O', 'O'), ('se', 'O', 'O'), ('splávkem', 'O', 'O'), ('dohodili', 'O', 'O'), ('i', 'O', 'O'), ('do', 'O', 'O'), ('vzdálenějších', 'O', 'O'), ('míst', 'O', 'O'), ('.', 'O', 'O')]\n",
            "[('Bylo', 'O', 'O'), ('jich', 'O', 'O'), ('mnoho', 'O', 'O'), ('a', 'O', 'O'), ('každý', 'O', 'O'), ('byl', 'O', 'O'), ('něčím', 'O', 'O'), ('zvláštní', 'O', 'O'), ('-', 'O', 'O'), ('způsoby', 'O', 'O'), ('jednání', 'O', 'O'), (',', 'O', 'O'), ('projevem', 'O', 'O'), ('i', 'O', 'O'), ('vzhledem', 'O', 'O'), ('.', 'O', 'O')]\n",
            "[('29', 'B-MISC', 'B-MISC'), ('.', 'I-MISC', 'I-MISC'), ('3', 'I-MISC', 'I-MISC'), ('.', 'I-MISC', 'I-MISC'), ('1899', 'I-MISC', 'I-MISC'), ('se', 'O', 'O'), ('v', 'O', 'O'), ('chudé', 'O', 'O'), ('rolnické', 'O', 'O'), ('rodině', 'O', 'O'), ('poblíž', 'O', 'O'), ('abchazského', 'O', 'O'), ('Suchumi', 'B-LOC', 'B-LOC'), ('narodil', 'O', 'O'), ('LAVRENTIJ', 'B-PER', 'B-PER'), ('PAVLOVIČ', 'I-PER', 'I-PER'), ('BERIJA', 'I-PER', 'I-PER'), ('.', 'O', 'O')]\n",
            "[('Mezi', 'O', 'O'), ('příznivci', 'O', 'O'), ('oddílu', 'O', 'O'), ('se', 'O', 'O'), ('spekuluje', 'O', 'O'), ('o', 'O', 'O'), ('možnosti', 'O', 'O'), ('stěhování', 'O', 'O'), ('oddílu', 'O', 'O'), ('po', 'O', 'O'), ('sezoně', 'O', 'O'), ('do', 'O', 'O'), ('Brna', 'B-LOC', 'B-LOC'), ('anebo', 'O', 'O'), ('do', 'O', 'O'), ('Olomouce', 'B-LOC', 'B-LOC'), ('.', 'O', 'O')]\n",
            "[('Byl', 'O', 'O'), ('z', 'O', 'O'), ('toho', 'O', 'O'), ('naprosto', 'O', 'O'), ('vyveden', 'O', 'O'), ('z', 'O', 'O'), ('míry', 'O', 'O'), ('.', 'O', 'O')]\n",
            "Predicting for test set\n",
            "[('Válka', 'O', 'O'), ('s', 'O', 'O'), ('nepřáteli', 'O', 'I-MISC'), ('Boha', 'B-PER', 'B-PER'), ('je', 'O', 'O'), ('pro', 'O', 'O'), ('ni', 'O', 'O'), ('náboženskou', 'O', 'O'), ('povinností', 'O', 'O'), ('a', 'O', 'O'), ('stát', 'O', 'O'), ('podobný', 'O', 'O'), ('Írán', 'B-LOC', 'B-PER'), ('ajatolláha', 'O', 'O'), ('Chomejního', 'B-PER', 'O'), ('cílem', 'O', 'O'), ('.', 'O', 'O')]\n",
            "[('TÁBOR', 'B-LOC', 'O'), ('-', 'O', 'O'), ('Na', 'O', 'O'), ('operačním', 'O', 'O'), ('sále', 'O', 'O'), ('Okresní', 'B-ORG', 'B-ORG'), ('nemocnice', 'I-ORG', 'I-ORG'), ('v', 'I-ORG', 'I-ORG'), ('Táboře', 'I-ORG', 'I-ORG'), ('z', 'O', 'O'), ('důvodu', 'O', 'O'), ('značného', 'O', 'O'), ('opotřebování', 'O', 'O'), ('naráz', 'O', 'O'), ('odešly', 'O', 'O'), ('dva', 'O', 'O'), ('rentgenologické', 'O', 'O'), ('přístroje.', 'O', 'O')]\n",
            "[('K', 'O', 'O'), ('jejich', 'O', 'O'), ('destrukci', 'O', 'O'), ('je', 'O', 'O'), ('potřebná', 'O', 'O'), ('teplota', 'O', 'O'), ('kolem', 'O', 'O'), ('1500', 'B-MISC', 'B-MISC'), ('oC', 'B-MISC', 'B-MISC'), ('.', 'O', 'O')]\n",
            "[('Referenční', 'O', 'O'), ('hodnoty', 'O', 'O'), ('cO2', 'B-MISC', 'O'), (':', 'O', 'O')]\n",
            "[('\"', 'O', 'O'), ('30', 'B-MISC', 'B-MISC'), ('objektů', 'O', 'O'), (',', 'O', 'O'), ('jako', 'O', 'O'), ('na', 'O', 'O'), ('běžícím', 'O', 'O'), ('pásu', 'O', 'O'), ('\"', 'O', 'O')]\n",
            "[('Na', 'O', 'O'), ('návrh', 'O', 'O'), ('bývalého', 'O', 'O'), ('člena', 'O', 'O'), ('představenstva', 'O', 'O'), ('Miroslava', 'B-PER', 'B-PER'), ('Ševčíka', 'I-PER', 'I-PER'), ('však', 'O', 'O'), ('krajský', 'O', 'O'), ('obchodní', 'O', 'O'), ('soud', 'O', 'O'), ('v', 'O', 'O'), ('polovině', 'O', 'O'), ('července', 'O', 'B-MISC'), ('vydal', 'O', 'O'), ('předběžné', 'O', 'O'), ('opatření', 'O', 'O'), (',', 'O', 'O'), ('v', 'O', 'O'), ('němž', 'O', 'O'), ('se', 'O', 'O'), ('vyslovil', 'O', 'O'), (',', 'O', 'O'), ('že', 'O', 'O'), ('svolání', 'O', 'O'), ('mimořádné', 'O', 'O'), ('hromady', 'O', 'O'), ('je', 'O', 'O'), ('neplatné', 'O', 'O'), ('.', 'O', 'O')]\n",
            "[('Snažila', 'O', 'O'), ('se', 'O', 'O'), ('proti', 'O', 'O'), ('tomu', 'O', 'O'), ('bojovat', 'O', 'O'), (',', 'O', 'O'), ('stejně', 'O', 'O'), ('jako', 'O', 'O'), ('bojovala', 'O', 'O'), ('proti', 'O', 'O'), ('pocitu', 'O', 'O'), ('ponížení', 'O', 'O'), ('.', 'O', 'O')]\n",
            "[('U', 'O', 'O'), ('zaměstnaných', 'O', 'O'), ('připadá', 'O', 'O'), ('na', 'O', 'O'), ('osoby', 'O', 'O'), ('ve', 'O', 'O'), ('věku', 'O', 'O'), ('do', 'O', 'O'), ('45', 'B-MISC', 'B-MISC'), ('let', 'O', 'O'), ('v', 'O', 'O'), ('tomto', 'O', 'O'), ('kraji', 'O', 'O'), ('63,5', 'B-MISC', 'B-MISC'), ('%', 'O', 'O'), ('(', 'O', 'O'), ('celostátně', 'O', 'O'), ('61,3', 'B-MISC', 'B-MISC'), ('%', 'O', 'O'), (')', 'O', 'O'), (',', 'O', 'O'), ('u', 'O', 'O'), ('nezaměstnaných', 'O', 'O'), ('73,4', 'B-MISC', 'B-MISC'), ('%', 'O', 'O'), ('(', 'O', 'O'), ('celostátně', 'O', 'O'), ('72,9', 'B-MISC', 'B-MISC'), ('%', 'O', 'O'), (')', 'O', 'O'), ('.', 'O', 'O')]\n",
            "[('Utrpení', 'O', 'O'), ('bylo', 'O', 'O'), ('považováno', 'O', 'O'), ('za', 'O', 'O'), ('součást', 'O', 'O'), ('lidské', 'O', 'O'), ('přirozenosti', 'O', 'O'), (':', 'O', 'O'), ('když', 'O', 'O'), ('se', 'O', 'O'), ('lidé', 'O', 'O'), ('stále', 'O', 'O'), ('více', 'O', 'O'), ('zabývali', 'O', 'O'), ('svou', 'O', 'O'), ('duší', 'O', 'O'), (',', 'O', 'O'), ('zanedbávali', 'O', 'O'), ('své', 'O', 'O'), ('tělo', 'O', 'O'), (',', 'O', 'O'), ('medicína', 'O', 'O'), ('se', 'O', 'O'), ('stala', 'O', 'O'), ('předmětem', 'O', 'O'), ('víry', 'O', 'O'), ('a', 'O', 'O'), ('recepty', 'O', 'O'), ('se', 'O', 'O'), ('změnily', 'O', 'O'), ('v', 'O', 'O'), ('modlitby', 'O', 'O'), ('.', 'O', 'O')]\n",
            "[('Kvůli', 'O', 'O'), ('atentátu', 'O', 'O'), ('přišla', 'O', 'O'), ('o', 'O', 'O'), ('dalšího', 'O', 'O'), ('člena', 'O', 'O'), ('rodiny', 'O', 'O'), ('-', 'O', 'O'), ('o', 'O', 'O'), ('švagra', 'O', 'O'), ('Roberta', 'B-PER', 'B-PER'), (',', 'O', 'O'), ('a', 'O', 'O'), ('začala', 'O', 'O'), ('se', 'O', 'O'), ('bát', 'O', 'O'), (',', 'O', 'O'), ('že', 'O', 'O'), ('další', 'O', 'O'), ('na', 'O', 'O'), ('řadě', 'O', 'O'), ('jsou', 'O', 'O'), ('její', 'O', 'O'), ('děti', 'O', 'O'), ('.', 'O', 'O')]\n"
          ]
        }
      ]
    },
    {
      "cell_type": "code",
      "metadata": {
        "id": "gWGRKtdrX3Fi"
      },
      "source": [
        "def print_wrong_predictions(tokens, tags, count=10):\n",
        "  i = 0\n",
        "\n",
        "  for sample, annotation in zip(tokens, tags):\n",
        "    ex=sample.reshape((1, sample.shape[0]))\n",
        "    prediction = model.predict(ex)\n",
        "    ner = np.squeeze(np.argmax(prediction, axis=-1)[:len(sample)])\n",
        "    print([(idx2token[x], idx2tag[np.argmax(y)], idx2tag[z]) for x, y, z in zip(sample, annotation, ner) if (idx2token[x] and idx2tag[np.argmax(y)] != idx2tag[z])])\n",
        "    i += 1\n",
        "    if i == count:\n",
        "      break"
      ],
      "execution_count": 42,
      "outputs": []
    },
    {
      "cell_type": "code",
      "metadata": {
        "id": "xhwy9vVmYV97",
        "outputId": "cfba4be2-1439-4f8f-8bad-5fad10096faf",
        "colab": {
          "base_uri": "https://localhost:8080/"
        }
      },
      "source": [
        "print_wrong_predictions(dev_tokens_, dev_tags_, 10)"
      ],
      "execution_count": 43,
      "outputs": [
        {
          "output_type": "stream",
          "name": "stdout",
          "text": [
            "[('nepřáteli', 'O', 'I-MISC'), ('Írán', 'B-LOC', 'B-PER'), ('Chomejního', 'B-PER', 'O')]\n",
            "[('TÁBOR', 'B-LOC', 'O')]\n",
            "[]\n",
            "[('cO2', 'B-MISC', 'O')]\n",
            "[]\n",
            "[('července', 'O', 'B-MISC')]\n",
            "[]\n",
            "[]\n",
            "[]\n",
            "[]\n"
          ]
        }
      ]
    },
    {
      "cell_type": "markdown",
      "metadata": {
        "id": "SAcKba2M3J3M"
      },
      "source": [
        "## Try on your own sentences\n",
        "\n",
        "Some entities are easier to recognize than others.\n",
        "\n",
        "**TASK 3** Experiment on sentences with different types of entities, OOVs etc. Comment on what you see."
      ]
    },
    {
      "cell_type": "code",
      "metadata": {
        "id": "eXkccVbftiJJ",
        "outputId": "8f7fbbd1-83a2-4b61-b6a4-e26140a82321",
        "colab": {
          "base_uri": "https://localhost:8080/"
        }
      },
      "source": [
        "my_sentence = \"Ahoj , já jsem Pepa Tichošlápek z Brna .\"\n",
        "encoded = [token2idx.get(t, 0) for t in my_sentence.split()] + [0] * input_length\n",
        "print(\"OOV:\", [t for t in my_sentence.split() if t not in token2idx])\n",
        "encoded = encoded[:input_length]\n",
        "\n",
        "sample = np.array(encoded).reshape((1, input_length))\n",
        "prediction = model.predict(sample)\n",
        "ner = np.squeeze(np.argmax(prediction, axis=-1)[:len(my_sentence.split())])\n",
        "print([(t, idx2tag[n]) for t, n in zip(my_sentence.split(), ner)])"
      ],
      "execution_count": 38,
      "outputs": [
        {
          "output_type": "stream",
          "name": "stdout",
          "text": [
            "OOV: ['Tichošlápek']\n",
            "[('Ahoj', 'O'), (',', 'O'), ('já', 'O'), ('jsem', 'O'), ('Pepa', 'B-PER'), ('Tichošlápek', 'B-PER'), ('z', 'O'), ('Brna', 'B-LOC'), ('.', 'O')]\n"
          ]
        }
      ]
    }
  ]
}