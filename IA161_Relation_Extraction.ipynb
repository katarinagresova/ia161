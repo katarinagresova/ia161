{
  "nbformat": 4,
  "nbformat_minor": 0,
  "metadata": {
    "colab": {
      "name": "IA161_Relation_Extraction.ipynb",
      "provenance": [],
      "collapsed_sections": [],
      "authorship_tag": "ABX9TyP1kEWnJbxfVo1f/twigoUx",
      "include_colab_link": true
    },
    "kernelspec": {
      "name": "python3",
      "display_name": "Python 3"
    },
    "language_info": {
      "name": "python"
    }
  },
  "cells": [
    {
      "cell_type": "markdown",
      "metadata": {
        "id": "view-in-github",
        "colab_type": "text"
      },
      "source": [
        "<a href=\"https://colab.research.google.com/github/katarinagresova/ia161/blob/main/IA161_Relation_Extraction.ipynb\" target=\"_parent\"><img src=\"https://colab.research.google.com/assets/colab-badge.svg\" alt=\"Open In Colab\"/></a>"
      ]
    },
    {
      "cell_type": "markdown",
      "metadata": {
        "id": "zpxuk6ys4f_m"
      },
      "source": [
        "This notebook is dealing with very simple relation extraction. On the input, there is file with pair (word|definition) on each line. Output is pair (work = hypernym).\n",
        "\n",
        "Current solution is looking at part of speech tags and takes the first noun as hypernym."
      ]
    },
    {
      "cell_type": "code",
      "metadata": {
        "colab": {
          "base_uri": "https://localhost:8080/"
        },
        "id": "4Fyrg36jwbwB",
        "outputId": "d5c5f9d9-6d24-4455-97be-8b4f53095a11"
      },
      "source": [
        "!wget https://nlp.fi.muni.cz/trac/research/chrome/site/bigdata/ia161-hyper.zip"
      ],
      "execution_count": 1,
      "outputs": [
        {
          "output_type": "stream",
          "name": "stdout",
          "text": [
            "--2021-11-24 11:43:31--  https://nlp.fi.muni.cz/trac/research/chrome/site/bigdata/ia161-hyper.zip\n",
            "Resolving nlp.fi.muni.cz (nlp.fi.muni.cz)... 147.251.51.11\n",
            "Connecting to nlp.fi.muni.cz (nlp.fi.muni.cz)|147.251.51.11|:443... connected.\n",
            "HTTP request sent, awaiting response... 200 Ok\n",
            "Length: 2984013 (2.8M) [application/zip]\n",
            "Saving to: ‘ia161-hyper.zip’\n",
            "\n",
            "ia161-hyper.zip     100%[===================>]   2.85M  2.63MB/s    in 1.1s    \n",
            "\n",
            "2021-11-24 11:43:34 (2.63 MB/s) - ‘ia161-hyper.zip’ saved [2984013/2984013]\n",
            "\n"
          ]
        }
      ]
    },
    {
      "cell_type": "code",
      "metadata": {
        "colab": {
          "base_uri": "https://localhost:8080/"
        },
        "id": "RoP7ZOEVwwZs",
        "outputId": "96538385-97d0-4c71-fd22-a3f50d4c4763"
      },
      "source": [
        "!unzip ia161-hyper.zip"
      ],
      "execution_count": 2,
      "outputs": [
        {
          "output_type": "stream",
          "name": "stdout",
          "text": [
            "Archive:  ia161-hyper.zip\n",
            "   creating: ia161-hyper/\n",
            "  inflating: ia161-hyper/vstup.txt   \n",
            "   creating: ia161-hyper/majka/\n",
            "  inflating: ia161-hyper/majka/majka.w-lt  \n",
            "  inflating: ia161-hyper/hyper.py    \n"
          ]
        }
      ]
    },
    {
      "cell_type": "code",
      "metadata": {
        "id": "U3Kn_I--39Fz"
      },
      "source": [
        "%cd ia161-hyper"
      ],
      "execution_count": null,
      "outputs": []
    },
    {
      "cell_type": "code",
      "metadata": {
        "colab": {
          "base_uri": "https://localhost:8080/"
        },
        "id": "-bshUgPHw02q",
        "outputId": "848cf79b-ae76-43e2-e6df-7040fbfb40e8"
      },
      "source": [
        "!pip install majka"
      ],
      "execution_count": 3,
      "outputs": [
        {
          "output_type": "stream",
          "name": "stdout",
          "text": [
            "Collecting majka\n",
            "  Downloading majka-0.9.tar.gz (12 kB)\n",
            "Building wheels for collected packages: majka\n",
            "  Building wheel for majka (setup.py) ... \u001b[?25l\u001b[?25hdone\n",
            "  Created wheel for majka: filename=majka-0.9-cp37-cp37m-linux_x86_64.whl size=71500 sha256=6b8d6e5c91c6cff1ccdf1cf229f02d2394eb43bbda23d7e682b8b0e5b8f5fa47\n",
            "  Stored in directory: /root/.cache/pip/wheels/64/e1/58/cda56ec103aca012de2a46c5b689d1e5043664426515d6e74e\n",
            "Successfully built majka\n",
            "Installing collected packages: majka\n",
            "Successfully installed majka-0.9\n"
          ]
        }
      ]
    },
    {
      "cell_type": "code",
      "metadata": {
        "id": "_kbh6Orm3wPR"
      },
      "source": [
        "import re\n",
        "import sys\n",
        "import string\n",
        "import majka\n",
        "\n",
        "majka = majka.Majka(\"majka/majka.w-lt\")\n",
        "\n",
        "def has_pos(word, pos):\n",
        "\ttags = majka.find(word)\n",
        "\t#print(tags)\n",
        "\tmatch = [x for x in tags if x and x['tags'] and x['tags']['pos'] == pos]\n",
        "\tif len(match) > 0 and len(match) == len(tags):\n",
        "\t\treturn match[0]['lemma']\n",
        "\telse:\n",
        "\t\treturn False\n",
        "\n",
        "def find_hyper(word, text):\n",
        "\ttext = re.sub('[(),]', '', text)\n",
        "\tfor w in text.split():\n",
        "\t\tlemma = has_pos(w, 'substantive')\n",
        "\t\tif lemma:\n",
        "\t\t\treturn (word,lemma)\n",
        "\treturn (word,u'')\n",
        "\n",
        "\n",
        "def extract():\n",
        "\tvstup = 'vstup.txt'\n",
        "\tfor line in open(vstup, 'r'):\n",
        "\t\tif line.strip() != '':\n",
        "\t\t\tline_split = line.strip().split('|')\n",
        "\t\t\thyper = find_hyper(line_split[0], line_split[1])\n",
        "\t\t\tprint(\"%s = %s\" % hyper)"
      ],
      "execution_count": 16,
      "outputs": []
    },
    {
      "cell_type": "code",
      "metadata": {
        "colab": {
          "base_uri": "https://localhost:8080/"
        },
        "id": "zI4dmwzS5NP5",
        "outputId": "25bea8e5-81c4-4598-bb88-c4b8f0fd35e9"
      },
      "source": [
        "!cat vstup.txt"
      ],
      "execution_count": 18,
      "outputs": [
        {
          "output_type": "stream",
          "name": "stdout",
          "text": [
            "židle|přenosný kus nábytku (s opěradlem) k sezení pro jednu osobu\n",
            "stůl|kus nábytku tvořený (vodorovnou) deskou na nohách n. na podstavci\n",
            "růže|ostnitý keř se zpeřenými listy a s velkými vonnými květy růz. barev\n",
            "bylina|rostlina s nedřevnatým stonkem\n",
            "geografická informační věda|multidisciplinární vědní obor zajišťující rozvoj geoinformačních technologií\n",
            "globografie|část kartografie, která se zabývá zpracováním a vyhotovováním glóbů\n",
            "kartograf|odborný pracovník v kartografii, zabývající se studiem metod a postupů tvorby kartografických děl, jejich projektováním a zpracováním\n",
            "pes|šelma chovaná odpradávna jako pomocník člověka při lovu, k hlídání ap., pes domácí\n",
            "tygr|velká asijská kočkovitá šelma s žlutou, černě pruhovanou srstí\n",
            "hroch|velký africký vodní savec\n",
            "slunečnice|vysoká bylina s velkými úbory žlutých květů, pěstovaná pro olejnaté plody\n",
            "kůň|velký jednokopytník původem ze stepi, člověkem ochočený a užívaný k tahu a k jízdě\n",
            "člověk|nejvyspělejší živá bytost se schopností myšlení a řeči\n",
            "tesař|řemeslník, kt. opracovává dřevo tesáním a staví z něho různé konstrukce\n",
            "nosič|kdo se zaměstnává nošením zavazadel\n",
            "loď|podlouhlé plavidlo s vnitřním prostorem k přepravě osob n. zboží\n",
            "parník|loď poháněná parním strojem n. turbínou\n",
            "buk|statný strom s hladkou stříbrně šedou kůrou, mohutnou korunou a vejčitými listy\n",
            "lípa|strom s mohutnou korunou a se srdčitými listy\n",
            "violka|drobná bylina s modrými, fialovými n. žlutými souměrnými kvítky\n",
            "žirafa|afr. kopytnatec s dlouhým krkem a se skvrnitou srstí\n",
            "klokan|australský vačnatý savec se silně vyvinutými zadními končetinami\n",
            "hlava|horní, popř. přední, řidč. též centrální část těla živočichů (u lidí a u opic kulovitého tvaru)\n",
            "krk|část těla spojující hlavu s trupem\n",
            "včela|společenský hmyz chovaný člověkem pro bohatství medu v plástvích\n",
            "chléb|pečivo z kvašeného těsta vyrobeného z mouky a z vody\n",
            "dort|druh jemného cukrářského pečiva\n",
            "kráva|samice tura domácího chovaná pro mléko\n",
            "los|veliký savec s lopatovitými parohy příbuzný jelenu\n",
            "nos|vyčnívající část obličeje, tvořená z kůstek, chrupavek a kůže\n",
            "kočka|malá kočkovitá šelma, chovaná v domácnostech\n"
          ]
        }
      ]
    },
    {
      "cell_type": "code",
      "metadata": {
        "colab": {
          "base_uri": "https://localhost:8080/"
        },
        "id": "eBwctMKAzwWC",
        "outputId": "4a9372cf-2b02-44e5-ed38-01ca30e55a06"
      },
      "source": [
        "extract()"
      ],
      "execution_count": 19,
      "outputs": [
        {
          "output_type": "stream",
          "name": "stdout",
          "text": [
            "židle = nábytek\n",
            "stůl = nábytek\n",
            "růže = keř\n",
            "bylina = rostlina\n",
            "geografická informační věda = obor\n",
            "globografie = část\n",
            "kartograf = pracovník\n",
            "pes = šelma\n",
            "tygr = šelma\n",
            "hroch = savec\n",
            "slunečnice = bylina\n",
            "kůň = jednokopytník\n",
            "člověk = bytost\n",
            "tesař = řemeslník\n",
            "nosič = nošení\n",
            "loď = plavidlo\n",
            "parník = stroj\n",
            "buk = strom\n",
            "lípa = strom\n",
            "violka = bylina\n",
            "žirafa = kopytnatec\n",
            "klokan = savec\n",
            "hlava = část\n",
            "krk = část\n",
            "včela = hmyz\n",
            "chléb = pečivo\n",
            "dort = druh\n",
            "kráva = samice\n",
            "los = savec\n",
            "nos = část\n",
            "kočka = šelma\n"
          ]
        }
      ]
    }
  ]
}