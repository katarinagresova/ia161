{
 "cells": [
  {
   "cell_type": "code",
   "execution_count": 21,
   "metadata": {},
   "outputs": [
    {
     "name": "stdout",
     "output_type": "stream",
     "text": [
      "The autoreload extension is already loaded. To reload it, use:\n",
      "  %reload_ext autoreload\n"
     ]
    }
   ],
   "source": [
    "%load_ext autoreload\n",
    "%autoreload 2"
   ]
  },
  {
   "cell_type": "code",
   "execution_count": 31,
   "metadata": {},
   "outputs": [],
   "source": [
    "from ia161.detector import PlagiarismDetector\n",
    "from pathlib import Path"
   ]
  },
  {
   "cell_type": "code",
   "execution_count": 33,
   "metadata": {},
   "outputs": [],
   "source": [
    "detector = PlagiarismDetector()\n",
    "TEST_RESOURCES_DIR_PATH = Path('./ia161/resources').resolve()\n",
    "detector.parse_input(TEST_RESOURCES_DIR_PATH / 'training_data.vert')\n",
    "detector.length_removal(3)\n",
    "detector._precompute_doc_counts_per_word()"
   ]
  },
  {
   "cell_type": "code",
   "execution_count": 30,
   "metadata": {},
   "outputs": [
    {
     "data": {
      "text/plain": [
       "{'word': {'Reveň': 1,\n",
       "  'kadeřavá': 2,\n",
       "  'Rheum': 1,\n",
       "  'rhabarbarum': 1,\n",
       "  'rostlina': 2,\n",
       "  'náležící': 1,\n",
       "  'rodu': 1,\n",
       "  'reveň': 2,\n",
       "  'čeledi': 1,\n",
       "  'rdesnovité': 1,\n",
       "  'Zničení': 1,\n",
       "  'Železného': 1,\n",
       "  'pasu': 1,\n",
       "  'Předehra': 1,\n",
       "  'Čaroděj': 1,\n",
       "  'Saruman': 1,\n",
       "  'sídlil': 1,\n",
       "  'Železném': 1,\n",
       "  'roku': 1,\n",
       "  '2759': 1,\n",
       "  'kdy': 1,\n",
       "  'tomu': 1,\n",
       "  'dostal': 1,\n",
       "  'povolení': 1,\n",
       "  'gondorského': 1,\n",
       "  'správce': 1,\n",
       "  'Berena': 1,\n",
       "  'Rebarbora': 1,\n",
       "  'Synonyma': 1,\n",
       "  'vlnovitá': 1,\n",
       "  'rebarbora': 1,\n",
       "  'Popis': 1,\n",
       "  'Statná': 1,\n",
       "  'dva': 1,\n",
       "  'metry': 1,\n",
       "  'vysoká': 1,\n",
       "  'vytrvalá': 1,\n",
       "  'dlouhými': 1,\n",
       "  'přízemními': 1,\n",
       "  'listy': 1},\n",
       " 'lemma': {'reveň': 2,\n",
       "  'kadeřavý': 2,\n",
       "  'Rheum': 1,\n",
       "  'rhabarbarum': 1,\n",
       "  'rostlina': 2,\n",
       "  'náležící': 1,\n",
       "  'rod': 1,\n",
       "  'čeleď': 1,\n",
       "  'rdesnovitý': 1,\n",
       "  'zničení': 1,\n",
       "  'železný': 1,\n",
       "  'pasus': 1,\n",
       "  'předehra': 1,\n",
       "  'čaroděj': 1,\n",
       "  'Saruman': 1,\n",
       "  'sídlit': 1,\n",
       "  'rok': 1,\n",
       "  '#num#': 1,\n",
       "  'kdy': 1,\n",
       "  'ten': 1,\n",
       "  'dostat': 1,\n",
       "  'povolení': 1,\n",
       "  'gondorský': 1,\n",
       "  'správce': 1,\n",
       "  'Beren': 1,\n",
       "  'rebarbora': 1,\n",
       "  'synonymum': 1,\n",
       "  'vlnovitý': 1,\n",
       "  'popis': 1,\n",
       "  'statný': 1,\n",
       "  'dva': 1,\n",
       "  'metr': 1,\n",
       "  'vysoký': 1,\n",
       "  'vytrvalý': 1,\n",
       "  'dlouhý': 1,\n",
       "  'přízemní': 1,\n",
       "  'list': 1},\n",
       " 'tag': {'k1gFnSc1': 3,\n",
       "  'k2eAgFnSc1d1': 2,\n",
       "  'k1gInSc1': 1,\n",
       "  'k1gInSc2': 2,\n",
       "  'k1gFnSc3': 1,\n",
       "  'k2eAgFnSc2d1': 1,\n",
       "  'k1gNnSc1': 1,\n",
       "  'k2eAgInSc2d1': 1,\n",
       "  'k1gMnSc1': 1,\n",
       "  'k5eAaImAgMnS': 1,\n",
       "  'k2eAgInSc6d1': 1,\n",
       "  'k1gInSc6': 1,\n",
       "  'k4': 1,\n",
       "  'k8xSwZ': 1,\n",
       "  'k3xDgMnSc3': 1,\n",
       "  'k5eAaPmAgInS': 1,\n",
       "  'k1gNnSc4': 1,\n",
       "  'k2eAgMnSc2d1': 1,\n",
       "  'k1gMnSc2': 1,\n",
       "  'k1gNnSc2': 1,\n",
       "  'k1gFnSc4': 1,\n",
       "  'k2eAgNnPc1d1': 1,\n",
       "  'k1gInSc4': 1,\n",
       "  'k4xCgInPc4': 1,\n",
       "  'k1gInPc4': 1,\n",
       "  'k2eAgInPc7d1': 1,\n",
       "  'k1gInPc7': 1}}"
      ]
     },
     "execution_count": 30,
     "metadata": {},
     "output_type": "execute_result"
    }
   ],
   "source": [
    "detector.doc_counts_per_word"
   ]
  },
  {
   "cell_type": "code",
   "execution_count": 35,
   "metadata": {},
   "outputs": [
    {
     "data": {
      "text/plain": [
       "80"
      ]
     },
     "execution_count": 35,
     "metadata": {},
     "output_type": "execute_result"
    }
   ],
   "source": [
    "len(detector.bag_of_words_docs)"
   ]
  },
  {
   "cell_type": "code",
   "execution_count": 28,
   "metadata": {},
   "outputs": [
    {
     "data": {
      "text/plain": [
       "12.0"
      ]
     },
     "execution_count": 28,
     "metadata": {},
     "output_type": "execute_result"
    }
   ],
   "source": [
    "float(sum(detector.bag_of_words_docs['101']['word'].values()))"
   ]
  }
 ],
 "metadata": {
  "interpreter": {
   "hash": "edaa8aebbeaa5e43900f2f74cdf9029dd2a27e4b075bd97faf16444fa29734fc"
  },
  "kernelspec": {
   "display_name": "Python 3.9.7 64-bit ('venv': venv)",
   "name": "python3"
  },
  "language_info": {
   "codemirror_mode": {
    "name": "ipython",
    "version": 3
   },
   "file_extension": ".py",
   "mimetype": "text/x-python",
   "name": "python",
   "nbconvert_exporter": "python",
   "pygments_lexer": "ipython3",
   "version": "3.9.7"
  },
  "orig_nbformat": 4
 },
 "nbformat": 4,
 "nbformat_minor": 2
}
